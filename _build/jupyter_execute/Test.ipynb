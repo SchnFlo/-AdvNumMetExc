{
 "cells": [
  {
   "cell_type": "markdown",
   "id": "d41e1ca8-05d4-4d62-8b00-9ff40df37e48",
   "metadata": {},
   "source": [
    "::::{grid}\n",
    ":gutter: 2\n",
    "\n",
    ":::{grid-item}\n",
    ":outline:\n",
    "A\n",
    ":::\n",
    ":::{grid-item}\n",
    ":outline:\n",
    "B\n",
    ":::\n",
    ":::{grid-item}\n",
    ":outline:\n",
    "C\n",
    ":::\n",
    ":::{grid-item}\n",
    ":outline:\n",
    "D\n",
    ":::\n",
    "\n",
    "::::"
   ]
  }
 ],
 "metadata": {
  "kernelspec": {
   "display_name": "Python 3 (ipykernel)",
   "language": "python",
   "name": "python3"
  },
  "language_info": {
   "codemirror_mode": {
    "name": "ipython",
    "version": 3
   },
   "file_extension": ".py",
   "mimetype": "text/x-python",
   "name": "python",
   "nbconvert_exporter": "python",
   "pygments_lexer": "ipython3",
   "version": "3.11.6"
  }
 },
 "nbformat": 4,
 "nbformat_minor": 5
}