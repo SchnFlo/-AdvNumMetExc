{
 "cells": [
  {
   "cell_type": "markdown",
   "metadata": {},
   "source": [
    "<body>\n",
    "    <font size=\"2\">Florian Schnabel, 11807470, SS 2023</font><br />\n",
    "</body>"
   ]
  },
  {
   "cell_type": "markdown",
   "metadata": {},
   "source": [
    "# Exercise 4 - Coupled Simulation of latent heat effects"
   ]
  },
  {
   "cell_type": "markdown",
   "metadata": {},
   "source": [
    "This script is an extension of the script elaborated in {numref}`sec:Ex1`. It aims to calculate the temperature and moisture field across a multi-layered building component. Such a multi-layered building component is shown in {numref}`fig:multilayComp`."
   ]
  },
  {
   "cell_type": "markdown",
   "metadata": {},
   "source": [
    "```{figure} ./Figures/BuildingComponent.png\n",
    "---\n",
    "width: 350px\n",
    "name: fig:multilayComp\n",
    "---\n",
    "Multi-layered building component and discretisation requirements [excersise Description]\n",
    "```"
   ]
  },
  {
   "cell_type": "markdown",
   "metadata": {},
   "source": [
    "Unlike in the version shown in {numref}`sec:Ex1` the following restrictions introduced, to reduce the complexity of the coupled problem.\n",
    "* the script is only aplicable to mineral wool\n",
    "* both density and heatcapacity will be kept constant\n",
    "* for the heat conductivity and the vapor diffusion coefficient are linear functions"
   ]
  },
  {
   "cell_type": "markdown",
   "metadata": {},
   "source": [
    "## Balance Equations"
   ]
  },
  {
   "cell_type": "markdown",
   "metadata": {},
   "source": [
    "To consider the latent heat effect the time derivative of the Temperaturefield (seen in {eq}`gl:heatflow`) is expandend by the moisture induced pressure field.  The equation for heat conduction including latent heat effect is shown in {eq}`gl:heatmoist`:\n",
    " \n",
    "$$\\rho \\cdot c \\cdot \\frac{dT}{dt} = \\nabla (\\lambda \\nabla T + L_v \\delta_v \\nabla p_{vap}) $$ (gl:heatmoist)\n",
    "\n",
    "The introduced moisture field is defined by the balance euqation for moisture transport ({eq}`gl:moist`):\n",
    "\n",
    "$$ \\frac{dw}{dt} =  \\nabla (\\delta_v \\nabla p_{vap}) $$\n"
   ]
  },
  {
   "cell_type": "markdown",
   "metadata": {},
   "source": [
    "## Space discretisation"
   ]
  },
  {
   "cell_type": "markdown",
   "metadata": {
    "tags": []
   },
   "source": [
    "The discretisation of ({eq}gl:heatmoist) and ({eq}gl:moist) is done similar to section {numref}`sec:Ex1` using the finite volume method and a representation as RC-Networks. Evaluating for a cell P surrounded by a cell to the east and west results in ({eq}`gl:heatmoistdis`) and ({eq}`gl:moistdis`):"
   ]
  },
  {
   "cell_type": "markdown",
   "metadata": {},
   "source": [
    "$$\\rho \\cdot c \\cdot \\frac{T^{n+1}_P - T^n_P  }{\\Delta t} = \\frac{\\lambda \\cdot ( T^n_E - 2T^n_P + T^n_W) }{\\Delta x^2} + \\frac{L_v \\cdot \\delta_v \\cdot ( p_{vap,E}^n - 2 p_{vap,P}^n +  p_{vap,W}^n) }{\\Delta x^2} $$ (gl:heatmoistdis)"
   ]
  },
  {
   "cell_type": "markdown",
   "metadata": {},
   "source": [
    "$$\\frac{w_{P}^{n+1} - w_{P}^n }{\\Delta t} =\\frac{\\delta_v \\cdot ( p_{vap,E}^n - 2 p_{vap,P}^n +  p_{vap,W}^n) }{\\Delta x^2} $$ (gl:moistdis)"
   ]
  },
  {
   "cell_type": "markdown",
   "metadata": {},
   "source": [
    "or written in matrix notation:"
   ]
  },
  {
   "cell_type": "markdown",
   "metadata": {
    "tags": []
   },
   "source": [
    "$$\\rho \\cdot c \\cdot \\frac{T^{n+1}_P - T^n_P  }{\\Delta t} = \\lambda  \\cdot K \\cdot T + L_v \\cdot \\delta_v  \\cdot M \\cdot p_{vap} $$ (gl:heatmoistdis)"
   ]
  },
  {
   "cell_type": "markdown",
   "metadata": {},
   "source": [
    "Unlike in the version shown in {numref}`sec:Ex1` the conductivity is not included in the $K$ matrix. This leads to a constant conductivity matrix, at the cost of an error at the surface resistance. The conductivity matrix K can therefore be Written as follows:"
   ]
  },
  {
   "cell_type": "markdown",
   "metadata": {},
   "source": [
    "$$ K = \\left [ \n",
    "\\begin{array}{ccccccc}\n",
    "    0 & 0 & 0 & 0 & (...) & 0 & 0 & 0  & 0\\\\\n",
    "    K_{BC,1} & -(K_{BC,1} + \\frac{1}{\\Delta x^2}) & \\frac{1}{\\Delta x^2} & 0 & (...) & 0 & 0 & 0 & 0\\\\\n",
    "    0 & \\frac{1}{\\Delta x^2} & -\\frac{2}{\\Delta x^2} & \\frac{1}{\\Delta x^2} & (...) & 0 & 0  & 0 & 0\\\\\n",
    "    (...) & (...) & (...) & (...) & (...) & (...) & (...)  & (...) & (...)\\\\\n",
    "    0 & 0 & 0 & 0 &(...) & \\frac{1}{\\Delta x^2} & -\\frac{2}{\\Delta x^2} & \\frac{1}{\\Delta x^2} & 0 \\\\\n",
    "    0 & 0 & 0 & 0 &(...) & 0 & 1 & -(\\frac{1}{\\Delta x^2} + K_{BC,2}) & K_{BC,2} \\\\\n",
    "    0 & 0 & 0 & 0 &(...) & 0 & 0 & 0 & 0 \\\\\n",
    "\\end{array}\n",
    "\\right] $$"
   ]
  },
  {
   "cell_type": "markdown",
   "metadata": {},
   "source": [
    "And for Cells at the boundary:\n",
    "\n",
    "$$ K_{BC,1} = K_{0.5} = \\frac{1}{R_{s,1}  \\cdot \\Delta x \\cdot \\lambda + 0.5 \\cdot \\Delta x^2} $$"
   ]
  },
  {
   "cell_type": "markdown",
   "metadata": {},
   "source": [
    "To allow a consturction on $K$ outside of the integrator, $\\lambda_1$ is constant. This results in the above mentioned error. $M$ is calculated the in the same way as:\n"
   ]
  },
  {
   "cell_type": "markdown",
   "metadata": {},
   "source": [
    "$$ M = \\left [ \n",
    "\\begin{array}{ccccccc}\n",
    "    0 & 0 & 0 & 0 & (...) & 0 & 0 & 0  & 0\\\\\n",
    "    M_{BC,1} & -(M_{BC,1} + \\frac{1}{\\Delta x^2}) & \\frac{1}{\\Delta x^2} & 0 & (...) & 0 & 0 & 0 & 0\\\\\n",
    "    0 & \\frac{1}{\\Delta x^2} & -\\frac{2}{\\Delta x^2} & \\frac{1}{\\Delta x^2} & (...) & 0 & 0  & 0 & 0\\\\\n",
    "    (...) & (...) & (...) & (...) & (...) & (...) & (...)  & (...) & (...)\\\\\n",
    "    0 & 0 & 0 & 0 &(...) & \\frac{1}{\\Delta x^2} & -\\frac{2}{\\Delta x^2} & \\frac{1}{\\Delta x^2} & 0 \\\\\n",
    "    0 & 0 & 0 & 0 &(...) & 0 & 1 & -(\\frac{1}{\\Delta x^2} + M_{BC,2}) & M_{BC,2} \\\\\n",
    "    0 & 0 & 0 & 0 &(...) & 0 & 0 & 0 & 0 \\\\\n",
    "\\end{array}\n",
    "\\right] $$"
   ]
  },
  {
   "cell_type": "markdown",
   "metadata": {},
   "source": [
    "$$ K_{BC,1} = K_{0.5} = \\frac{1}{h_{v}  \\cdot \\Delta x \\cdot \\delta_v + 0.5 \\cdot \\Delta x^2} $$"
   ]
  },
  {
   "cell_type": "markdown",
   "metadata": {},
   "source": [
    "with the surface mass transfer coefficient $h_v = 3 \\cdot 10^{-8}\\ m/s$  {cite}`walther2021`."
   ]
  },
  {
   "cell_type": "markdown",
   "metadata": {},
   "source": [
    "## Time Integration"
   ]
  },
  {
   "cell_type": "markdown",
   "metadata": {},
   "source": [
    "The integration will be achieved bay using a solver from the **scipy** library."
   ]
  },
  {
   "cell_type": "markdown",
   "metadata": {},
   "source": [
    "## Implementation"
   ]
  },
  {
   "cell_type": "code",
   "execution_count": 1,
   "metadata": {},
   "outputs": [
    {
     "name": "stdin",
     "output_type": "stream",
     "text": [
      "Once deleted, variables cannot be recovered. Proceed (y/[n])?  y\n"
     ]
    }
   ],
   "source": [
    "%reset\n",
    "\n",
    "#Libraries\n",
    "import numpy as np\n",
    "import matplotlib.pyplot as plt\n",
    "import scipy as scipy\n",
    "import copy as copy"
   ]
  },
  {
   "cell_type": "code",
   "execution_count": 2,
   "metadata": {},
   "outputs": [],
   "source": [
    "class boundary:\n",
    "    def __init__(self, temperature1, temperature2, resistance1, resistance2,humidity1, humidity2,  humresistance1, humresistance2):\n",
    "        self.temperature1 = temperature1\n",
    "        self.temperature2 = temperature2\n",
    "        self.resistance1 = resistance1\n",
    "        self.resistance2 = resistance2\n",
    "        self.humidity1 = humidity1\n",
    "        self.humidity2 = humidity2\n",
    "        self.humresistance1 = humresistance1\n",
    "        self.humresistance2 = humresistance2"
   ]
  },
  {
   "cell_type": "code",
   "execution_count": 3,
   "metadata": {},
   "outputs": [],
   "source": [
    "class layer:\n",
    "    # n summarizes the number of all cells\n",
    "    # start value for n = number of boundaries, makes place for boundary temp\n",
    "    n=2\n",
    "    # width sumarizes the thickness of all layers\n",
    "    width_sum =0\n",
    "\n",
    "    def __init__(self, material, width, n_cells, thermConduct, heatCap, density):\n",
    "        self.material = material\n",
    "        self.width = width\n",
    "        self.n_cells = n_cells\n",
    "        self.thermConduct = thermConduct\n",
    "        self.heatCap = heatCap\n",
    "        self.density = density\n",
    "\n",
    "        # Adding number of cells and width to class counters\n",
    "        layer.n += self.n_cells\n",
    "        layer.width_sum += self.width"
   ]
  },
  {
   "cell_type": "markdown",
   "metadata": {},
   "source": [
    "### Construction of the layer and boundary objects\n",
    "Input Values according to the excersise description with the following units:\n",
    "* [$\\lambda$]= $W m^{-2} K^{-1}$\n",
    "* [$R_s$]= $W^{-1} m^{2} K$\n",
    "* [$T$]= $^\\circ C$\n",
    "* [$t$]= $m$\n",
    "* [$c$]= $J kg^{-1} K^{-1}$\n",
    "* [$\\rho$]= $kg m^{-3}$\n"
   ]
  },
  {
   "cell_type": "code",
   "execution_count": 4,
   "metadata": {},
   "outputs": [],
   "source": [
    "boundaries = boundary(20,0,0.13,0.13,80,90, 1/(3e-8), 1/(3e-8))\n",
    "\n",
    "#Beware, each layer must have at least 3 cells!\n",
    "layers = []\n",
    "layers.append(layer(\"Dämmung\", 0.4, 40, 0.04, 1000, 160))"
   ]
  },
  {
   "cell_type": "markdown",
   "metadata": {},
   "source": [
    "### Sorption Isotherm"
   ]
  },
  {
   "cell_type": "code",
   "execution_count": 38,
   "metadata": {},
   "outputs": [],
   "source": [
    "def fc_w_phi(phi):\n",
    "    a=1000\n",
    "    b=250*1e-6\n",
    "    c=1\n",
    "    res= a/np.power(1-np.log(phi/100)/b,1/c)\n",
    "    return res * 1e-3"
   ]
  },
  {
   "cell_type": "code",
   "execution_count": 56,
   "metadata": {
    "tags": []
   },
   "outputs": [],
   "source": [
    "def fc_phi_w(w):\n",
    "    a=1000\n",
    "    b=250e-6\n",
    "    c=1\n",
    "    phi= np.exp(b*(1-(a/w/1000)**c)) * 100 \n",
    "    return phi "
   ]
  },
  {
   "cell_type": "code",
   "execution_count": 82,
   "metadata": {},
   "outputs": [],
   "source": [
    "a=[]\n",
    "\n",
    "for i in range(1,100):\n",
    "    a.append(fc_w_phi(i))"
   ]
  },
  {
   "cell_type": "code",
   "execution_count": 89,
   "metadata": {
    "tags": []
   },
   "outputs": [
    {
     "data": {
      "text/plain": [
       "Text(0.5, 1.0, 'Sorption Isotherm - mineral wool')"
      ]
     },
     "execution_count": 89,
     "metadata": {},
     "output_type": "execute_result"
    },
    {
     "data": {
      "image/png": "[encoded data removed]",
      "text/plain": [
       "<Figure size 640x480 with 1 Axes>"
      ]
     },
     "metadata": {},
     "output_type": "display_data"
    }
   ],
   "source": [
    "plt.xlabel(\"Relative Humidity $\\phi$ [\\%]\")\n",
    "plt.ylabel(\"Moisture content w [kg/kg]\")\n",
    "\n",
    "plt.plot(range(1,100,1), a,  alpha=0.65)\n",
    "plt.title(\"Sorption Isotherm - mineral wool\")"
   ]
  },
  {
   "cell_type": "markdown",
   "metadata": {},
   "source": [
    "### Water permability, saturated vapor pressure and heat conductivity"
   ]
  },
  {
   "cell_type": "code",
   "execution_count": 17,
   "metadata": {
    "tags": []
   },
   "outputs": [],
   "source": [
    "def fc_psat_T (T):\n",
    "    #    return 610.5 * np.exp( 17.269*T / (237.3+T)) # T>0\n",
    "    #    return 610.5 * np.exp( 21.875*T / (265.5+T)) # T<0\n",
    "    return np.power(10, 7.625*T/(241+T)+2.7877) # Lehrbuch"
   ]
  },
  {
   "cell_type": "code",
   "execution_count": 18,
   "metadata": {
    "tags": []
   },
   "outputs": [],
   "source": [
    "def fc_deltapv_T (w,T):\n",
    "    a= (22.2 + 0.14*T) * 10**-6\n",
    "    b= -a \n",
    "    return a+b*w "
   ]
  },
  {
   "cell_type": "code",
   "execution_count": 19,
   "metadata": {},
   "outputs": [],
   "source": [
    "def fc_lambda_w (w):\n",
    "    return 0.04 + 6*w"
   ]
  },
  {
   "cell_type": "code",
   "execution_count": 20,
   "metadata": {
    "tags": []
   },
   "outputs": [],
   "source": [
    "def update_Cm(w,phi,T):\n",
    "\tepsilon=0.001*np.min(w)\n",
    "\twp=w+epsilon\n",
    "\tphip=fc_phi_w(wp)\n",
    "\tdw=abs(wp-w)\n",
    "\tdphi=abs(phip-phi)/100\n",
    "\tpvs=fc_psat_T(T)\n",
    "\tCm=dw/dphi/pvs\n",
    "\treturn Cm"
   ]
  },
  {
   "cell_type": "code",
   "execution_count": 99,
   "metadata": {
    "tags": []
   },
   "outputs": [],
   "source": [
    "Lv = 2503000"
   ]
  },
  {
   "cell_type": "code",
   "execution_count": 94,
   "metadata": {
    "tags": []
   },
   "outputs": [
    {
     "data": {
      "text/plain": [
       "[<matplotlib.lines.Line2D at 0x7f3d3e3f7f50>]"
      ]
     },
     "execution_count": 94,
     "metadata": {},
     "output_type": "execute_result"
    },
    {
     "data": {
      "image/png": "[encoded data removed]",
      "text/plain": [
       "<Figure size 640x480 with 1 Axes>"
      ]
     },
     "metadata": {},
     "output_type": "display_data"
    }
   ],
   "source": [
    "b = fc_deltapv_T(np.array(np.arange(0,0.2,0.01)),-22.0/0.14)\n",
    "\n",
    "plt.ylabel(\"Vapor diffusion coefficient $\\delta_v$ [$m^2/s$]\")\n",
    "plt.xlabel(\"Moisture content [kg/kg]\")\n",
    "\n",
    "plt.plot(np.arange(0,0.2,0.01), b, alpha=0.65, color=\"red\")\n",
    "\n"
   ]
  },
  {
   "cell_type": "code",
   "execution_count": 98,
   "metadata": {
    "tags": []
   },
   "outputs": [
    {
     "data": {
      "text/plain": [
       "[<matplotlib.lines.Line2D at 0x7f3d3e1b3b50>]"
      ]
     },
     "execution_count": 98,
     "metadata": {},
     "output_type": "execute_result"
    },
    {
     "data": {
      "image/png": "[encoded data removed]",
      "text/plain": [
       "<Figure size 640x480 with 1 Axes>"
      ]
     },
     "metadata": {},
     "output_type": "display_data"
    }
   ],
   "source": [
    "b = fc_lambda_w(np.arange(0,1,0.1))\n",
    "\n",
    "plt.ylabel(\"Heat Conductivity $\\lambda$ [$W/m^2/K$]\")\n",
    "plt.xlabel(\"Moisture content [kg/kg]\")\n",
    "\n",
    "plt.plot(np.arange(0,1,0.1), b, alpha=0.65)"
   ]
  },
  {
   "cell_type": "markdown",
   "metadata": {},
   "source": [
    "### Construction of the conductivity matrix $K$ and $M$"
   ]
  },
  {
   "cell_type": "code",
   "execution_count": 23,
   "metadata": {},
   "outputs": [],
   "source": [
    "# reference number of cells to increase readability\n",
    "n = layer.n\n",
    "\n",
    "# Initialising conductivity matrix K and M\n",
    "K = np.zeros((n,n))\n",
    "\n",
    "# iterater to keep track of cell numbers\n",
    "counter = 1\n",
    "for layer in layers:\n",
    "    #step size for the current layer\n",
    "    deltaX=layer.width / layer.n_cells\n",
    "\n",
    "    #initialize empty conductivity matrix for the current layer\n",
    "    K_current = np.zeros((n,n))\n",
    "\n",
    "    #defining the \"east\" and \"west\" conductivity for interior cells\n",
    "    K_current[range(counter+1,counter+layer.n_cells),range(counter,counter+layer.n_cells-1)]= 1 / deltaX**2\n",
    "    K_current[range(counter,counter+layer.n_cells-1),range(counter+1,counter+layer.n_cells)]= 1 / deltaX**2\n",
    "    \n",
    "    #defining the \"east\" and \"west\" conductivity for the last and first cell of each layer\n",
    "    #these are added up between layers, thus half the cell distance and inverted\n",
    "    K_current[(counter,counter+layer.n_cells),(counter-1,counter+layer.n_cells-1)]= 1 / 2 *   deltaX**2\n",
    "    K_current[(counter-1,counter+layer.n_cells-1),(counter,counter+layer.n_cells)]= 1/ 2  * deltaX**2\n",
    "    \n",
    "    K += K_current\n",
    "    \n",
    "    #Inverting the Konductivity between surfaces after adding them\n",
    "    K[(counter),(counter-1)] = 1/K[(counter),(counter-1)]\n",
    "    K[(counter-1),(counter)] = 1/K[(counter-1),(counter)]\n",
    "\n",
    "        \n",
    "    counter += layer.n_cells"
   ]
  },
  {
   "cell_type": "code",
   "execution_count": 24,
   "metadata": {
    "tags": []
   },
   "outputs": [],
   "source": [
    "# Initialising M as a copy of K\n",
    "M=copy.deepcopy(K)"
   ]
  },
  {
   "cell_type": "code",
   "execution_count": 25,
   "metadata": {},
   "outputs": [],
   "source": [
    "# Boundary Conditions for K\n",
    "deltaX_l = (layers[0].width / layers[0].n_cells)\n",
    "deltaX_r = (layers[-1].width / layers[-1].n_cells)\n",
    "K_l =  1/(boundaries.resistance1 *  layers[0].thermConduct * deltaX_l+ 0.5 *deltaX_l**2)\n",
    "K_r =  1/(boundaries.resistance2 * layers[-1].thermConduct *deltaX_r+ 0.5 *deltaX_r**2)\n",
    "K[1,0] = K_l\n",
    "K[len(K)-2,len(K)-1] = K_r"
   ]
  },
  {
   "cell_type": "code",
   "execution_count": 26,
   "metadata": {
    "tags": []
   },
   "outputs": [],
   "source": [
    "# Boundary Conditions for M\n",
    "deltapv_l=fc_deltapv_T(fc_w_phi(boundaries.humidity1),boundaries.temperature1 )\n",
    "deltapv_r=fc_deltapv_T(fc_w_phi(boundaries.humidity2),boundaries.temperature2 )\n",
    "M_l =  1/(2 *deltaX_l**2)\n",
    "M_r =  1/(2 *deltaX_r**2)\n",
    "M[1,0] = M_l\n",
    "M[len(K)-2,len(K)-1] = M_r"
   ]
  },
  {
   "cell_type": "code",
   "execution_count": 27,
   "metadata": {},
   "outputs": [],
   "source": [
    "#The diagonal of the conductivity matrix is defined as the negative sum of the \n",
    "#\"east\" and \"west\" conductivity for the cell\n",
    "K[range(0,len(K)),range(0,len(K))]= -np.sum(K,axis=1)\n",
    "M[range(0,len(M)),range(0,len(M))]= -np.sum(M,axis=1)\n",
    "\n",
    "#free first and last row; this leads to constant values at the boundaries\n",
    "K[0,:]=0\n",
    "K[-1,:]=0\n",
    "\n",
    "M[0,:]=0\n",
    "M[-1,:]=0"
   ]
  },
  {
   "cell_type": "code",
   "execution_count": 28,
   "metadata": {
    "tags": []
   },
   "outputs": [
    {
     "name": "stdout",
     "output_type": "stream",
     "text": [
      "[[     0.              0.              0.         ...      0.\n",
      "       0.              0.        ]\n",
      " [  9803.92156863 -19803.92156863  10000.         ...      0.\n",
      "       0.              0.        ]\n",
      " [     0.          10000.         -20000.         ...      0.\n",
      "       0.              0.        ]\n",
      " ...\n",
      " [     0.              0.              0.         ... -20000.\n",
      "   10000.              0.        ]\n",
      " [     0.              0.              0.         ...  10000.\n",
      "  -19803.92156863   9803.92156863]\n",
      " [     0.              0.              0.         ...      0.\n",
      "       0.              0.        ]]\n"
     ]
    }
   ],
   "source": [
    "print(K)"
   ]
  },
  {
   "cell_type": "code",
   "execution_count": 29,
   "metadata": {
    "tags": []
   },
   "outputs": [
    {
     "name": "stdout",
     "output_type": "stream",
     "text": [
      "[[     0.      0.      0. ...      0.      0.      0.]\n",
      " [  5000. -15000.  10000. ...      0.      0.      0.]\n",
      " [     0.  10000. -20000. ...      0.      0.      0.]\n",
      " ...\n",
      " [     0.      0.      0. ... -20000.  10000.      0.]\n",
      " [     0.      0.      0. ...  10000. -15000.   5000.]\n",
      " [     0.      0.      0. ...      0.      0.      0.]]\n"
     ]
    }
   ],
   "source": [
    "print(M)"
   ]
  },
  {
   "cell_type": "markdown",
   "metadata": {},
   "source": [
    "### Calculating the temperature field"
   ]
  },
  {
   "cell_type": "code",
   "execution_count": 30,
   "metadata": {},
   "outputs": [],
   "source": [
    "#initialize the temperaturefield\n",
    "vec_T_w = np.ones(layer.n*2) * 0.001\n",
    "vec_T_w[0:layer.n-1] = 20\n",
    "vec_T_w[layer.n:layer.n*2] = fc_w_phi(50)\n",
    "\n",
    "#Insert Boundary Konditions\n",
    "vec_T_w[0]= boundaries.temperature1\n",
    "vec_T_w[layer.n-1]= boundaries.temperature2\n",
    "#Insert Boundary Konditions\n",
    "vec_T_w[layer.n]= fc_w_phi(boundaries.humidity1)\n",
    "vec_T_w[-1]= fc_w_phi(boundaries.humidity2)\n"
   ]
  },
  {
   "cell_type": "markdown",
   "metadata": {},
   "source": [
    "## Variant 1 - Heat conductivity"
   ]
  },
  {
   "cell_type": "code",
   "execution_count": 124,
   "metadata": {
    "tags": []
   },
   "outputs": [],
   "source": [
    "T = vec_T_w[0:layer.n]"
   ]
  },
  {
   "cell_type": "code",
   "execution_count": 125,
   "metadata": {
    "tags": []
   },
   "outputs": [],
   "source": [
    "thermConduct = fc_lambda_w(np.ones(len(T)) * 0)"
   ]
  },
  {
   "cell_type": "code",
   "execution_count": 126,
   "metadata": {
    "tags": []
   },
   "outputs": [],
   "source": [
    "def dT_dt(t,T):\n",
    "    delta_T =  thermConduct * np.dot(K,T) /(layers[0].heatCap * layers[0].density)\n",
    "    return delta_T"
   ]
  },
  {
   "cell_type": "code",
   "execution_count": 127,
   "metadata": {
    "tags": []
   },
   "outputs": [],
   "source": [
    "result_heat = scipy.integrate.solve_ivp(dT_dt,(0,1800000),T,method=\"Radau\",atol=1e-7,rtol=1e-5)"
   ]
  },
  {
   "cell_type": "markdown",
   "metadata": {},
   "source": [
    "## Variant 2 - Coupled Simulation"
   ]
  },
  {
   "cell_type": "code",
   "execution_count": 129,
   "metadata": {
    "tags": []
   },
   "outputs": [],
   "source": [
    "def dt_w_dt(t,vec_T_w):\n",
    "    #Splitting up temp and water vector\n",
    "    T = vec_T_w[0:layer.n]\n",
    "    w = vec_T_w[layer.n:layer.n*2]\n",
    "    \n",
    "    c = 1000\n",
    "    rho = 160\n",
    "    Lv = 2503000\n",
    "    \n",
    "    phi = fc_phi_w(w)\n",
    "    thermConduct = fc_lambda_w(w)\n",
    "    deltapv = fc_deltapv_T(w,T)\n",
    "    \n",
    "    \n",
    "    \n",
    "    pvap = fc_psat_T(T) * phi /100\n",
    "    \n",
    "    delta_T =  (thermConduct * np.dot(K,T) +  deltapv * Lv * np.dot(M,pvap) )/(c*rho)\n",
    "    \n",
    "    delta_w =  deltapv *  np.dot(M,pvap) \n",
    "    \n",
    "    return np.append(delta_T,delta_w)"
   ]
  },
  {
   "cell_type": "code",
   "execution_count": 132,
   "metadata": {
    "tags": []
   },
   "outputs": [],
   "source": [
    "#dt_w_dt(t,vec_T_w)\n",
    "result_coupled = scipy.integrate.solve_ivp(dt_w_dt,(0,1800000),vec_T_w,method=\"Radau\",atol=1e-7,rtol=1e-5)"
   ]
  },
  {
   "cell_type": "code",
   "execution_count": 164,
   "metadata": {
    "tags": []
   },
   "outputs": [
    {
     "data": {
      "text/plain": [
       "<matplotlib.legend.Legend at 0x7f3d3bc7ffd0>"
      ]
     },
     "execution_count": 164,
     "metadata": {},
     "output_type": "execute_result"
    },
    {
     "data": {
      "image/png": "[encoded data removed]",
      "text/plain": [
       "<Figure size 640x480 with 1 Axes>"
      ]
     },
     "metadata": {},
     "output_type": "display_data"
    }
   ],
   "source": [
    "res_T_coup =[]\n",
    "res_T_heat=[]\n",
    "for i in range(layer.n):\n",
    "    res_T_coup.append(result_coupled.y[i,-1])\n",
    "    res_T_heat.append(result_heat.y[i,-1])\n",
    "    \n",
    "plt.ylabel(\"Temperature $T$ [°C]\")\n",
    "plt.xlabel(\"x [m]\")\n",
    "\n",
    "plt.title(\"Temperature Field\")\n",
    "\n",
    " \n",
    "plt.plot(range(layer.n), res_T_heat, label=\"heat conduction\")\n",
    "plt.plot(range(layer.n), res_T_coup, label=\"coupled\")\n",
    "plt.legend()"
   ]
  },
  {
   "cell_type": "code",
   "execution_count": 165,
   "metadata": {
    "tags": []
   },
   "outputs": [
    {
     "data": {
      "text/plain": [
       "<matplotlib.legend.Legend at 0x7f3d3bc6af10>"
      ]
     },
     "execution_count": 165,
     "metadata": {},
     "output_type": "execute_result"
    },
    {
     "data": {
      "image/png": "[encoded data removed]",
      "text/plain": [
       "<Figure size 640x480 with 1 Axes>"
      ]
     },
     "metadata": {},
     "output_type": "display_data"
    }
   ],
   "source": [
    "res_w_heat =[]\n",
    "res_w_coup=[]\n",
    "for i in range(layer.n,layer.n*2):\n",
    "    res_w_coup.append(result_coupled.y[i,-1])\n",
    "    res_w_heat.append(0)\n",
    "    \n",
    "plt.ylabel(\"Moisture content [kg/kg]\")\n",
    "plt.xlabel(\"x [m]\")\n",
    "\n",
    "plt.title(\"Moisture Field\")\n",
    "\n",
    " \n",
    "plt.plot(range(layer.n), res_w_heat, label=\"heat conduction\")\n",
    "plt.plot(range(layer.n), res_w_coup, label=\"coupled\")\n",
    "plt.legend()\n"
   ]
  },
  {
   "cell_type": "code",
   "execution_count": 170,
   "metadata": {
    "tags": []
   },
   "outputs": [
    {
     "data": {
      "text/plain": [
       "<matplotlib.legend.Legend at 0x7f3d3bbe7f50>"
      ]
     },
     "execution_count": 170,
     "metadata": {},
     "output_type": "execute_result"
    },
    {
     "data": {
      "image/png": "[encoded data removed]",
      "text/plain": [
       "<Figure size 640x480 with 1 Axes>"
      ]
     },
     "metadata": {},
     "output_type": "display_data"
    }
   ],
   "source": [
    "plt.ylabel(\"Relative Humidity $\\phi$ [\\%]\")\n",
    "plt.xlabel(\"x [m]\")\n",
    "\n",
    "plt.title(\"Relative Humidity\")\n",
    "\n",
    " \n",
    "plt.plot(np.arange(0,width_sum,width_sum/layer.n), a, label=\"heat conduction\")\n",
    "plt.plot(np.arange(0,width_sum,width_sum/layer.n), fc_phi_w(np.array(res_w_coup)), label=\"coupled\")\n",
    "plt.legend()"
   ]
  },
  {
   "cell_type": "code",
   "execution_count": 174,
   "metadata": {
    "tags": []
   },
   "outputs": [
    {
     "data": {
      "text/plain": [
       "<matplotlib.legend.Legend at 0x7f3d3b85b990>"
      ]
     },
     "execution_count": 174,
     "metadata": {},
     "output_type": "execute_result"
    },
    {
     "data": {
      "image/png": "[encoded data removed]",
      "text/plain": [
       "<Figure size 640x480 with 1 Axes>"
      ]
     },
     "metadata": {},
     "output_type": "display_data"
    }
   ],
   "source": [
    "plt.ylabel(\"Vapor Pressure $p_{vap}$ [Pa]\")\n",
    "plt.xlabel(\"x [m]\")\n",
    "\n",
    "plt.title(\"Relative Humidity\")\n",
    "\n",
    "res_pvap_coup = fc_psat_T(np.array(res_T_coup)) * fc_phi_w(np.array(res_w_coup)) /100\n",
    "plt.plot(np.arange(0,width_sum,width_sum/layer.n), res_pvap_coup, label=\"coupled\")\n",
    "plt.plot(np.arange(0,width_sum,width_sum/layer.n), a, label=\"heat conduction\")\n",
    "plt.legend()"
   ]
  },
  {
   "cell_type": "markdown",
   "metadata": {
    "tags": []
   },
   "source": [
    "## References\n",
    "\n",
    "\n",
    "```{bibliography}\n",
    ":style: plain\n",
    "```"
   ]
  },
  {
   "cell_type": "code",
   "execution_count": null,
   "metadata": {},
   "outputs": [],
   "source": []
  }
 ],
 "metadata": {
  "kernelspec": {
   "display_name": "Python 3 (ipykernel)",
   "language": "python",
   "name": "python3"
  },
  "language_info": {
   "codemirror_mode": {
    "name": "ipython",
    "version": 3
   },
   "file_extension": ".py",
   "mimetype": "text/x-python",
   "name": "python",
   "nbconvert_exporter": "python",
   "pygments_lexer": "ipython3",
   "version": "3.11.3"
  }
 },
 "nbformat": 4,
 "nbformat_minor": 4
}
