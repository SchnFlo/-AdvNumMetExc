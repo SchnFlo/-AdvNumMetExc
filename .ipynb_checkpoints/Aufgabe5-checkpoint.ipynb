{
 "cells": [
  {
   "cell_type": "code",
   "execution_count": 1,
   "id": "c03b479d-40e3-4a39-96c9-840a821be2a6",
   "metadata": {},
   "outputs": [],
   "source": [
    "import numpy as np"
   ]
  },
  {
   "cell_type": "code",
   "execution_count": 2,
   "id": "9f596334-6e11-4332-8534-afb980d0bde6",
   "metadata": {},
   "outputs": [],
   "source": [
    "from scipy import sparse"
   ]
  },
  {
   "cell_type": "code",
   "execution_count": 3,
   "id": "d134f2d2-13d1-4277-abf5-99974f2788fc",
   "metadata": {},
   "outputs": [],
   "source": [
    "lx, ly = (1,1)\n",
    "nx, ny = (1000, 1000)\n",
    "\n"
   ]
  },
  {
   "cell_type": "code",
   "execution_count": 4,
   "id": "721cc56a-283a-4bd4-a2e8-45d652af1f24",
   "metadata": {},
   "outputs": [],
   "source": [
    "deltax,deltay = (lx/nx , ly/ny)\n",
    "x = np.linspace(0, lx, nx)\n",
    "\n",
    "y = np.linspace(0, ly, ny)\n",
    "\n",
    "a = np.meshgrid(x, y)"
   ]
  },
  {
   "cell_type": "markdown",
   "id": "f10a976b-da13-46ef-b8cf-bf9166d64a00",
   "metadata": {},
   "source": [
    "### Construction of the System Matrix"
   ]
  },
  {
   "cell_type": "code",
   "execution_count": 5,
   "id": "8a47a78f-b969-4b13-8718-4cd1c1348050",
   "metadata": {},
   "outputs": [],
   "source": [
    "I = sparse.eye(nx*ny)"
   ]
  },
  {
   "cell_type": "code",
   "execution_count": 6,
   "id": "44cefab8-a5aa-4d57-bd5a-c34cb193c648",
   "metadata": {},
   "outputs": [],
   "source": [
    "I = sparse.lil_matrix(I)"
   ]
  },
  {
   "cell_type": "code",
   "execution_count": 7,
   "id": "c217013a-1f8b-447a-b078-cb0229b71e6c",
   "metadata": {},
   "outputs": [],
   "source": [
    "# Main diagonalprint(\n",
    "A = I * (-2/deltax**2 - 2 / deltay**2)"
   ]
  },
  {
   "cell_type": "code",
   "execution_count": 8,
   "id": "2a25b9b8-9d65-489d-adf3-b5eb841332aa",
   "metadata": {},
   "outputs": [],
   "source": [
    "# West / East diagonal\n",
    "A[range(1,nx*ny),range(0,nx*ny-1)]=1 / deltax**2\n",
    "A[range(0,ny*nx-1),range(1,nx*ny)]=1 / deltax**2"
   ]
  },
  {
   "cell_type": "code",
   "execution_count": 9,
   "id": "3434c725-8cab-42eb-bd67-57aab60ec91e",
   "metadata": {},
   "outputs": [],
   "source": [
    "# North / South diagonal\n",
    "A[range(nx,nx*ny),range(0,nx*ny-nx)]=1 / deltay**2\n",
    "A[range(0,ny*nx-nx),range(nx,nx*ny)]=1 / deltay**2"
   ]
  },
  {
   "cell_type": "code",
   "execution_count": 11,
   "id": "f466cf0b-d638-49b5-9b24-caacb440aaff",
   "metadata": {},
   "outputs": [
    {
     "name": "stderr",
     "output_type": "stream",
     "text": [
      "IOPub data rate exceeded.\n",
      "The Jupyter server will temporarily stop sending output\n",
      "to the client in order to avoid crashing it.\n",
      "To change this limit, set the config variable\n",
      "`--ServerApp.iopub_data_rate_limit`.\n",
      "\n",
      "Current values:\n",
      "ServerApp.iopub_data_rate_limit=1000000.0 (bytes/sec)\n",
      "ServerApp.rate_limit_window=3.0 (secs)\n",
      "\n"
     ]
    }
   ],
   "source": [
    "print(A)"
   ]
  },
  {
   "cell_type": "code",
   "execution_count": null,
   "id": "90ffaaf6-c96a-4e04-9273-2e6b35a87edc",
   "metadata": {},
   "outputs": [],
   "source": [
    "# take Boundary Conditions into accountp\n",
    "# Dirichlet\n",
    "A[0,:] = 0; #Left\n",
    "A[-1,:] = 0; #Right\n",
    "\n",
    "\n",
    "for i in range(0,nx):\n",
    "    #First cell of each row\n",
    "    A[i*nx,:] = 0\n",
    "    A[i*nx,i*nx] = 1\n",
    "    #Last cell of each row\n",
    "    A[i*nx+nx-1,:] = 0\n",
    "    A[i*nx+nx-1,i*nx+nx-1] = 1\n",
    "\n",
    "#Neumann\n",
    "A[range(nx,nx*2),range(0,nx)]*=2 #Bottom \n",
    "A[range(nx*ny - 2*nx,nx*ny - nx),range(nx*ny - nx,nx*ny)]*=2 #Top"
   ]
  },
  {
   "cell_type": "markdown",
   "id": "d252b1d6-7b29-448b-98d0-fece507eb97d",
   "metadata": {},
   "source": [
    "### Initial State"
   ]
  },
  {
   "cell_type": "code",
   "execution_count": null,
   "id": "1b5e694f-d8a8-4c26-9f82-3577d38fabeb",
   "metadata": {},
   "outputs": [],
   "source": [
    "P_init = np.zeros(nx*ny)"
   ]
  },
  {
   "cell_type": "code",
   "execution_count": null,
   "id": "b91797e8-2923-4fdc-ae8b-00eecee0a02f",
   "metadata": {},
   "outputs": [],
   "source": [
    "#Boundary conditions\n",
    "for i in range(0,nx):\n",
    "    P_init[i*nx] = 20 #Left side\n",
    "    P_init[i*nx+nx-1] = 15 #Right side"
   ]
  },
  {
   "cell_type": "markdown",
   "id": "b188bbf8-a52f-4b7b-904f-7444fdc14043",
   "metadata": {},
   "source": [
    "### Transport coefficient"
   ]
  },
  {
   "cell_type": "code",
   "execution_count": null,
   "id": "24396eed-a78f-44aa-9e52-ee3f6d2956d0",
   "metadata": {},
   "outputs": [],
   "source": [
    "#height of the channel\n",
    "h= 0.0002 #m\n",
    "rho = 1.35 # kg/m-3\n",
    "mu =  17.5e-6 #kg m-1 s-1\n",
    "k = h**2/12"
   ]
  },
  {
   "cell_type": "code",
   "execution_count": null,
   "id": "466bd85a-c39e-445a-b8ca-6f70450fff8a",
   "metadata": {},
   "outputs": [],
   "source": [
    "A_stat = A* - h * rho * k / mu"
   ]
  },
  {
   "cell_type": "code",
   "execution_count": null,
   "id": "a2c3fdab-4764-4474-a8e5-7ef551814b2d",
   "metadata": {},
   "outputs": [],
   "source": [
    "A_sparse = sparse.csr_matrix(A_stat)"
   ]
  },
  {
   "cell_type": "code",
   "execution_count": null,
   "id": "abe5e0fb-6a0a-4452-a1b8-393750fc1554",
   "metadata": {},
   "outputs": [],
   "source": [
    "P = sparse.linalg.spsolve(A_sparse,P_init)"
   ]
  },
  {
   "cell_type": "code",
   "execution_count": null,
   "id": "0c7b0b0e-6902-41d7-8495-3a341d6da138",
   "metadata": {},
   "outputs": [],
   "source": [
    "print(P)"
   ]
  },
  {
   "cell_type": "code",
   "execution_count": null,
   "id": "f6123051-cb7f-483c-9806-b9a640842a75",
   "metadata": {},
   "outputs": [],
   "source": [
    "print(np.average(P) * -k /mu  /lx/h)"
   ]
  },
  {
   "cell_type": "code",
   "execution_count": null,
   "id": "e81cb7e8-910c-4fc0-bcd5-f85ab0a5e779",
   "metadata": {},
   "outputs": [],
   "source": []
  }
 ],
 "metadata": {
  "kernelspec": {
   "display_name": "Python 3 (ipykernel)",
   "language": "python",
   "name": "python3"
  },
  "language_info": {
   "codemirror_mode": {
    "name": "ipython",
    "version": 3
   },
   "file_extension": ".py",
   "mimetype": "text/x-python",
   "name": "python",
   "nbconvert_exporter": "python",
   "pygments_lexer": "ipython3",
   "version": "3.11.3"
  }
 },
 "nbformat": 4,
 "nbformat_minor": 5
}
