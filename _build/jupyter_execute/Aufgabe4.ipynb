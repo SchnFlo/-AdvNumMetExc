{
 "cells": [
  {
   "cell_type": "markdown",
   "id": "6e7643fc-b9ad-4dba-ba50-8981e91b44cd",
   "metadata": {},
   "source": [
    "<body>\n",
    "    <font size=\"2\">Florian Schnabel, 11807470, WS 2024</font><br />\n",
    "</body>"
   ]
  },
  {
   "cell_type": "markdown",
   "id": "d5f2f345-90ec-4357-a126-9d476e4faed6",
   "metadata": {},
   "source": [
    "# Exercise 4 - Integration of liquid water transport"
   ]
  },
  {
   "cell_type": "markdown",
   "id": "785f7a74-c5fc-4936-9083-f4df151cf85c",
   "metadata": {},
   "source": [
    "This script is an extension of the script elaborated in Exercise 3 of *Advanced Numerical Methods 1*. The base script was capable of  calculating the temperature and moisture field across a multi-layered building component, while considering water transport induced by vapor diffusion. Such a multi-layered building component is shown in {numref}`fig:multilayCompEx2`."
   ]
  },
  {
   "cell_type": "markdown",
   "id": "55c2f777-f268-4a40-b2eb-0fecfc9ebe8d",
   "metadata": {},
   "source": [
    "```{figure} ./Figures/BuildingComponent.png\n",
    "---\n",
    "width: 350px\n",
    "name: fig:multilayCompEx2\n",
    "---\n",
    "Multi-layered building component and discretisation requirements [excersise Description]\n",
    "```"
   ]
  },
  {
   "cell_type": "markdown",
   "id": "450bb740-b471-4fb8-b2db-537a77ac76ee",
   "metadata": {},
   "source": [
    "To show the effect of liquid water transport the implementation will be tested by reproducing a suction expirement described in {cite}`kalagasidis2004`. To simplify the problem, the component is restricted to a constant grid size. Therefore for each cell P $\\Delta x_P = \\Delta x_W = \\Delta x_E = \\Delta x_p = \\Delta x_w = \\Delta x_e = \\Delta x$"
   ]
  },
  {
   "cell_type": "markdown",
   "id": "b8ed4733-2afc-420e-9251-014d4d5edb22",
   "metadata": {},
   "source": [
    "## Balance Equations"
   ]
  },
  {
   "cell_type": "markdown",
   "id": "af8ae4e6-8e81-49aa-ad8b-9c16d336c4d7",
   "metadata": {},
   "source": [
    "To consider the latent heat effect the time derivative of the Temperaturefield seen in {eq}`heatflow` is expandend by the moisture induced pressure field.  The equation for heat conduction including latent heat is shown in {eq}`gl:heatmoist2`:\n",
    " \n",
    "$$\\rho \\cdot c \\cdot \\frac{dT}{dt} = \\nabla (\\lambda \\nabla T + L_v \\delta_v \\nabla p_{vap}) $$ (gl:heatmoist2)"
   ]
  },
  {
   "cell_type": "markdown",
   "id": "5ba90c8e-685a-4dfb-9a5d-6d43a0e05e68",
   "metadata": {},
   "source": [
    "The introduced moisture field extended by the transport induced by liquide vapor pressure. {eq}`gl:moist`:\n",
    "\n",
    "$$ \\frac{dw}{dt} =  \\nabla (\\delta_v \\nabla p_{vap}) - \\nabla (K_w \\nabla p_{vap}) $$ (gl:moist)"
   ]
  },
  {
   "cell_type": "markdown",
   "id": "81ebbf30-2389-428a-bb7b-ebf2793237c0",
   "metadata": {},
   "source": [
    "With the total moisture conductivity $K_w$ according to {cite}`kalagasidis2004` (specialized for $u_f = 300$):\n",
    "\n",
    "$$ K_w(P_{suc,n)} = - \\frac{\\partial w(P_{suc})}{\\partial P_{suc}} \\cdot  \\frac{n+1}{2n} (\\frac{A}{300})^n (\\frac{w(P_{suc})}{300})^n(n+1-(\\frac{w(P_{suc})}{300})^n )$$ (gl:K_w)"
   ]
  },
  {
   "cell_type": "markdown",
   "id": "4f080f4f-e8b4-4cd3-b25c-d82e38cf2419",
   "metadata": {},
   "source": [
    "and the corresponding water retention curve:"
   ]
  },
  {
   "cell_type": "markdown",
   "id": "c7d40de1-d572-4baf-b348-e35e83d13e68",
   "metadata": {},
   "source": [
    "$$ w(P_{suc)} = - \\frac{300}{1+P_{suc} \\cdot 10^{-6}}$$ (gl:P_suc)"
   ]
  },
  {
   "cell_type": "markdown",
   "id": "0b96a364-0630-45ff-b655-5df1585ff610",
   "metadata": {},
   "source": [
    "## Space discretisation"
   ]
  },
  {
   "cell_type": "markdown",
   "id": "62d18b12-65f2-4a35-b137-3c4db4293af8",
   "metadata": {
    "tags": []
   },
   "source": [
    "The discretisation of {eq}gl:heatmoist and {eq}gl:moist is done similar to section {ref}`Exercise 1 <sec:Ex1>` using the finite volume method and a representation as RC-Networks.  Evaluating for a cell P surrounded by a cell to the east and west results in {eq}`gl:heatmoistdis` and {eq}`gl:moistdis`:"
   ]
  },
  {
   "cell_type": "markdown",
   "id": "e33e17fa-0690-4590-b681-c68c6dff74c4",
   "metadata": {},
   "source": [
    "$$\\rho \\cdot c \\cdot \\frac{T^{n+1}_P - T^n_P  }{\\Delta t} = \\frac{\\lambda_w(T^n_E - T^n_P) - \\lambda_w(T^n_P - T^n_W)}{\\Delta x^2} + L_v \\cdot \\frac{\\delta_{v,w}(p_{vap,E}^n - p_{vap,P}^n) - \\delta_{v,e}(p_{vap,P}^n - p_{vap,W}^n)}{\\Delta x^2}  $$ (gl:heatmoistdis)"
   ]
  },
  {
   "cell_type": "markdown",
   "id": "bb0b55cc-34c3-4b4c-a857-1a6f976dc7af",
   "metadata": {},
   "source": [
    "$$\\frac{w_{P}^{n+1} - w_{P}^n }{\\Delta t} =\\frac{\\delta_{v,w}(p_{vap,E}^n - p_{vap,P}^n) - \\delta_{v,e}(p_{vap,P}^n - p_{vap,W}^n)}{\\Delta x^2} \\textcolor{green}{- \\frac{K_{w}(p_{suc,E}^n - p_{suc,P}^n) - K_{e}(p_{suc,P}^n - p_{suc,W}^n)}{\\Delta x^2}} $$ (gl:moistdis)"
   ]
  },
  {
   "cell_type": "markdown",
   "id": "eb1e03ef-bc66-4d6c-9b03-9a66a061c848",
   "metadata": {},
   "source": [
    "or written in matrix notation:"
   ]
  },
  {
   "cell_type": "markdown",
   "id": "6d4c9999-cbf7-40bd-a361-7b06b9ad90d9",
   "metadata": {
    "tags": []
   },
   "source": [
    "$$\\rho \\cdot c \\cdot \\frac{T^{n+1} - T^n  }{\\Delta t} = \\lambda  \\cdot K \\cdot T + L_v \\cdot \\delta_v  \\cdot M \\cdot p_{vap} $$ (gl:heatmoistdis)\n",
    "$$\\frac{w^{n+1} - w^n  }{\\Delta t} = \\delta_v  \\cdot M \\cdot p_{vap} \\textcolor{green}{ - K_w \\cdot p_{suc}} $$ (gl:moistdis)"
   ]
  },
  {
   "cell_type": "markdown",
   "id": "317f9a3f-1cb6-45eb-ae15-0b9caf41b181",
   "metadata": {},
   "source": [
    "The thermal and vapor diffusive conductivity matrices are calculated by harmonic averaging. The thermal conductivity between two cells (W,P) can be described as follows:"
   ]
  },
  {
   "cell_type": "markdown",
   "id": "4b3107dd-8354-4b9c-a44b-807642d36dc1",
   "metadata": {},
   "source": [
    "$$ \\lambda_{w} = \\frac{\\Delta x_w}{\\frac{\\Delta x_W}{2 \\cdot \\lambda_W} + \\frac{\\Delta x_P}{2 \\cdot \\lambda_P}} = \\frac{1}{\\frac{1}{2 \\cdot \\lambda_W} + \\frac{1}{2 \\cdot \\lambda_P}}$$"
   ]
  },
  {
   "cell_type": "markdown",
   "id": "db462c89-6cdb-4cb9-843d-94fed43f65e6",
   "metadata": {},
   "source": [
    "As eleborated in {cite}`kalagasidis2004` harmoic averaging is not a suitable averaging method for liquid water transport. Therefore, in this implementation linear averaging will be used. The total moisture conductivity between two cells (W,P) can be described as follows:"
   ]
  },
  {
   "cell_type": "markdown",
   "id": "2c22a9aa-df85-4cf3-8285-e2374c404582",
   "metadata": {},
   "source": [
    "$$ K_{w} = \\frac{K_{W}\\frac{\\Delta x_W}{2} }{x_w} + \\frac{K_{P}\\frac{\\Delta x_P}{2} }{x_w} = \\frac{K_W+K_P}{2}$$"
   ]
  },
  {
   "cell_type": "markdown",
   "id": "dab302c8-92e3-4ca6-94ba-868d258703f7",
   "metadata": {},
   "source": [
    "To ensure surface drying is prevented the vapor diffusion coefficient on the surface is set $\\delta_v = 0\\ m/s$  {cite}`kalagasidis2004`."
   ]
  },
  {
   "cell_type": "markdown",
   "id": "85b4dc2b-bd14-4a61-bed0-b22087d40c80",
   "metadata": {},
   "source": [
    "## Time Integration"
   ]
  },
  {
   "cell_type": "markdown",
   "id": "8f7d4b19-3da1-421f-928c-0ca9f58e2d63",
   "metadata": {},
   "source": [
    "The integration will be achieved by the use of a solver from the **scipy** library. It is to be mentioned, that due to high gradients in the water retention curve implicit solvers are to be preferred."
   ]
  },
  {
   "cell_type": "markdown",
   "id": "aafdc1a5-f96a-413f-ae0a-869157ca06cc",
   "metadata": {},
   "source": [
    "## Implementation"
   ]
  },
  {
   "cell_type": "code",
   "execution_count": 1,
   "id": "44585c02-32a2-4a34-b561-5935524e050d",
   "metadata": {
    "tags": []
   },
   "outputs": [],
   "source": [
    "#Libraries\n",
    "import numpy as np\n",
    "import matplotlib.pyplot as plt\n",
    "import scipy as scipy\n",
    "import copy as copy\n",
    "from scipy import integrate\n",
    "import matplotlib.animation as animation"
   ]
  },
  {
   "cell_type": "markdown",
   "id": "278d5fdb-4aba-48cd-9e0f-d998b1b63f00",
   "metadata": {},
   "source": [
    "### Object definition"
   ]
  },
  {
   "cell_type": "code",
   "execution_count": 2,
   "id": "b77e7c29-f2ec-45b6-9c92-0f32451b42a5",
   "metadata": {},
   "outputs": [],
   "source": [
    "class layer:\n",
    "    # n summarizes the number of all cells\n",
    "    # start value for n = number of boundaries, makes place for boundary temp\n",
    "    n=2\n",
    "    # width sumarizes the thickness of all layers\n",
    "    width_sum =0\n",
    "\n",
    "    def __init__(self, material, width, n_cells, thermConduct, heatCap, density):\n",
    "        self.material = material\n",
    "        self.width = width\n",
    "        self.n_cells = n_cells\n",
    "        self.thermConduct = thermConduct\n",
    "        self.heatCap = heatCap\n",
    "        self.density = density\n",
    "\n",
    "        # Adding number of cells and width to class counters\n",
    "        layer.n += self.n_cells\n",
    "        layer.width_sum += self.width"
   ]
  },
  {
   "cell_type": "code",
   "execution_count": 3,
   "id": "be801e2d-b6b1-41b7-b452-3fb2fcce453d",
   "metadata": {
    "tags": []
   },
   "outputs": [],
   "source": [
    "class boundary:\n",
    "    def __init__(self, temperature1, temperature2, resistance1, resistance2,humidity1, humidity2,  humresistance1, humresistance2):\n",
    "        self.temperature1 = temperature1\n",
    "        self.temperature2 = temperature2\n",
    "        self.resistance1 = resistance1\n",
    "        self.resistance2 = resistance2\n",
    "        self.humidity1 = humidity1\n",
    "        self.humidity2 = humidity2\n",
    "        self.humresistance1 = humresistance1\n",
    "        self.humresistance2 = humresistance2"
   ]
  },
  {
   "cell_type": "markdown",
   "id": "5369120a-b05b-429c-85f3-6422953a3b91",
   "metadata": {
    "tags": []
   },
   "source": [
    "### Construction of the layer and boundary objects\n",
    "Input Values according to the excersise description with the following units:\n",
    "* [$\\lambda$]= $W\\ m^{-2}\\ K^{-1}$\n",
    "* [$R_s$]= $W^{-1}\\ m^{2}\\ K$\n",
    "* [$T$]= $^\\circ C$\n",
    "* [$t$]= $m$\n",
    "* [$c$]= $J\\ kg^{-1} K^{-1}$\n",
    "* [$\\rho$]= $kg\\ m^{-3}$\n",
    "* [$A$]= $kg\\ m^{-2}s^{-1}$\n",
    "* [$K_w$]= $s$\n"
   ]
  },
  {
   "cell_type": "code",
   "execution_count": 4,
   "id": "5c88e71a-a3ec-4d54-ad44-5545b1cfd466",
   "metadata": {},
   "outputs": [],
   "source": [
    "boundaries = boundary(20,20,0.13,0.13,99.9,0.01, 1/(3e-8), 1/(3e-8))\n",
    "\n",
    "#Beware, each layer must have at least 3 cells!\n",
    "layers = []\n",
    "layers.append(layer(\"Dämmung\", 0.1, 100, 0.04, 1000, 160))"
   ]
  },
  {
   "cell_type": "markdown",
   "id": "ad72eb2c-169d-47d4-bbc7-3c793eb4c217",
   "metadata": {},
   "source": [
    "### Sorption Isotherm"
   ]
  },
  {
   "cell_type": "code",
   "execution_count": 5,
   "id": "9eddfd8a-e51a-4f87-8cf3-2401ed3dae5a",
   "metadata": {},
   "outputs": [],
   "source": [
    "def fc_w_phi(phi):\n",
    "    a=300\n",
    "    b=250*1e-3\n",
    "    c=1\n",
    "    res= a/np.power(1-np.log(phi/100)/b,1/c)\n",
    "    return res "
   ]
  },
  {
   "cell_type": "code",
   "execution_count": 6,
   "id": "20af3599-3534-4000-afeb-3e81b18d8da5",
   "metadata": {
    "tags": []
   },
   "outputs": [],
   "source": [
    "def fc_phi_w(w):\n",
    "    a=300\n",
    "    b=250e-3\n",
    "    c=1\n",
    "    phi= np.exp(b*(1-(a/w)**c)) * 100 \n",
    "    return phi "
   ]
  },
  {
   "cell_type": "code",
   "execution_count": 7,
   "id": "0d74458c-f3b2-4977-8644-07a60efcdd83",
   "metadata": {},
   "outputs": [],
   "source": [
    "a=[]\n",
    "\n",
    "for i in range(1,100):\n",
    "    a.append(fc_w_phi(i))"
   ]
  },
  {
   "cell_type": "code",
   "execution_count": 8,
   "id": "9f397148-4747-47b0-b37c-de326129e60d",
   "metadata": {},
   "outputs": [
    {
     "data": {
      "text/plain": [
       "Text(0.5, 1.0, 'Sorption Isotherm - mineral wool')"
      ]
     },
     "execution_count": 8,
     "metadata": {},
     "output_type": "execute_result"
    },
    {
     "data": {
      "image/png": "[encoded data removed]",
      "text/plain": [
       "<Figure size 640x480 with 1 Axes>"
      ]
     },
     "metadata": {},
     "output_type": "display_data"
    }
   ],
   "source": [
    "plt.xlabel(\"Relative Humidity $\\phi$ [\\%]\")\n",
    "plt.ylabel(\"Moisture content w [kg/kg]\")\n",
    "\n",
    "plt.plot(range(1,100,1), a,  alpha=0.65)\n",
    "plt.title(\"Sorption Isotherm - mineral wool\")"
   ]
  },
  {
   "cell_type": "markdown",
   "id": "89b4a9ff-61f1-4b0d-ad84-0608a5020aee",
   "metadata": {},
   "source": [
    "### Water permability, saturated vapor pressure and heat conductivity"
   ]
  },
  {
   "cell_type": "code",
   "execution_count": 9,
   "id": "5fe5c522-f46c-4ea8-aef2-7e103fbb523e",
   "metadata": {
    "tags": []
   },
   "outputs": [],
   "source": [
    "def fc_psat_T (T):\n",
    "    #    return 610.5 * np.exp( 17.269*T / (237.3+T)) # T>0\n",
    "    #    return 610.5 * np.exp( 21.875*T / (265.5+T)) # T<0\n",
    "    #return np.power(10, 7.625*T/(241+T)+2.7877) # Lehrbuch\n",
    "    return 0.61094 * np.exp(17.625* T / (T + 243.03))"
   ]
  },
  {
   "cell_type": "code",
   "execution_count": 10,
   "id": "132b5c2e-d58d-424b-b47e-f325b3afcc33",
   "metadata": {
    "tags": []
   },
   "outputs": [],
   "source": [
    "def fc_deltapv_T (w,T):\n",
    "    a= (22.2 + 0.14*T) * 10**-6\n",
    "    b= -a \n",
    "    return (a + b*w /1000) *1e-2 /2"
   ]
  },
  {
   "cell_type": "code",
   "execution_count": 11,
   "id": "3810f4b7-12d6-4d91-b0f4-5e23dbcaec84",
   "metadata": {},
   "outputs": [],
   "source": [
    "def fc_lambda_w (w):\n",
    "    return 0.04 + 6*w /1000"
   ]
  },
  {
   "cell_type": "code",
   "execution_count": 12,
   "id": "631ddba2-0281-4a98-b59b-4378cbf7cccd",
   "metadata": {
    "tags": []
   },
   "outputs": [],
   "source": [
    "def update_Cm(w,phi,T):\n",
    "\tepsilon=0.001*np.min(w)\n",
    "\twp=w+epsilon\n",
    "\tphip=fc_phi_w(wp)\n",
    "\tdw=abs(wp-w)\n",
    "\tdphi=abs(phip-phi)/100\n",
    "\tpvs=fc_psat_T(T)\n",
    "\tCm=dw/dphi/pvs\n",
    "\treturn Cm"
   ]
  },
  {
   "cell_type": "code",
   "execution_count": 13,
   "id": "177fe457-4a49-4707-aecc-3993e6446415",
   "metadata": {
    "tags": []
   },
   "outputs": [],
   "source": [
    "Lv = 2503000"
   ]
  },
  {
   "cell_type": "code",
   "execution_count": 14,
   "id": "23276c0b-32a2-4f2d-ac75-ab5c20579191",
   "metadata": {
    "tags": []
   },
   "outputs": [
    {
     "data": {
      "text/plain": [
       "[<matplotlib.lines.Line2D at 0x7f4df488f410>]"
      ]
     },
     "execution_count": 14,
     "metadata": {},
     "output_type": "execute_result"
    },
    {
     "data": {
      "image/png": "[encoded data removed]",
      "text/plain": [
       "<Figure size 640x480 with 1 Axes>"
      ]
     },
     "metadata": {},
     "output_type": "display_data"
    }
   ],
   "source": [
    "b = fc_deltapv_T(np.array(np.arange(0,200,1)),np.ones(len(np.array(np.arange(0,200,1)))) * 20)\n",
    "\n",
    "plt.ylabel(\"Vapor diffusion coefficient $\\delta_v$ [$m^2/s$]\")\n",
    "plt.xlabel(\"Moisture content [kg/kg]\")\n",
    "\n",
    "plt.plot(np.arange(0,200,1), b, alpha=0.65, color=\"red\")\n",
    "\n"
   ]
  },
  {
   "cell_type": "code",
   "execution_count": 15,
   "id": "d7c16d7b-72d9-4f3f-a6be-31997eef878c",
   "metadata": {
    "tags": []
   },
   "outputs": [
    {
     "data": {
      "text/plain": [
       "[<matplotlib.lines.Line2D at 0x7f4df6ba2a50>]"
      ]
     },
     "execution_count": 15,
     "metadata": {},
     "output_type": "execute_result"
    },
    {
     "data": {
      "image/png": "[encoded data removed]",
      "text/plain": [
       "<Figure size 640x480 with 1 Axes>"
      ]
     },
     "metadata": {},
     "output_type": "display_data"
    }
   ],
   "source": [
    "b = fc_lambda_w(np.arange(0,200,1))\n",
    "\n",
    "plt.ylabel(\"Heat Conductivity $\\lambda$ [$W/m^2/K$]\")\n",
    "plt.xlabel(\"Moisture content [kg/kg]\")\n",
    "\n",
    "plt.plot(np.arange(0,200,1), b, alpha=0.65)"
   ]
  },
  {
   "cell_type": "markdown",
   "id": "8ece4228-db5e-4af5-b3c7-2cc2e41f980d",
   "metadata": {},
   "source": [
    "### Liquid Water transport"
   ]
  },
  {
   "cell_type": "code",
   "execution_count": 16,
   "id": "09ebbe1f-d782-434c-b466-af9142dd9307",
   "metadata": {},
   "outputs": [],
   "source": [
    "#function which resembles the suction curve\n",
    "def fc_wsuc_psuc(psuc):\n",
    "    return  300/ (1 + psuc * 1e-6)"
   ]
  },
  {
   "cell_type": "code",
   "execution_count": 17,
   "id": "935baf8f-0b06-429f-8b3e-2408fa6e6514",
   "metadata": {},
   "outputs": [],
   "source": [
    "#inverse of the suction curve\n",
    "def fc_psuc_w(w):\n",
    "    return (300/w - 1 ) * 1e6"
   ]
  },
  {
   "cell_type": "code",
   "execution_count": 18,
   "id": "f5e842f0-a63e-4f7c-a4fc-faa2edfaa626",
   "metadata": {},
   "outputs": [],
   "source": [
    "#calculating the total moisture conductivity\n",
    "def fc_Kw_psuc_wsuc_n(w,n):\n",
    "    psuc = fc_psuc_w(w)\n",
    "    wsuc = w\n",
    "    dwsuc = - 3e8 /(psuc + 1e6)**2\n",
    "    return -dwsuc * (n+1)/(2*n) * (10/60/300)**2 * (wsuc/300)**n * (n+1-(wsuc/300)**n)"
   ]
  },
  {
   "cell_type": "code",
   "execution_count": 19,
   "id": "d99dfbdf-c4c4-43a8-8774-fd28208598cd",
   "metadata": {},
   "outputs": [],
   "source": [
    "#Array to plot suction curve\n",
    "a=np.array([])\n",
    "for i in range(1,299):\n",
    "    a = np.append(a,fc_psuc_w(np.array([i])))\n",
    "    \n",
    "b= np.array([])\n",
    "\n",
    "#Loop to produce an expentionaly spaced water contant array\n",
    "for i in range(0,100,1):\n",
    "    b = np.append(b,np.exp(i*0.2))\n",
    "\n",
    "#Test inverse of suction curve\n",
    "c= np.array([])\n",
    "for i in b:\n",
    "    c = np.append(c,fc_wsuc_psuc(i))\n",
    "\n",
    "#Array to Plot the total moisture conductivity Kw\n",
    "h=fc_wsuc_psuc(b)\n",
    "d=np.array([])\n",
    "for i in h:\n",
    "    d = np.append(d,fc_Kw_psuc_wsuc_n(np.array([i]),13))"
   ]
  },
  {
   "cell_type": "code",
   "execution_count": 20,
   "id": "8be694ad-5db6-4606-a8db-9a5e962e1ae1",
   "metadata": {
    "tags": []
   },
   "outputs": [
    {
     "data": {
      "text/plain": [
       "Text(0.5, 1.0, 'Total moisture conductivity $K_w$')"
      ]
     },
     "execution_count": 20,
     "metadata": {},
     "output_type": "execute_result"
    },
    {
     "data": {
      "image/png": "[encoded data removed]",
      "text/plain": [
       "<Figure size 640x480 with 1 Axes>"
      ]
     },
     "metadata": {},
     "output_type": "display_data"
    },
    {
     "data": {
      "image/png": "[encoded data removed]",
      "text/plain": [
       "<Figure size 640x480 with 1 Axes>"
      ]
     },
     "metadata": {},
     "output_type": "display_data"
    }
   ],
   "source": [
    "# fig = plt.figure()\n",
    "# ax = fig.add_subplot(1,1,1)\n",
    "# line, = ax.plot(a,range(1,299,1),  alpha=0.65)\n",
    "# ax.set_xscale(\"log\")\n",
    "# plt.title(\"Sorption Isotherm - mineral wool\")\n",
    "\n",
    "fig2 = plt.figure()\n",
    "bx = fig2.add_subplot(1,1,1)\n",
    "lin2, = bx.plot(b,c,alpha=0.65)\n",
    "bx.set_xscale(\"log\")\n",
    "plt.title(\"Suction Curve $P_{suc}$\")\n",
    "plt.xlabel(\"$\\log( P_{suc})$ in $\\log(Pa)$\")\n",
    "\n",
    "fig3 = plt.figure()\n",
    "\n",
    "cx = fig3.add_subplot(1,1,1)\n",
    "lin3, =cx.plot(b,d,alpha=0.65)\n",
    "cx.set_xscale(\"log\")\n",
    "cx.set_yscale(\"log\")\n",
    "plt.title(\"Total moisture conductivity $K_w$\")"
   ]
  },
  {
   "cell_type": "markdown",
   "id": "1ab2eb87-141b-446b-a8b3-591a459e035a",
   "metadata": {},
   "source": [
    "### Conductivity Matrices"
   ]
  },
  {
   "cell_type": "code",
   "execution_count": 21,
   "id": "617ce262-7e24-463e-ae53-a2066118e193",
   "metadata": {},
   "outputs": [],
   "source": [
    "def new_Cmatrix_norm_avg(Kw,layers):\n",
    "    # reference number of cells to increase readability\n",
    "    n = layers[-1].n\n",
    "    \n",
    "    # Initialising conductivity matrix K and M\n",
    "    W = np.zeros((n,n))\n",
    "    \n",
    "    # iterater to keep track of cell numbers\n",
    "    counter = 1\n",
    "    for layer in layers:\n",
    "        #step size for the current layer\n",
    "        deltaX=layer.width / layer.n_cells\n",
    "        \n",
    "        #initialize empty conductivity matrix for the current layer\n",
    "        W_current = np.zeros((n,n))\n",
    "        \n",
    "        for cell in range(0,layer.n_cells):\n",
    "        \n",
    "        \n",
    "            #defining the \"east\" and \"west\" conductivity for interior cells\n",
    "            W_current[counter,counter-1]= 1/2 / deltaX **2 *(Kw[counter-1] + Kw[counter])\n",
    "            W_current[counter,counter+1]= 1/2 / deltaX **2 *(Kw[counter] + Kw[counter+1])\n",
    "            \n",
    "            counter += 1\n",
    "    W += W_current\n",
    "    \n",
    "    #The diagonal of the conductivity matrix is defined as the negative sum of the \n",
    "    #\"east\" and \"west\" conductivity for the cell\n",
    "    W[range(0,len(W)),range(0,len(W))]= -np.sum(W,axis=1)\n",
    "    \n",
    "    #free first and last row; this leads to constant values at the boundaries\n",
    "    W[0,:]=0\n",
    "    W[-1,:]=0\n",
    "\n",
    "    W[-2,-2]=W[-2,-2]/2\n",
    "    W[-2,-1]=0\n",
    "    W[1,0]=W[1,0]/2\n",
    "\n",
    "    return W"
   ]
  },
  {
   "cell_type": "code",
   "execution_count": 22,
   "id": "f50797a6-5302-4cff-a67f-a66e4564b768",
   "metadata": {},
   "outputs": [],
   "source": [
    "def new_Cmatrix_harm_avg(Kw,layers):\n",
    "    # reference number of cells to increase readability\n",
    "    n = layers[-1].n\n",
    "    \n",
    "    # Initialising conductivity matrix K and M\n",
    "    W = np.zeros((n,n))\n",
    "    \n",
    "    # iterater to keep track of cell numbers\n",
    "    counter = 1\n",
    "    for layer in layers:\n",
    "        #step size for the current layer\n",
    "        deltaX=layer.width / layer.n_cells\n",
    "        \n",
    "        #initialize empty conductivity matrix for the current layer\n",
    "        W_current = np.zeros((n,n))\n",
    "        \n",
    "        for cell in range(0,layer.n_cells):\n",
    "        \n",
    "        \n",
    "            #defining the \"east\" and \"west\" conductivity for interior cells\n",
    "            W_current[counter,counter-1]= 1 / deltaX **2 * 2/(1/Kw[counter-1] + 1/Kw[counter])\n",
    "            W_current[counter,counter+1]= 1 / deltaX **2 * 2/(1/Kw[counter] + 1/Kw[counter+1])\n",
    "                    \n",
    "            counter += 1\n",
    "    W += W_current\n",
    "    \n",
    "    #The diagonal of the conductivity matrix is defined as the negative sum of the \n",
    "    #\"east\" and \"west\" conductivity for the cell\n",
    "    W[range(0,len(W)),range(0,len(W))]= -np.sum(W,axis=1)\n",
    "    \n",
    "    #free first and last row; this leads to constant values at the boundaries\n",
    "    W[0,:]=0\n",
    "    W[-1,:]=0\n",
    "\n",
    "    W[-2,-1]=0\n",
    "    W[1,0]=W[1,0]/2\n",
    "\n",
    "    return W"
   ]
  },
  {
   "cell_type": "markdown",
   "id": "c0363d65-0b59-440c-8383-39231f9702f0",
   "metadata": {
    "tags": []
   },
   "source": [
    "### Construction of the conductivity matrix $K$ and $M$"
   ]
  },
  {
   "cell_type": "markdown",
   "id": "f08e0224-df34-456b-96bc-1d6cad249d2c",
   "metadata": {},
   "source": [
    "### Initialize Temperature and Moisture Field"
   ]
  },
  {
   "cell_type": "code",
   "execution_count": 23,
   "id": "c886a01d-9c52-4c4f-88c3-d3cdbf0bbf9a",
   "metadata": {},
   "outputs": [],
   "source": [
    "#initialize the temperaturefield\n",
    "vec_T_w = np.ones(layer.n*2) * 0.001\n",
    "vec_T_w[0:layer.n-1] = 20\n",
    "vec_T_w[layer.n:layer.n*2] = fc_w_phi(0.01)\n",
    "\n",
    "#Insert Boundary Konditions\n",
    "vec_T_w[0]= boundaries.temperature1\n",
    "vec_T_w[layer.n-1]= boundaries.temperature2\n",
    "#Insert Boundary Konditions\n",
    "vec_T_w[layer.n]= 300\n",
    "vec_T_w[-1]= 0.001\n",
    "#print(vec_T_w)\n"
   ]
  },
  {
   "cell_type": "markdown",
   "id": "1645b573-a470-42a9-8711-839ab5420406",
   "metadata": {},
   "source": [
    "### Solving"
   ]
  },
  {
   "cell_type": "code",
   "execution_count": 24,
   "id": "4113429d-0146-4b84-9dc4-89a8b62813ae",
   "metadata": {
    "tags": []
   },
   "outputs": [],
   "source": [
    "def dt_w_dt(t,vec_T_w):\n",
    "    #Splitting up temp and water vector\n",
    "    \n",
    "    T = vec_T_w[0:layer.n]\n",
    "    w = vec_T_w[layer.n:layer.n*2]\n",
    "    result.append(w)\n",
    "\n",
    "\n",
    "    \n",
    "    c = 1000\n",
    "    rho = 160\n",
    "    Lv = 2503000\n",
    "    \n",
    "    \n",
    "    thermConduct = fc_lambda_w(w)\n",
    "    deltapv = fc_deltapv_T(w,T)\n",
    "\n",
    "    #vapor pressure\n",
    "    phi = fc_phi_w(w)\n",
    "    pvap = fc_psat_T(T) * phi /100\n",
    "    M = new_Cmatrix_harm_avg(deltapv,layers)\n",
    "  \n",
    "    \n",
    "    #liquid water transport\n",
    "    psuc = fc_psuc_w(w)\n",
    "    Kleit = fc_Kw_psuc_wsuc_n(w,13)\n",
    "    W = new_Cmatrix_norm_avg(Kleit,layers)\n",
    "\n",
    "    K = new_Cmatrix_harm_avg(thermConduct,layers)\n",
    "\n",
    "    \n",
    "    delta_T = ( np.dot(K,T) +  deltapv * Lv * np.dot(M,pvap) )/(c*rho)\n",
    "\n",
    "    \n",
    "    liquittransport = - np.dot(W,psuc)\n",
    "    vaportransport = np.dot(M,pvap)\n",
    "    delta_w =  liquittransport + vaportransport\n",
    "\n",
    "    testarray.append(vaportransport[20])\n",
    "    testarray2.append(liquittransport[20])\n",
    "   \n",
    "    \n",
    "    return np.append(delta_T,delta_w)"
   ]
  },
  {
   "cell_type": "code",
   "execution_count": 25,
   "id": "77b53d72-8b07-4a75-a100-de94999ed8df",
   "metadata": {
    "tags": []
   },
   "outputs": [
    {
     "ename": "KeyboardInterrupt",
     "evalue": "",
     "output_type": "error",
     "traceback": [
      "\u001b[0;31m---------------------------------------------------------------------------\u001b[0m",
      "\u001b[0;31mKeyboardInterrupt\u001b[0m                         Traceback (most recent call last)",
      "Cell \u001b[0;32mIn[25], line 6\u001b[0m\n\u001b[1;32m      3\u001b[0m result \u001b[38;5;241m=\u001b[39m []\n\u001b[1;32m      5\u001b[0m \u001b[38;5;66;03m#dt_w_dt(t,vec_T_w)\u001b[39;00m\n\u001b[0;32m----> 6\u001b[0m result_coupled_fluid \u001b[38;5;241m=\u001b[39m \u001b[43mscipy\u001b[49m\u001b[38;5;241;43m.\u001b[39;49m\u001b[43mintegrate\u001b[49m\u001b[38;5;241;43m.\u001b[39;49m\u001b[43msolve_ivp\u001b[49m\u001b[43m(\u001b[49m\u001b[43mdt_w_dt\u001b[49m\u001b[43m,\u001b[49m\u001b[43m(\u001b[49m\u001b[38;5;241;43m0\u001b[39;49m\u001b[43m,\u001b[49m\u001b[38;5;241;43m60\u001b[39;49m\u001b[38;5;241;43m*\u001b[39;49m\u001b[38;5;241;43m60\u001b[39;49m\u001b[38;5;241;43m*\u001b[39;49m\u001b[38;5;241;43m24\u001b[39;49m\u001b[38;5;241;43m*\u001b[39;49m\u001b[38;5;241;43m3\u001b[39;49m\u001b[43m)\u001b[49m\u001b[43m,\u001b[49m\u001b[43mvec_T_w\u001b[49m\u001b[43m,\u001b[49m\u001b[43mmethod\u001b[49m\u001b[38;5;241;43m=\u001b[39;49m\u001b[38;5;124;43m\"\u001b[39;49m\u001b[38;5;124;43mRadau\u001b[39;49m\u001b[38;5;124;43m\"\u001b[39;49m\u001b[43m)\u001b[49m\u001b[38;5;66;03m#,atol=1e-10,rtol=1e-8)\u001b[39;00m\n",
      "File \u001b[0;32m~/.local/lib/python3.11/site-packages/scipy/integrate/_ivp/ivp.py:591\u001b[0m, in \u001b[0;36msolve_ivp\u001b[0;34m(fun, t_span, y0, method, t_eval, dense_output, events, vectorized, args, **options)\u001b[0m\n\u001b[1;32m    589\u001b[0m status \u001b[38;5;241m=\u001b[39m \u001b[38;5;28;01mNone\u001b[39;00m\n\u001b[1;32m    590\u001b[0m \u001b[38;5;28;01mwhile\u001b[39;00m status \u001b[38;5;129;01mis\u001b[39;00m \u001b[38;5;28;01mNone\u001b[39;00m:\n\u001b[0;32m--> 591\u001b[0m     message \u001b[38;5;241m=\u001b[39m \u001b[43msolver\u001b[49m\u001b[38;5;241;43m.\u001b[39;49m\u001b[43mstep\u001b[49m\u001b[43m(\u001b[49m\u001b[43m)\u001b[49m\n\u001b[1;32m    593\u001b[0m     \u001b[38;5;28;01mif\u001b[39;00m solver\u001b[38;5;241m.\u001b[39mstatus \u001b[38;5;241m==\u001b[39m \u001b[38;5;124m'\u001b[39m\u001b[38;5;124mfinished\u001b[39m\u001b[38;5;124m'\u001b[39m:\n\u001b[1;32m    594\u001b[0m         status \u001b[38;5;241m=\u001b[39m \u001b[38;5;241m0\u001b[39m\n",
      "File \u001b[0;32m~/.local/lib/python3.11/site-packages/scipy/integrate/_ivp/base.py:181\u001b[0m, in \u001b[0;36mOdeSolver.step\u001b[0;34m(self)\u001b[0m\n\u001b[1;32m    179\u001b[0m \u001b[38;5;28;01melse\u001b[39;00m:\n\u001b[1;32m    180\u001b[0m     t \u001b[38;5;241m=\u001b[39m \u001b[38;5;28mself\u001b[39m\u001b[38;5;241m.\u001b[39mt\n\u001b[0;32m--> 181\u001b[0m     success, message \u001b[38;5;241m=\u001b[39m \u001b[38;5;28;43mself\u001b[39;49m\u001b[38;5;241;43m.\u001b[39;49m\u001b[43m_step_impl\u001b[49m\u001b[43m(\u001b[49m\u001b[43m)\u001b[49m\n\u001b[1;32m    183\u001b[0m     \u001b[38;5;28;01mif\u001b[39;00m \u001b[38;5;129;01mnot\u001b[39;00m success:\n\u001b[1;32m    184\u001b[0m         \u001b[38;5;28mself\u001b[39m\u001b[38;5;241m.\u001b[39mstatus \u001b[38;5;241m=\u001b[39m \u001b[38;5;124m'\u001b[39m\u001b[38;5;124mfailed\u001b[39m\u001b[38;5;124m'\u001b[39m\n",
      "File \u001b[0;32m~/.local/lib/python3.11/site-packages/scipy/integrate/_ivp/radau.py:506\u001b[0m, in \u001b[0;36mRadau._step_impl\u001b[0;34m(self)\u001b[0m\n\u001b[1;32m    504\u001b[0m f_new \u001b[38;5;241m=\u001b[39m \u001b[38;5;28mself\u001b[39m\u001b[38;5;241m.\u001b[39mfun(t_new, y_new)\n\u001b[1;32m    505\u001b[0m \u001b[38;5;28;01mif\u001b[39;00m recompute_jac:\n\u001b[0;32m--> 506\u001b[0m     J \u001b[38;5;241m=\u001b[39m \u001b[43mjac\u001b[49m\u001b[43m(\u001b[49m\u001b[43mt_new\u001b[49m\u001b[43m,\u001b[49m\u001b[43m \u001b[49m\u001b[43my_new\u001b[49m\u001b[43m,\u001b[49m\u001b[43m \u001b[49m\u001b[43mf_new\u001b[49m\u001b[43m)\u001b[49m\n\u001b[1;32m    507\u001b[0m     current_jac \u001b[38;5;241m=\u001b[39m \u001b[38;5;28;01mTrue\u001b[39;00m\n\u001b[1;32m    508\u001b[0m \u001b[38;5;28;01melif\u001b[39;00m jac \u001b[38;5;129;01mis\u001b[39;00m \u001b[38;5;129;01mnot\u001b[39;00m \u001b[38;5;28;01mNone\u001b[39;00m:\n",
      "File \u001b[0;32m~/.local/lib/python3.11/site-packages/scipy/integrate/_ivp/radau.py:352\u001b[0m, in \u001b[0;36mRadau._validate_jac.<locals>.jac_wrapped\u001b[0;34m(t, y, f)\u001b[0m\n\u001b[1;32m    350\u001b[0m \u001b[38;5;28;01mdef\u001b[39;00m \u001b[38;5;21mjac_wrapped\u001b[39m(t, y, f):\n\u001b[1;32m    351\u001b[0m     \u001b[38;5;28mself\u001b[39m\u001b[38;5;241m.\u001b[39mnjev \u001b[38;5;241m+\u001b[39m\u001b[38;5;241m=\u001b[39m \u001b[38;5;241m1\u001b[39m\n\u001b[0;32m--> 352\u001b[0m     J, \u001b[38;5;28mself\u001b[39m\u001b[38;5;241m.\u001b[39mjac_factor \u001b[38;5;241m=\u001b[39m \u001b[43mnum_jac\u001b[49m\u001b[43m(\u001b[49m\u001b[38;5;28;43mself\u001b[39;49m\u001b[38;5;241;43m.\u001b[39;49m\u001b[43mfun_vectorized\u001b[49m\u001b[43m,\u001b[49m\u001b[43m \u001b[49m\u001b[43mt\u001b[49m\u001b[43m,\u001b[49m\u001b[43m \u001b[49m\u001b[43my\u001b[49m\u001b[43m,\u001b[49m\u001b[43m \u001b[49m\u001b[43mf\u001b[49m\u001b[43m,\u001b[49m\n\u001b[1;32m    353\u001b[0m \u001b[43m                                 \u001b[49m\u001b[38;5;28;43mself\u001b[39;49m\u001b[38;5;241;43m.\u001b[39;49m\u001b[43matol\u001b[49m\u001b[43m,\u001b[49m\u001b[43m \u001b[49m\u001b[38;5;28;43mself\u001b[39;49m\u001b[38;5;241;43m.\u001b[39;49m\u001b[43mjac_factor\u001b[49m\u001b[43m,\u001b[49m\n\u001b[1;32m    354\u001b[0m \u001b[43m                                 \u001b[49m\u001b[43msparsity\u001b[49m\u001b[43m)\u001b[49m\n\u001b[1;32m    355\u001b[0m     \u001b[38;5;28;01mreturn\u001b[39;00m J\n",
      "File \u001b[0;32m~/.local/lib/python3.11/site-packages/scipy/integrate/_ivp/common.py:318\u001b[0m, in \u001b[0;36mnum_jac\u001b[0;34m(fun, t, y, f, threshold, factor, sparsity)\u001b[0m\n\u001b[1;32m    315\u001b[0m         h[i] \u001b[38;5;241m=\u001b[39m (y[i] \u001b[38;5;241m+\u001b[39m factor[i] \u001b[38;5;241m*\u001b[39m y_scale[i]) \u001b[38;5;241m-\u001b[39m y[i]\n\u001b[1;32m    317\u001b[0m \u001b[38;5;28;01mif\u001b[39;00m sparsity \u001b[38;5;129;01mis\u001b[39;00m \u001b[38;5;28;01mNone\u001b[39;00m:\n\u001b[0;32m--> 318\u001b[0m     \u001b[38;5;28;01mreturn\u001b[39;00m \u001b[43m_dense_num_jac\u001b[49m\u001b[43m(\u001b[49m\u001b[43mfun\u001b[49m\u001b[43m,\u001b[49m\u001b[43m \u001b[49m\u001b[43mt\u001b[49m\u001b[43m,\u001b[49m\u001b[43m \u001b[49m\u001b[43my\u001b[49m\u001b[43m,\u001b[49m\u001b[43m \u001b[49m\u001b[43mf\u001b[49m\u001b[43m,\u001b[49m\u001b[43m \u001b[49m\u001b[43mh\u001b[49m\u001b[43m,\u001b[49m\u001b[43m \u001b[49m\u001b[43mfactor\u001b[49m\u001b[43m,\u001b[49m\u001b[43m \u001b[49m\u001b[43my_scale\u001b[49m\u001b[43m)\u001b[49m\n\u001b[1;32m    319\u001b[0m \u001b[38;5;28;01melse\u001b[39;00m:\n\u001b[1;32m    320\u001b[0m     structure, groups \u001b[38;5;241m=\u001b[39m sparsity\n",
      "File \u001b[0;32m~/.local/lib/python3.11/site-packages/scipy/integrate/_ivp/common.py:328\u001b[0m, in \u001b[0;36m_dense_num_jac\u001b[0;34m(fun, t, y, f, h, factor, y_scale)\u001b[0m\n\u001b[1;32m    326\u001b[0m n \u001b[38;5;241m=\u001b[39m y\u001b[38;5;241m.\u001b[39mshape[\u001b[38;5;241m0\u001b[39m]\n\u001b[1;32m    327\u001b[0m h_vecs \u001b[38;5;241m=\u001b[39m np\u001b[38;5;241m.\u001b[39mdiag(h)\n\u001b[0;32m--> 328\u001b[0m f_new \u001b[38;5;241m=\u001b[39m \u001b[43mfun\u001b[49m\u001b[43m(\u001b[49m\u001b[43mt\u001b[49m\u001b[43m,\u001b[49m\u001b[43m \u001b[49m\u001b[43my\u001b[49m\u001b[43m[\u001b[49m\u001b[43m:\u001b[49m\u001b[43m,\u001b[49m\u001b[43m \u001b[49m\u001b[38;5;28;43;01mNone\u001b[39;49;00m\u001b[43m]\u001b[49m\u001b[43m \u001b[49m\u001b[38;5;241;43m+\u001b[39;49m\u001b[43m \u001b[49m\u001b[43mh_vecs\u001b[49m\u001b[43m)\u001b[49m\n\u001b[1;32m    329\u001b[0m diff \u001b[38;5;241m=\u001b[39m f_new \u001b[38;5;241m-\u001b[39m f[:, \u001b[38;5;28;01mNone\u001b[39;00m]\n\u001b[1;32m    330\u001b[0m max_ind \u001b[38;5;241m=\u001b[39m np\u001b[38;5;241m.\u001b[39margmax(np\u001b[38;5;241m.\u001b[39mabs(diff), axis\u001b[38;5;241m=\u001b[39m\u001b[38;5;241m0\u001b[39m)\n",
      "File \u001b[0;32m~/.local/lib/python3.11/site-packages/scipy/integrate/_ivp/base.py:133\u001b[0m, in \u001b[0;36mOdeSolver.__init__.<locals>.fun_vectorized\u001b[0;34m(t, y)\u001b[0m\n\u001b[1;32m    131\u001b[0m f \u001b[38;5;241m=\u001b[39m np\u001b[38;5;241m.\u001b[39mempty_like(y)\n\u001b[1;32m    132\u001b[0m \u001b[38;5;28;01mfor\u001b[39;00m i, yi \u001b[38;5;129;01min\u001b[39;00m \u001b[38;5;28menumerate\u001b[39m(y\u001b[38;5;241m.\u001b[39mT):\n\u001b[0;32m--> 133\u001b[0m     f[:, i] \u001b[38;5;241m=\u001b[39m \u001b[38;5;28;43mself\u001b[39;49m\u001b[38;5;241;43m.\u001b[39;49m\u001b[43m_fun\u001b[49m\u001b[43m(\u001b[49m\u001b[43mt\u001b[49m\u001b[43m,\u001b[49m\u001b[43m \u001b[49m\u001b[43myi\u001b[49m\u001b[43m)\u001b[49m\n\u001b[1;32m    134\u001b[0m \u001b[38;5;28;01mreturn\u001b[39;00m f\n",
      "File \u001b[0;32m~/.local/lib/python3.11/site-packages/scipy/integrate/_ivp/base.py:20\u001b[0m, in \u001b[0;36mcheck_arguments.<locals>.fun_wrapped\u001b[0;34m(t, y)\u001b[0m\n\u001b[1;32m     19\u001b[0m \u001b[38;5;28;01mdef\u001b[39;00m \u001b[38;5;21mfun_wrapped\u001b[39m(t, y):\n\u001b[0;32m---> 20\u001b[0m     \u001b[38;5;28;01mreturn\u001b[39;00m np\u001b[38;5;241m.\u001b[39masarray(\u001b[43mfun\u001b[49m\u001b[43m(\u001b[49m\u001b[43mt\u001b[49m\u001b[43m,\u001b[49m\u001b[43m \u001b[49m\u001b[43my\u001b[49m\u001b[43m)\u001b[49m, dtype\u001b[38;5;241m=\u001b[39mdtype)\n",
      "Cell \u001b[0;32mIn[24], line 27\u001b[0m, in \u001b[0;36mdt_w_dt\u001b[0;34m(t, vec_T_w)\u001b[0m\n\u001b[1;32m     25\u001b[0m psuc \u001b[38;5;241m=\u001b[39m fc_psuc_w(w)\n\u001b[1;32m     26\u001b[0m Kleit \u001b[38;5;241m=\u001b[39m fc_Kw_psuc_wsuc_n(w,\u001b[38;5;241m13\u001b[39m)\n\u001b[0;32m---> 27\u001b[0m W \u001b[38;5;241m=\u001b[39m \u001b[43mnew_Cmatrix_norm_avg\u001b[49m\u001b[43m(\u001b[49m\u001b[43mKleit\u001b[49m\u001b[43m,\u001b[49m\u001b[43mlayers\u001b[49m\u001b[43m)\u001b[49m\n\u001b[1;32m     29\u001b[0m K \u001b[38;5;241m=\u001b[39m new_Cmatrix_harm_avg(thermConduct,layers)\n\u001b[1;32m     32\u001b[0m delta_T \u001b[38;5;241m=\u001b[39m ( np\u001b[38;5;241m.\u001b[39mdot(K,T) \u001b[38;5;241m+\u001b[39m  deltapv \u001b[38;5;241m*\u001b[39m Lv \u001b[38;5;241m*\u001b[39m np\u001b[38;5;241m.\u001b[39mdot(M,pvap) )\u001b[38;5;241m/\u001b[39m(c\u001b[38;5;241m*\u001b[39mrho)\n",
      "Cell \u001b[0;32mIn[21], line 24\u001b[0m, in \u001b[0;36mnew_Cmatrix_norm_avg\u001b[0;34m(Kw, layers)\u001b[0m\n\u001b[1;32m     21\u001b[0m         W_current[counter,counter\u001b[38;5;241m-\u001b[39m\u001b[38;5;241m1\u001b[39m]\u001b[38;5;241m=\u001b[39m \u001b[38;5;241m1\u001b[39m\u001b[38;5;241m/\u001b[39m\u001b[38;5;241m2\u001b[39m \u001b[38;5;241m/\u001b[39m deltaX \u001b[38;5;241m*\u001b[39m\u001b[38;5;241m*\u001b[39m\u001b[38;5;241m2\u001b[39m \u001b[38;5;241m*\u001b[39m(Kw[counter\u001b[38;5;241m-\u001b[39m\u001b[38;5;241m1\u001b[39m] \u001b[38;5;241m+\u001b[39m Kw[counter])\n\u001b[1;32m     22\u001b[0m         W_current[counter,counter\u001b[38;5;241m+\u001b[39m\u001b[38;5;241m1\u001b[39m]\u001b[38;5;241m=\u001b[39m \u001b[38;5;241m1\u001b[39m\u001b[38;5;241m/\u001b[39m\u001b[38;5;241m2\u001b[39m \u001b[38;5;241m/\u001b[39m deltaX \u001b[38;5;241m*\u001b[39m\u001b[38;5;241m*\u001b[39m\u001b[38;5;241m2\u001b[39m \u001b[38;5;241m*\u001b[39m(Kw[counter] \u001b[38;5;241m+\u001b[39m Kw[counter\u001b[38;5;241m+\u001b[39m\u001b[38;5;241m1\u001b[39m])\n\u001b[0;32m---> 24\u001b[0m         counter \u001b[38;5;241m+\u001b[39m\u001b[38;5;241m=\u001b[39m \u001b[38;5;241m1\u001b[39m\n\u001b[1;32m     25\u001b[0m W \u001b[38;5;241m+\u001b[39m\u001b[38;5;241m=\u001b[39m W_current\n\u001b[1;32m     27\u001b[0m \u001b[38;5;66;03m#The diagonal of the conductivity matrix is defined as the negative sum of the \u001b[39;00m\n\u001b[1;32m     28\u001b[0m \u001b[38;5;66;03m#\"east\" and \"west\" conductivity for the cell\u001b[39;00m\n",
      "\u001b[0;31mKeyboardInterrupt\u001b[0m: "
     ]
    }
   ],
   "source": [
    "testarray=[]\n",
    "testarray2=[]\n",
    "result = []\n",
    "\n",
    "#dt_w_dt(t,vec_T_w)\n",
    "result_coupled_fluid = scipy.integrate.solve_ivp(dt_w_dt,(0,60*60*24*3),vec_T_w,method=\"Radau\")#,atol=1e-10,rtol=1e-8)"
   ]
  },
  {
   "cell_type": "code",
   "execution_count": 41,
   "id": "fc9e1b2f-6b3b-4a2e-9e7b-8fd8e00d2195",
   "metadata": {
    "tags": []
   },
   "outputs": [
    {
     "data": {
      "text/plain": [
       "<matplotlib.legend.Legend at 0x7f2d56463cd0>"
      ]
     },
     "execution_count": 41,
     "metadata": {},
     "output_type": "execute_result"
    },
    {
     "data": {
      "image/png": "[encoded data removed]",
      "text/plain": [
       "<Figure size 640x480 with 1 Axes>"
      ]
     },
     "metadata": {},
     "output_type": "display_data"
    }
   ],
   "source": [
    "res_w_heat =[]\n",
    "res_w_coup=[]\n",
    "for i in range(layer.n,layer.n*2):\n",
    "    res_w_coup.append(result_coupled_fluid.y[i,-1])\n",
    "    res_w_heat.append(0)\n",
    "    \n",
    "plt.ylabel(\"Moisture content [$kg/m^3$]\")\n",
    "plt.xlabel(\"cell\")\n",
    "plt.ylim([0,320])\n",
    "\n",
    "plt.title(\"Moisture Field\")\n",
    "\n",
    "plt.plot(np.linspace(0,layer.n /2), res_w_coup[0:round(layer.n/2)-1], label=\"vapor + liquid\")\n",
    "plt.legend()"
   ]
  },
  {
   "cell_type": "code",
   "execution_count": 27,
   "id": "67363f60-ce4a-4fb2-bab5-bb1c16e97feb",
   "metadata": {},
   "outputs": [],
   "source": [
    "#reduce the result to allow an animation\n",
    "redresult= []\n",
    "for i in range(len(result)):\n",
    "    if i%1000 == 0:\n",
    "        redresult.append(result[i])"
   ]
  },
  {
   "cell_type": "code",
   "execution_count": 32,
   "id": "3b3e24f2-7b28-4e7a-ad82-aca16c9fa0e5",
   "metadata": {},
   "outputs": [
    {
     "data": {
      "text/html": [
       "<video width=\"640\" height=\"480\" controls autoplay loop>\n",
       "  <source type=\"video/mp4\" src=\"data:video/mp4;base64,AAAAIGZ0eXBNNFYgAAACAE00ViBpc29taXNvMmF2YzEAAAAIZnJlZQAAqW1tZGF0AAACrgYF//+q\n",
       "3EXpvebZSLeWLNgg2SPu73gyNjQgLSBjb3JlIDE2NCByMzA5NSBiYWVlNDAwIC0gSC4yNjQvTVBF\n",
       "Ry00IEFWQyBjb2RlYyAtIENvcHlsZWZ0IDIwMDMtMjAyMiAtIGh0dHA6Ly93d3cudmlkZW9sYW4u\n",
       "b3JnL3gyNjQuaHRtbCAtIG9wdGlvbnM6IGNhYmFjPTEgcmVmPTMgZGVibG9jaz0xOjA6MCBhbmFs\n",
       "eXNlPTB4MzoweDExMyBtZT1oZXggc3VibWU9NyBwc3k9MSBwc3lfcmQ9MS4wMDowLjAwIG1peGVk\n",
       "X3JlZj0xIG1lX3JhbmdlPTE2IGNocm9tYV9tZT0xIHRyZWxsaXM9MSA4eDhkY3Q9MSBjcW09MCBk\n",
       "ZWFkem9uZT0yMSwxMSBmYXN0X3Bza2lwPTEgY2hyb21hX3FwX29mZnNldD0tMiB0aHJlYWRzPTEy\n",
       "IGxvb2thaGVhZF90aHJlYWRzPTIgc2xpY2VkX3RocmVhZHM9MCBucj0wIGRlY2ltYXRlPTEgaW50\n",
       "ZXJsYWNlZD0wIGJsdXJheV9jb21wYXQ9MCBjb25zdHJhaW5lZF9pbnRyYT0wIGJmcmFtZXM9MyBi\n",
       "X3B5cmFtaWQ9MiBiX2FkYXB0PTEgYl9iaWFzPTAgZGlyZWN0PTEgd2VpZ2h0Yj0xIG9wZW5fZ29w\n",
       "PTAgd2VpZ2h0cD0yIGtleWludD0yNTAga2V5aW50X21pbj01IHNjZW5lY3V0PTQwIGludHJhX3Jl\n",
       "ZnJlc2g9MCByY19sb29rYWhlYWQ9NDAgcmM9Y3JmIG1idHJlZT0xIGNyZj0yMy4wIHFjb21wPTAu\n",
       "NjAgcXBtaW49MCBxcG1heD02OSBxcHN0ZXA9NCBpcF9yYXRpbz0xLjQwIGFxPTE6MS4wMACAAAAW\n",
       "aWWIhAAS//73rd+BTcBA7Wu6Vzi0y6uUND1R9pSmeLZIAAADAAADAAAP8M2+n1EV15emAAADAH4A\n",
       "ErSX+DPf/FfLcyyYPKKopS2zzm/qAY2JEbOvUBrgXPy2iksu2xaYNk+aTlVHRze6Ckh/M/h4brzt\n",
       "QPCjOURLGtl/ba64KWdI0q5vVF4ehoFycDOgnE/QSa11FxGZT2lmuM78Aem3uO+mRGZm1StIwmOC\n",
       "pWSY8OxtX+P6awtiDeTX+sBAl1S1HR8N+iAhxL0NWtP4YfTZnNMySgAL/eVN2LUD2DukmrADg+7r\n",
       "MSUT6NVonKLXYDBCiBWCdDP++gXBZIIxZj8f6QQi/kxP55apcPPrRNdHtglG1tlWIeY/x1QzWWrT\n",
       "AIu1mUEkbF02nPpQia9UDDs7rzWDz6R3Y6gxViuPeMHSV/n7MEXIw7UyU2Cv4d9F85/pj1X5Xp3w\n",
       "6o2nAaWFH77pC/ea40R9ECo9yQAS8hZSKQHnI4Ulqh60declVTvjs3xJ+t4oPWMHOxbL9iU9e/IB\n",
       "OOyPcZ/wzD2j0lzZSfxvcnnKWwvR0WMSZRw7sF94aqrvK7MSUuzD7FtW8qFSUeGHNgYUBiEl+gAJ\n",
       "Dma8Fz+OMU/ogWVgyaf5tTC+eHvA1XnFXB9KME7Wx/uPjeWLtJFjfGCDY2IeUADIuahD0By59KdV\n",
       "x+8MRb/30boWzALsb6qJc2/DXBzrNK55Be/VskiVsUN1/p03oQXAbqZiwoAhupWuMOdIZ0JDUARB\n",
       "bhAcnTGefBlgrJxlb/wBpxxtKWjGDhI07/SoT+uLqaM+SEICLPjML04X3VZznBYnG70EIo96v4pY\n",
       "RwXO4cuSWJ5Hehy7K29BU3RtN2ryEEpiMRR6g3OCKyoQhPdCuIKunOrYXmvXFGJ2Ym6L109VjYy6\n",
       "Q2oO+qHPzVS8EHUO3vlCyMLBFRFatMqYjiTQeiy7cKWIuJV9dv3dnk328ntG7JiMLvpKQ1lBWkGi\n",
       "UPQEaJlVPvnHHUT6iQNtIsyOImENJLoRohdMr8bamaORe4u/+0Jo/d/dhSdfn5asMW3BUOW/Kytu\n",
       "SConXZj01ESsadO5IdaED76GzCLL+t+m0P3F2YzNSCP1sMS0MpshlcYtD0CukQ2fKBPQGo2Q1SPi\n",
       "ynw2/E93HAF696dJVk1Wijf2RLq0F4gatoRKw6TTx47f3VveJThHEo8eg6uTdGSqFn/IBwENITfU\n",
       "swxQuqAfo7aHLxPVo3y52tRTqeykT2OtecGu3lN+rXERBpwL6N+ZnVIwfMt1B9UxipKxS0QUy+E1\n",
       "f8e24DZKBSgR8/OKRYoxcXYd4oMEtRy7C6eZVKNGD5FR8vrUfIpbrTgMhN9f1IngeFBlqZdE0ibq\n",
       "jDuqLcXz8j4TKx9Dl2OMtTA6NjlxW/Yc6QUg+oRmYr4HgqF1O5gKYp1rP2A2kF2bqWu37dKDru6O\n",
       "o8EeI7ObUtreX6Fxkoi2WIJaGVZ5Yc6Vs008C+tQxjk6T9QteJom+3RScGyQoOTNjeyHcJzArABG\n",
       "z6Rr9Djwaz8dVjL8uI3wfAKhQw7UV9hqqTwY2JZL2bTiIgOOvx8B4seye1a2GU0BrhVKKFYR79Zt\n",
       "FiK2hfXbnQxb6A3ufyZ9t2GrSLGfh6rUZSG1BjqjGSjDQu2pNXVW8LQYFHwbF/mLPEEc/9djkyeS\n",
       "G0xMJj9A++1hOL6pYn7t5/H0A7j0E2jc/knCJyA7OmC/+UxFOMvkyqBZk2iwnsOwFD47vbtarPZp\n",
       "Xm4/QX98bTI2pcBJxeI4EMB4h1ig+iQmGKIh1vz+OjxLmd6U6NOpzm9dbzqvHR2kB6PKS6ytTYqK\n",
       "qkQ9KZowXex7VZSUpEXjnfctYOa5THU/H1IMDPSYJVYz+AgPPkOm+H7KTaOeqTJBM3sZH7pN7PqO\n",
       "WDy4OOtly2rYnEPwsoynINBINGfWwEjJ/xH8Czvx4cppPmdWMdrGDjI8boXzGNyjT1bjg0l8vMNy\n",
       "KzQG8uPkRunZcLwGn9amd7VI/6LDEhSjFKgh6HTqhy2LLFZlvaoPEjZs8gQ1zKXstswGNq+Q8iqH\n",
       "tzVVDtCad5/O6f3nhbXdzteN7R2Bv8xWhjTQhzpKXzwE8/eEzR+gF+3/9iK/PQvGQ1x6lwmxXthw\n",
       "q/OA97e8BdG8o6QHCTC2gEpdLL6BQL+D1aRURS/3MYfCPrzRH+GUVTvRJJue2rb/hzRQ6aINbAjY\n",
       "OemGH0QFJdk0ZbqDTcOuAQnB5aK2Z5/Eay4HTON+JA1dJ7YLFsZHO00ZdvtN3Gg6kqMVjORxiPiX\n",
       "yRMf+xEDvqfFIT6Or1XvB2E/O87zXOcAJHYtXMQeiPKJbjWPtKmR/+CFwUU6HblA6Cf+gbIg9aRc\n",
       "b7FJEqlaey7gKDPHBTlI6ZFBN5xa1JJvIahpWvbs8SUV60hIqprSsI9T7Wz2k7gpbOmBAiJ8RutB\n",
       "5YWtxxZOxncZaahKceK2VcBxGWZmnlPinX3I6UuWk3mtbS1TtqZQdcDLz+bu0GJRztqkZ1ycpQjO\n",
       "1FsnCZbzXSwI/eblOafj+97fKhftDx/PBq4WEVQo/JS5+fMX4tea+mreoZMVuXfvD9MGl7f2yRhP\n",
       "x1cLV2qDZ8Nir2ZbhWdpGofe7e4tfAzd9ER3406fwZoZX5reg8V/LP+xZMdLf1jGICY3utgnoRlk\n",
       "eLtev6ej/MvakDRFYEk1GRXM5HiurTtiCKADE5oiu8nmRUgh7af2Uay+iO5dQh/xedsF+pbHVSYz\n",
       "w0E4KWJ0dG8pjwvBGtdDWNS4tP13Mx441J8moCaq+EK+cW7b76hUuCY1TnfrjE/GQ9HcjPPUuwDd\n",
       "7R8XbW5zjqR8/GOT1/XxRPyxaMvYOH4bpeMSVuoIJ4E9zyKTOP4FElVFuBxEFZseP02KWXFSP8Ag\n",
       "TdI3vRHumjrF6BzgSM86132tnxeZjTi5IUZ/CavfCs5Zxfl+qtQQecxCC0lmh0V2bxhrQrRdtqKI\n",
       "78W/GEzevSYV9r6zqpaAzQ2X5Aibn4nWqACESQ3tNJET0ph95GiMRSSwqhM426KrNnaPhUZLxsIw\n",
       "EEDjP2yq/RU49FFn/1xy8k8Wog3eEnuPPLsGwXCQjT3pr0inQd/0VejDZyL3hXnZZRpzMgqGkBza\n",
       "fb43eW+3gRPuVboGhI8DL0pruR1JPiRvml8k5+IPQzX45+Z0M+fw0ZW9q+qcBqFjKjUZyKu/ZAEF\n",
       "w50Y123hy/SQM1xQ8YA0D8OMOHOUFduQaxTP+nU2V7W/URY++ObURXV+xtm1Q2qgGQ2mi7zlahON\n",
       "HhygRxcD9++uPDiNhIzgHmbBx/YtJ3XVR/BOIWlNJ974HPyzJfjTT32gwcmFA4tT/XvyAS9uaad4\n",
       "DzDepKJte+5qM0M/1htuVywrsKPMk2ryfGeuJM5FZhCX6v6yCkbKFVg9496eHyMgNGjBGXSVaE2s\n",
       "EE5KqiLp0SY5wFmxAwMM/ERTz0p6Eahqgsg5odaFJwtyLwMJFKexVmIdt1XsiXtBhOv+bPRVfcsN\n",
       "biIQg+M7GF25p7BgSygbgcT/4hy14pm2ZvYJJ3JyFPofnGnjYKYoNoIcoMZZ74+5bRYsD8QTdh16\n",
       "OMwp1MNapwB6RStKNS/mwVuayCjSD0QEqiB11ub0f95x+AySDcwmSs6k5LBxcL3JVsl7WVR1+HLW\n",
       "RvAH2mIIn2frqQqER5+bufU254b5BhwTp9be2PNtEGEgatiZH8JXOJGvWShb4dcdynmaY2wAuDkj\n",
       "h/tdmxnE8N58ZEpKz6yj68KYW54MeZ6GSuaiAaN05KW23IgmFXeGnjMKbfDdpxnf1T/Z+iLU+OK6\n",
       "mE/DLC4BniaPNZa69fId2r26RE44vLWNKbFpVadYa3P1u3v8c36iDOdd27KJIqhlTyeQv6Pg5sYn\n",
       "gXY3Rh7bDY62+uN3fc3PRl+ttzjTviWx8t9K2E6pkHGjkBPcsArjqj9E9yygytrTSbov72IeAQY1\n",
       "bMcOSN0r1QFfbhcp/aC/7WrGs214ySGsA3hsq6thXgMvhZDjt3iXm6E9P2zQ9Zg1R5HpDqeX28fD\n",
       "PG8VDBXDTD/wssXLNp41y7cS1pAcc5SPp7yW3S+UsOZg5MwAG7nCN1sIz0b7uC+FvRKMpqlz41Wq\n",
       "ooIqNXssceNQnMIkIttpwFdSs+Pfwa1THN7dAwNUL4awexOhXr+ojZGpPKeZk6jOy+dWhDmfio16\n",
       "w7+u8ckKzhpb4lgpq+i+RpVM7HlkyQHgcibU631qKgwyRMWs+LgxPznI7UnQLS6XQ8tjsNg2h+0s\n",
       "/7NUc+NlgiZzMv/4DDKN8BWs+xBUeZYYfWmSpt29gxoFIaE0qqu9iX61N/szbsfe7eLkJyyjPtak\n",
       "+v+niKP0s1A1cHGTqVGRxAi15aynBMhGJIzCRw9APaQ9Zvxw6NR077/hlQ7Xf4qURIrqsB4lEepO\n",
       "LCY1Pm1PNDtX/YR6eh3fosJe+BlN3SlLcFUYFz4auHZkT46BhP4UFDRsgglXwGyN13WlvNvandb3\n",
       "b7gI4G+t4UDXtiMEAkTe1xTwLusVUT4m0Cxzt20o+E4+tHxC+3DDPxbgALf9bFa0eISed5gI2vAs\n",
       "4kQjpE0ICYaHfnMnHk6rEcU49lRVA2Zb18Hvk7IIqeMfJQThxqdYpE/HjQ/f16Cf5kNBYkrGoKYW\n",
       "ghj5tG6qfA12Fj3ccmQOYredJq36q0F6b3BgnE8NIer8r6dmDJ6zmTZi6qOhpE7/mH6fZwpI/Srn\n",
       "UayJ04tB6O763oCTz4LKvdfGGvhihfa+Cq3C0ruIKLS8DZELGrkj/OCQ4obsb+0sL/7jmwST/yEY\n",
       "isi/wvpN/LURyirH6RwtYr0NpfGeBeFdZd6KmKYlfMDndz9bqt0Emv6na2WWkgNe8tmP9pHBGIln\n",
       "nNHy5dLvI81W8ZdQsS17i0e/i88xrkLqBtk47hb7m2hbd4l5Bg47ckSjIjZ/Ba+Rcc14IB3CcNJb\n",
       "fCDYul3iYzswquMrJKG5aNX4UkhUagKkGuKv7uY/Hgjtp3sXuV23N+GolEgqYZ4SUOmUgQn88pbT\n",
       "GxvKrIL1rQlg7PXQF3y68p5zhnr1EHmZDfI1gMMUnwdm4JU4yjPC973q6CM93nzoi2mvGhSAhH/p\n",
       "pwoSm48BArgMn6FWQqjG1pZQfZMl+ImwDZAKYLgmgcbv4+SmxT+UAAB3XvVfJBUBmWTjJy3m1iSM\n",
       "hWiiHUCsYjZ2AYy+Oz7mKYiT/tMoCV1X5L6pMqqrfAvKLJlwEp8CuZ4PWCPd6S5ExTc8BXcCm3oP\n",
       "S9T1XiljgBin9PIFHKpkKhq+p1vdtnvdBGef6tCyY+kqIZHo+Dgxb4muFoO3G74sxHhiY/UyUIPc\n",
       "1BBwuUXpw+6ujiC1qOzJSQ2rEd+v9+VYJh5AU8/+prkUXvY4DfrAEtDz0dOrfN+5RNNH3e92peQ4\n",
       "GT6TB/ZtCXNS3Uryky4Mziui4pgw3RQV6sgskFHjoU1kITevv3Mn+vSIyXqdxjpRubjFSB3H86LU\n",
       "WS1aIGiG8APp8y+G51PvrCgvt2FKrBs1Pricz2wooWKb07DIR82gaYWerz/U8sEr0YKBurk1IEo8\n",
       "1/0ovRImFF6ZfrlVggtBV/TH1vIxxiAtSieB3eOMKyaWtu7VbIdq+FZaOmZsbYBANyxVPTezEbEe\n",
       "rf/+qC6W2VM1V7DBUTvz7WXgb7WjEIoYWFjD84CinazKQqMe8ksU9OELePT8Nn0WGBXr2QYWUcdJ\n",
       "fPd8EN1Donk38ObB/412MvHAqB1DxpsMbF6uK25V2/wDS+ojjj8UXZqiGASl4YBWPVFnuzEc/BDj\n",
       "wlzWtDuWFcQM361W6jXnnkvT1b+uyWL+yGrQCmH8MqfsIRGNAt15eFFBbvyFYCSqqbyqPFrcLL+f\n",
       "QPE3oJYY+DVYRbRvYCeWKc+JdnPv/xhmD7xVjFpENpncDiWh4xXGBZpruOSJlnWK2FzJjev9uS1c\n",
       "c0f0895MMcT/X4C7Q4ws0XBCk9fuTnRu+NqqaC2MNBVYVQNeOS1FMgKdy7wj7FwPTS5PCdC7uH6w\n",
       "OM5pgMH7ZpysHaPJBJ7XG5DABW5xIcS5H3fqe3pyMckb6t4cbJp/qBpzw+8x8Ie5t1ua3ou+y5Ga\n",
       "Rd6mrV8GkTL3jefv0SXrdPE9OkT3se0REy2q+jnwtocwDt9WOAgQiyjCRElEsDhtyEcEjYUEUEWn\n",
       "xZsuVsIbNX3u+nlig+504E45CY6PbqHJtJRnqRzMDIf9/AjfrlbP1JjHZtpXqO3yAzfIqDcfN9ri\n",
       "dpp7ja4oHTlkFn/4PVZOHCX0q5ifRqNBenvDJvUc+Y/1Mni9lNG7bybwMJ0oMzEDbawi7WSjsUjP\n",
       "QR89MiQamzWtLpq9JLR1x9X5VVCmEUTVtDHGdgG0of+/QSTnvhjQCxg20SYdq9skSyWHKEgdjpze\n",
       "0NwcBpCvPwlaLHXdVh6ucLeKceLfNPjtrPQTcTp6N8vBf2tqSQ1SVHQOgRZbmjjhdaqjq+71C3TE\n",
       "1RNbt+IPaNCOmgpky8ypZ4HDuVLSNz1UjIYZEu9Ok94ozQr8c58Ws42M1lUmdo3gTaxzq14cy7VP\n",
       "zEJTgov7zfublQntJvaJ5cK0CxmPcf3t8Oq7QeyJQG/3RZY+Jybo9YHyDS+n3Hyz0oGdecZ80vYE\n",
       "3//+ZLLba3BDt8o7E5002bN0hI6AkyzxYQx8TwwGRYCGGsZqCYbxcsSyXchXk8vIzPsHsHvtAigl\n",
       "SYzMzYK8Zrn4RObJoEj6O1ZmIYuvUs/bWZn/D6Oz29KyDYn9DL3ntfaZud+kK9BikQET4c29u0b6\n",
       "mNG1FP3PW7TkZBEkx3AZ0e8tMDNA0/+SHWaSnulCEIuMVKWuHFHlnOMzfwuESGQn+24GmUr3KQFL\n",
       "AYTCqEPrnYo888EMs/NNOumq0BOkwqSMXn+0vxmii8P2XXsUXT1PNFIkxcXcJOrqcWSptsC7pTV3\n",
       "IeHy/zo/11w/SAAne14BLPCv/wL8kK+oI28nlC2CQlgCaXTQX6Z6+KrWATswVEbi/ACnL9V7+rwt\n",
       "jtHOjLcQu9DTUA0KM5+6XHyiR03NbhBfB+9Gqyop5i1V6caDo81F/p7zL0VKrBJL/0Io8IMfx4Ks\n",
       "m8QbQ3Vpzsg1f1Tu1uurDH/qiPOblNGUTrYhPayh67sKSYP5pstQi8Pd6ahGe8RMsLjYoj+CntNv\n",
       "sW6ryLS8+amyGECefb/TZgvgslHynRmXti0jOTv3oB8iZaX7vG0aaKxSEfvZ/2tjDZx2EihAVH1n\n",
       "qRCVid6LA8md4J5ToP5tGuPoCjUUmJ3n1lZ1U7gyw0hJBn7XDpUftw9Eh3M4d5EFPtwjEk8+ALtX\n",
       "fbTfnJLIagOXcY/cr//csJb955TF7FPprioPGXSwpHIP3aFBwZFFDHBQHJn9EFf7XzD7o7cH+MDW\n",
       "A9T5zat7uGH/ed3zlXdAHy+QPuYqiaa+/Jpx+ipla9JNmwg+AKNJrB7MMW/mV6cCco+XNA7JiqAP\n",
       "Ce9gPqhnedFh8i0TcWtJaQ0m9ON7McVOWFjAAJjMoPdyg5wmx8N/1lPANq/OsUQupmHxDf8mR0k9\n",
       "v3HdWmstb5QYz/G5eQ7V77omAzVX1qjWDe/a1XNGt7hUxec1gSDPSwYqZKPzv/d4/AX5j6STdpgb\n",
       "KXMnJ6Sq0qB7W3NESiauWUYW8wbVvObwA0bGq25rJbv4YfAAv4EAAAIQQZoibEEv/rUqgAG8zBdA\n",
       "C/oisxTL/I3fzvsX+XT/hK7tePIf2OEUYUrDi6QX+IbiYIk1Za90VVO9y8hWvg+OyvJu3YK37EDx\n",
       "zovIE1MfzH4bs0ISPafPgdPRvw++EI8YZqmuyFIwqcrUFyZkoNuAMIH2q9ERsCeirCtWpftvjn0+\n",
       "faeBAe13wVr+GNLEnLdQOplkeR197sgva0i/5opVR9l2lwDtcYFv9Fp406oNn8wUA0aWnB3r3XFo\n",
       "qS9fJY5Y38T7LeEFzhKnVVb7D9E10nhek3vPNiAFiod2LeSgVIk7+xFaZm89l28BxGOYxFqzhUir\n",
       "INbCfWfR0mF8lWfXIIpLXhnyMrDw0T6F95D+hpU34eqtnQvg3mCQzZwvqNa6+I5ZMBjHxaVJdfQc\n",
       "oy8UXGhBGfVEIM6emhS1Pz0OTovBeIm1cheDEE39LgoTBIuZurkKkZVaiZkVWK765r2PhFg/taTW\n",
       "01SD2esz5bo6JINJeQ3km8kbtXQgnNXV7CnP/XJ1c9IupUL8DsYkG9HmFg6FsJznogbB/VQlPxLK\n",
       "ZJu9cVc9K0eUH7XVE2p8nIQBk7EShQe+nAjl8xcvXvUhLApG1zXz1hQcFEmpBvfYHt+aDEp0YCrK\n",
       "BS5DK9tzdRwOx5lQiRkZ+0Fkp+nx8X1G/NbWdezP+iKdWJm1B6Im2rv+seGVuj3jRu8SudHYWism\n",
       "AAAA+AGeQXkP/wAE1jMx8Mj2cYGk+bIRAhSKL+X7ueHwuRSjMqAEswYydeGR0vihiZouapbt5yaL\n",
       "9yePDzaLD9bwO1Efc3duO/s+j+xBpQc08mfWLtrHOzUCOfVT4w3MOajQJrjNBzycMmbitVNURjTM\n",
       "VH7yeWrJYiEJjXAzNWiOy7UvJGPU3c3k+YlSNr2WTVzS1+2jVO1OqI4sthWbVVqX8UH3H2PFjslS\n",
       "XooHZkDsFtXftWzWvX+hJYPB+rc/UD5K2GlUJxqiUM2xV4qUskP34EjfUEX+w8fdiGyCC2yE17rV\n",
       "66t7vnFOuevhUcpGCTdL3ovv+cOJFWKhAAABUkGaQzwhkymEEv/+tSqAAcm8t/wlehIPnPadcdEW\n",
       "Am+A3OC/nD9iqvj7TAklMMaswFhciDPEMpcnMw3mlneXOs8C+z6bjBYE3EgfSY1u8FiKW62cMMmL\n",
       "7iiFKFGiNv8G2St1zqxij0QdnA92B6gLAaBM0nSxzqqP8aoNvl5vDIBWLSn+t+Yg1s+KPievUO18\n",
       "33Puu5FTeTfiUh6V6deyPYuVI518YKskq4UQvTFcEccw3iKyBq4cYqa+UYP7uSNJhEvi9PNcMqfV\n",
       "wrQzxV4Zt2w77GvnRmVCaVrKzqY3LeXZmVNRjHy6rub8++n9kf+QRKqvm/Q+JAkEWs/jM29xrMDo\n",
       "krlIseE/Jw5eD4xtCdHsropZdgCeqVNWeYxpzNykPVcc4zDNKmiiVgWrycscC3ZTiM5BEsgPKnu7\n",
       "hHJnaohs0FdDGNcVuSw+s5NHJYw1tFMgAAABAEGaZEnhDyZTAgl//rUqgAG9jZOULkAKwhUDis6u\n",
       "DnrebHcA8PMeXgAQSBO5y/w0NJnvGBURx3/dBkBUdCb2Jqu+74n249lJgvq83yiPJzEpWP5fkD2d\n",
       "5GyXR0t6vF+zaJQzlL7n0iFOoBBgFhNS8yytYOVcB9mgKgbjheOGdHHkPeyY9Chii5/OQz1T9Q/L\n",
       "5XxK9KCiZdeGq711OjVSn2WcZ+UYhJwLRjn8zSQJyrKoK5bBc16ZLEZLjgVvpuORFbyhHmlR69QS\n",
       "85Dvj12n7SGU5wiuEJQes8Di6VcxTQF5YMDn9X6//5PaPiJDrI5evZon2WZyucPfQ1gZ92liZ8EA\n",
       "AAD3QZqFSeEPJlMCCX/+tSqAAbzKKkAEZa2RmutGd3MIFZCFGYKhBDiAxdcuLMLeNII413sai4kd\n",
       "DSp1c2iRmh5IPRSXWqhK6BxaVTb9giZ4f0scag/Xd442C6uMCPe2kRvkpUjT2UZvqMUa5t66qDUr\n",
       "WH/N1q7nuQNOSjuNg4/piMTYak8a16ouNlOXO5TuIFWPpxxZwgtYFTF8rusNAWO8jilzDikJK7wJ\n",
       "G4KEAtE5mWjwgeDnoqk5KV6i0q+WJ/Ohfpvyqdq+lKDpNeYASBjy/5zz1Cap/xnqrC10GRC93Nli\n",
       "1TEmL82F8V6VlxPffX3i1lc5bj7aQQAAATBBmqZJ4Q8mUwIJf/61KoABvI6m3dGoAIsp3TQ1vlnD\n",
       "M04ieCgI6kJwwszZNcyeUAt10/rLU3GF4uoURma7Q1s2tg7JutIzgByeIgj2sEcTAX8ryXk/oYvV\n",
       "ze0jyybxqNPk8kc3G0DaVCSfhKQeLzUWAVwAjCiW1eNH+MvInbzOzuloDDZWp8hRnSdZkfw4ksF7\n",
       "p6wfX5o1RbXO8rn9wrmJq/yclX/5g2+mf/eTtToRmkmpIIXHhhokO/GNfb4XeEYijR1fhHRQYBzU\n",
       "xgnfOzAbHCBz4cw4aBKBao2rWURYcxL/EQtZT3wFp9tCBkHAZElGw2pSTK2G8mRWRPaRmvQt4Cgi\n",
       "aSOpMDvRhs216aPh8GLzZO/NZiiTVk3xJwu1APAfiqVzEVSI9/EOjGMkETRDAAABtkGayEnhDyZT\n",
       "BRE8Ev/+tSqAAb2NWGZKgCZKPD845L6ajY/JVrOA+uOG+pjWJC4469j3Ov/1kJzomb+jLgn1wfbA\n",
       "HgO3xHEkpe/XnXJzkWEcZ0k1vqy9pWz7J6C3s+IaLgbE8i3WLg6H1t/3azlskbw5yKo7TGSY1CjC\n",
       "1ujW0axM5PaydNi10w7KEwIXX+pbHZr2yEX2tIh/snmIAP8YnGWBI8go7nbJCIGlgMa6zUGoiC9Q\n",
       "R6teQVdzpSEkc+tUBygSUUX1Jaf6xOzVWUiBDQ/oGclCae4ZF4UlByl7YqtisHUoPB6MVmS19LSJ\n",
       "Nn2+GVBFm8g1gjGuGBwwf2bqGfZ3Uc70iIotsU3GkXxoK4yUsOtw7G0UT6Xo86QXJcvsUpaeHBHi\n",
       "W5zckHQHBzm3XgCJj2b6/ElYTPF0gCc+UR9pZIpMmlPA/RJkai423EUC9q+fncUI/sk8KDDmOs8E\n",
       "hdmhllmU41FarNt4UkNo0DDPkxTqZeIOeTf3LRpIfHAIUP/vbOSRA8f7T54f8WPdmwJCI6EdI0XU\n",
       "Rj3oSNgWBXAS4jMda0/E4ii7W6EQ6PLOfxDMuw9EIQAAAJwBnudqQ/8ABMt3zlHWF4jDV6xIwvAa\n",
       "V1W3/e9ABdVtf0lj6BTWy7W5PUEk2kLfMAsIALicmE1OptA/2PUrlzHTdjFZ/Z0vZC9wXloDQ+Nd\n",
       "xJGW6zeOcw78jR6oV8MyEMZeEwhJZVbg9vDIFjdeUi6V3pmbTuBHDRUG42+9Yl4KAPMtLLBoi7E8\n",
       "Lxb5ez96zkBM/uTeV03K8YB3h4AAAAEFQZrpSeEPJlMCCX/+tSqAAbzGHQAgqFaPjKD06zL8J5Qn\n",
       "TrOynN2jvMSl50Z1y/Dkre8WNad3xnKj3q1m/92pLNymcne69+4H/60RRP2WEhT/2Dz7Th6mSQLb\n",
       "i3/zblBpLFqG6IXA9vO4BRy3QmMfFyucWuRwJs0SnW8YRcr82JKGhhhUNAyu0XaJeGrHL1PE1xQ2\n",
       "NdWySoux08MO51F466w4I7jBRiGKQerxQMoWtI3IfpBiX7Duc0Aq6h1V4ugB6m6WYGV3K9N13B7t\n",
       "mARib7jw/8NPSz4jkPpD53WQOXPieTqUY2dkPKxNoT2UwpijYhr+0wCcHymyvz4fY/CehpYNpL3g\n",
       "AAABJUGbCknhDyZTAgl//rUqgAG9qunoAmyer3CzA4jfho48ue/ndV1/ytZ5USZFpugBT5DHkSr0\n",
       "VkX76k9v9XUr4Dfe5kh/tPfZCOKqZTPoFXR7LGRaoRWntriOcuriWx/urXi5Y8oE4mU+ajW9Po6L\n",
       "vEf/In3t6LiGVEZ6soDGhlvvbXrQIRJY7ZBh7as4UA2i2dM9RZnG1aRpjRC9jGFREEEld0AtsU7K\n",
       "AhvWhNtbBxB9XczrUovTQ2/4JalsFxOtvlz0hmMuUBAQwN5WuIgzgDvfF3i4OI3sJS6wsdJ3+KTP\n",
       "KwLb+aOAJqCjetBIp3iNuWDg8VxdhbyLXKw5Q92WCQfIfZfqZXeCrx45Lvz0wADQVgtJAoZaKPNh\n",
       "R9pX112Lmsv0iXtzAAABN0GbK0nhDyZTAgl//rUqgAG8xh0AIKs1XyzyAtFVW3wsKmLi8kiz6sBn\n",
       "y2s9L13KL1iHM4IRJZBcBLDtKgsCXrLizt2h0g75bs12Wl2+h9AgJX+pFPzIyOQNwW1npnn/qj9H\n",
       "GH07xZQHXw5Saz7jXr5IInFe8K0LTkS406s9up/sTIrl+GpuSMKrWD4oy9PDOFzFG+gV+QHiN/ny\n",
       "qVo02YACdP5OB1FxcfSEUmjIbnJ4ZronHLlT+o4zBIWe2PylN+S8az7YU9+ZPKYScE0kgW715s+p\n",
       "UNnsU/0jSlfoYJAgkx9rAokCzQiE1bM3gVOcXI99ljJIudVcr1TImMFGC6RLL5fP79Tm0qrzYZxN\n",
       "R1ngE8ZeM85Lh8goFpR2oso4v5dh62059s+NrLaCbdHa9ZgmCP9aOOcoAAABKUGbTEnhDyZTAgl/\n",
       "/rUqgAG9qunoAmuBEFrw46cPI/GMlBVdDejcF9QV7buq7bVpId9O1Sch1CR/GImI/kVFkRiEP7wb\n",
       "4Js/eIRncQp8Tpgnr3czpsI8rrBNj0JgHMqPSrS7moraNHnIODXFKMpV/XdoDCngW9NSTPVDi3aI\n",
       "y6qCC7eTFXIAxRZk0YfuNNk+9B5qAe/WNywVHl5AL3Wd/0crYHrmTNc4Zm5n6LXi/Wj9WehQJ0sb\n",
       "QGYjWkTVKwanRtmrmStqSc4BlDtX/7dJN7ZvS7Sc//5b7H/B5zotKVfGe3LCXr1Ef8Qb5EWcPfff\n",
       "iGW/NKkJNweGqKvIbDGTNV/k0EYyazI5eWQ7A1APl8sulRUwcsuO9TZEV+4p7h2VuBVfgmY1yHDk\n",
       "cAAAAS9Bm21J4Q8mUwIJf/61KoABvMYdACzLIjp/n/94XK9yOPQYQxJemYCqkWfxP/DbNjlUDfBf\n",
       "eE1vkM0T8k/Gp3MhNzXANL++/cxcTzRwC1+dLn+raPydDf04RtHPlpTWY0bvjW/04kbZqlDMK3HJ\n",
       "Qv4HOysc6wTQMbesEd6nWozipjEhy/JWjlobDMKoZ/k+Jw4Ki2Sgwpr2DSe+oIwAgbDITrE1f3o+\n",
       "sWx1iIjW1mblZVg3OxRU9B5LHrxkuv4/eBbrrr9W5RjjCHt3CTT/MHVchLFnkDbq9GLNJ3afyW59\n",
       "nu//2A6F1LiMZmIh97d0dHkTRFv6heHHzbJWjqkUpMBmh2Pdje5rWos9xaP4IYxCzSnFe5a6Nk5a\n",
       "OceNI9yZo5bfprTiYOP2Tk2CYEhtgIEAAAE8QZuOSeEPJlMCCX/+tSqAAb2q4UgAan7zj5Nn8VNb\n",
       "2gyl1eD0aBnHDVp1UmLWdCF4u3nA0I3I9dO6qkkHG/BuTQULhRUzS1d/95FITHC/ieiC+NRujAmz\n",
       "NOhSd1tGFl9FHfpjIqqLPC7jlryw4pxKsOtoYgiy1F9EKac+GftsQtC/Ze6NU8D5+dRh71TxAeSa\n",
       "6jpa+dvjK/wlcwrVipFmcLHbvh5QneQIjSJLSAmcM9mq84K1CcX9cjP7mk2VmzT+Y0qsWn7w7wa+\n",
       "rNBxLK6qdzuMTsqgnz5LSUQb+koiaiB8wtYeyOytukCzah55nExBlh6YyXxY43QVI/jpy1hxquLx\n",
       "LQikEyluhLuRUZsDL7Ew0fN/MV02aIO3lcwEpsluwl0QEfKe9yaJShh6Xn5KcSDTZU7dWbtXHqkm\n",
       "2wAAAR9Bm69J4Q8mUwIJf/61KoABvMZlYBZoPPlb3TGlqJAHda5MAtml9sRH2UrxJEQhQCb69ZB4\n",
       "LV6jNDpk0/ZzFse8R6Do/CvZn2JXaHrlF6Xr9t8szKPm7k/hKqWFqf+fRDlVTSgilHH49WU31eHW\n",
       "O31gpu3hCsQBtWMg1kAJ6BBXIIFV23K/RH5vMrf1JjmT8Xs5/I5JWjCB31yECfqo2QWytF9naDIG\n",
       "tv19pZWlQ+htUiviFT9DWViT5hD4gSAEdwwbT6qere00MnGW7+mymUqF+k2toTo4ZpEDEay4Srj8\n",
       "NOOIRgVb93LMwS/KZnBMOEQbGyHnmCfBRfVp/rgQyQ4q5LF82xTtGuNEJAAW9csd52PN+en0tchq\n",
       "qZUoIvE7QQAAAapBm9BJ4Q8mUwIJf/61KoABvMYdAEFcOf37l7c3JkEmQosMSgR2MrGs9OmI3Fte\n",
       "0wb/XpDmTT8rp/s3+NngKR4KVRvmYfXDWaIGbql/vUnUXy+GQ2jyazaHF95cmdeTbjhkradiJATY\n",
       "clKmzGfiZYEhaTQN3QhkDf2YSUT2h7ejScluLipxQdqmvj9eLvlbengb/P48HdBfe6ROnn6/djNR\n",
       "pueZHcFx+ZT0nCU+Q2wYY++HabiG8Tr4NVkrBYJHctJeVp1ZuzqfY+9fryzZzWapqbyI6IcvNj2g\n",
       "U0fANe6omfiBeZv2qpn8ZBFXsKUkqqSFNGy+arxnR6axV/HbWD8Okx0o14kic1LSk/JUKJ44y9DZ\n",
       "Rznus2A+glcAO5k9eJKUHtAGVsEEIWJHNsiBVGVgXlz0UPYukZjsLZloOAaoQh00fHGIedAIZYeR\n",
       "5KRhpr7CwMwQvHInA9GegnnC1Z/LY8qgaQTEpB+iBxI8ARMha44jV4ILmwh6pzXl1OML60qOEJGj\n",
       "0o+ruqKYTFHZ1OGP0DlUVHTOqUEWsG6S8nP5hvxXO/4xa1LCYyoAAAFIQZvySeEPJlMFETwS//61\n",
       "KoABvaoO7QCdjIBURf9ExjlC/Z2ul3b/C5SO0ww3GZeY2t+crkN2YIaVRXSKLpDgCch4UfoQSAo6\n",
       "GkRLZMonL1AsbtM9MlB52mgMHoWNVSCHgOgCEl0bwELJ99v2Q3AVyjAOWOQ44Jl9hhtG0iOWYjiP\n",
       "badqZXBIR8Be10W1wZhzwCxTQsYU7FZyeVNi+JOt9lk/uEfDgLIFdY1zB00+35DaATk2UPc9WVF8\n",
       "2geUhHRG/kGN5jvyOOwUNi9j0kIQSuDzSEA6iO81VjfFlZANh3txSUqdsVU03hmZVZqmq5m5Ehgy\n",
       "WPYNSr7p8u9+LzbCSTqO83C6c15SWvpya3/S5OmYtl6ySTVE6zuUTJeDjREpCE4B3c6gAASy2Mqr\n",
       "YB3Df6XjxtqaxcnWX5G6g9tbg7wiC7sWEr334AAAAJoBnhFqQ/8ABLX+pF51PrkjGTDnLDWIXMXg\n",
       "BYi8rORJHHZyQMZgaZyd2tOx7hG1LVYrJtAsFiJPBKQ3cBHw0UJAx4Oq25D4Rpbkd9ZJlrrXm5/M\n",
       "KNb7Mu6d5dgClL0iZyokJ2to5R6eYKY65y1apsdZFSuq9mxq/8hEjINgw5JJx1RN6feAb+usyqRa\n",
       "umWCQSacPDVmxezL8ZuhAAAB80GaFEnhDyZTBTwS//61KoABvMYdAGUnq8o8GVFiYglJS9N3uw4n\n",
       "sysagU61wNXuIwVXrTDanIICsCtC/FImRvmkQrMj0/jvVglYzdchKdsNDy42Zuto4GSRMh/Ttsic\n",
       "XJh4N7nFlv6/l4qIdZIamymnkNFLYC3jjmKj2OzC3R7lghOREkhlUMnDv9txZGuXCgUnDTGquF23\n",
       "1IjzQRgIPt2Lm2BOZQZSwesxM5auvlenSJGdzdm8wX2JrX4BOguJP4Ng56uP5drfeVNBgszKc967\n",
       "0/nPgo6hsb9p3g4rSEprMf7s08cS5jlyI+srdFWipu339BbYq2nM0yK8cqTZnGr+59PY0rBA38pB\n",
       "ApXS9xwx/DMnPVqwFjZdI9ToyTeG1Shi4IdbV6TV8C5nZdbACsLSxs+29HlgwPXiUMoFvingSTu9\n",
       "RykGzpGajw5HQ7FdvLfWXl/bZ/A6Ap48PqO+wIHIDUvB09KPhDfIcoHCQGkFOMZdYpA9//9/4rWr\n",
       "0kV15ISE+evzRD1hgf/agS53Rnnwe29ChrrL2A5/Uq8FC56bKDasp+NoXxfQNusujJD+HM1soHlG\n",
       "vNl7bRYEyAQf0ozKjZ4Vlaw6d+S4f1TDR71bE3wWgD2URuLub2r2k++SUpJyONTLUCSChm3Ksc9Q\n",
       "ja2G4GwAAADzAZ4zakP/AAS2CFIE7SXgW71hTWf70AFzjCR5BT6sFeg/I0bZXExUBO1F/0tIelvY\n",
       "PSlUZ6k+MQH727Htv5vCoaqtndQcsSr4/7GbvuZ2KECDTpmMGtpoRLL0S5EFmQZ8tkIB61gkOlQi\n",
       "Kd3P/k8lEgai3VMo9VKYtxkS+x4Adbu4qzAS9SeZ7g0mHVs1wR0eWLOVc0KJDpiMZ9QJgdYw3kdB\n",
       "MOQqL/6OeHhLWRScXyTHGnSSdlDseGwrT8Au2brJAwLiQj4pv6/kli0lrwyp5sBkmQqiC+yJ3kAv\n",
       "igCEywr3+88dF7urezsjTj+5+3YYHXQkAAABnEGaNUnhDyZTAgl//rUqgAG9pZ9ADhU9rJoBNfTO\n",
       "24dpQxUabsjQvls2snIHxpnuWSISyuSP55mBxYcbw4+fTgUUPjKbzdxl9MXVt+cXDZrAH+L25htf\n",
       "IGSvaacVVHen4/r/My/OvI1ZUY0xjzkt+QjGhCiNsgk8b1v2l8HZH0/Zb+pW+lkg6i1Aul1k76Ga\n",
       "qbBH8xweCCKs4QlAcywDGkBkzCZ57aZz9uMuFiEIxKg6xFQ4Ts4kdeXl1tTqUbMdtf/U46H3XS21\n",
       "0iYQOsjY6pba0hSzQCLrI2bou+TvFoFwkgP5+ErSq/9GMeWFc8d9915nz5yZtgCvnuMoce4UOKae\n",
       "HUy81zHCvlGaJwK2IW+aWZx8j5yqwFGoYL2CkcL/KZ/rQRnXyjoogPsQA+kKSborS5SFvOe+0Y2C\n",
       "kjDpqVLZFaLv1Jht2ZsHKT/7Svhd9U1QTE3iJjIwWpDjOiPAonwyr2YGAmk2HrgA3eafNyRQOuGq\n",
       "jdzsoB18Sf5rVoyyMniHbMkilcnPsPDDiktFE1xkcQxBEqyk0oLxGYUAAAFeQZpWSeEPJlMCCX/+\n",
       "tSqAAb2lj5ADbM6Zquook0hG3viSqR2u/rcD610Rhb6DZJgB0K40wzO+hDJOdu0Q+QfYTlItzpmY\n",
       "i1rW3mBd9nMWfbiCCIK5trQpsHhJPlzp+MamZi97kcr8nfPdZ48ZSzqgPf1k8Oig+sCGa3pEemz1\n",
       "30VbzeCEx4GCywLD1fLNfB3F3HaPoDOqN5oisNCB52yv+pfiBNkse4MwqmJ1H1Pw8+x2J5qUt+jy\n",
       "HicFJxFA/++5Giax8Yg9Z2WKDQJReUIBgMyIblAJ86YhHhBQjwvhECVHw21Tt1988yoOCZkaiGjZ\n",
       "rS+4X2IdWWqikgkPr4xdVJlZ90qyb1JIo7NL9MKHmijwK4i8KHo2CLo7m0kEnP/hUwczA0Kzr5li\n",
       "Ox+f4MrszgiDo0SlrvISgL3BNVGyrm80BL34SzArBOK/A+dLcbUQUcG0Lw566EEEQmdcDSYAAAGk\n",
       "QZp4SeEPJlMFETwS//61KoABvarp6AwNt3YoRSU4uLK/OeAe8c8WZxtSYtYE0+FflFrpmVuwNLxM\n",
       "QFERj1f/gRfxwh25j0BbMoT2RpJkWQmlSrw1QoIyiRM1pwt7hMWnlypROCeFqAWBNw0YkxwcwQgE\n",
       "xiV1aRjMNiiXWXRGX/kiSwgsHexcjqd6+Ks04CLag5E4CLeMOACKs4Cb0WMo32Cr1b95Z4qdKFCl\n",
       "6X0+aYVOXFuo9w+BU0G4e3Zsinb9vi9SHxzv/TjtkiG3oW4jmHkeT7CUSFev13wNKx9BTMuq0aPL\n",
       "yQJ/n7b6kYJjlzKiG+BPVwMw0sXiJulx3nJpjhu68Lowxai4809M4zjyXO4zNKQ/vpqQi+vnJL8l\n",
       "L+8+wJRa4+ma5LaOMOGu5PSzImj3cw7PNK9VD3Qq6HXjIn1x2zmIeZphnNjS+WqX88YGdwmD5af9\n",
       "Sck3RPavbJygAChlPfFF2MGuAeumDNhJONjg1YQSwB786672i20EUb1YlLGgGyviXD5qYmkFCYLl\n",
       "vXnTIpNCoyKEJ4gVm4PIwgUhsJbxAAABMgGel2pD/wAE0JErdUjudYI7kxFupZ0AK8MPAkimb9uD\n",
       "jQJTupVBx5D5kCXR+fPCxRy5p49goNeHnXcoVA+CmkfaL5KYOAarK74bvgikonXx5kZFKPpfjHHT\n",
       "JqEfiv9OuvcyMG52dtuA4TOK5/Iivsw0+W8sM04iVgDCA0B2BALUmwJ+754ZAhcHIxit72ydPbnT\n",
       "P23Sn+sLSKeQ17sYaAhHPtVySKjgeiyHheR3Aqlvbg3/wQpWQFKDDC/6qYDhJkeetRF9Z0FFc7AZ\n",
       "XC7UoticE3bpt5AHJFxsRe/4zXm6gEbiDrlPsOMJaeHDSUM+hSGOIAxKgvST5DIdsyDDmjAPVXLx\n",
       "lcLB9GZBiAclCWC9w0aiKOKwvUJuwN1PmGfybpWhv4yMVd+7CJ8wME6J68XlgQAAAZ5BmplJ4Q8m\n",
       "UwIJf/61KoABvaXhcCi+2zmvj/1fXy8GateMlJ4rrEFIw77nLlXvWSvskmt2DUyKIe040ZxFeUme\n",
       "KjwVmgF78i7MZ9skYeBo/W/748FkW+js6Yk5k1irS1Ki0iwVdgeswnrfF6FkRDFzQlYdCCVbsIKF\n",
       "rF8jpMDyMEOAMf/SCQERTLYGJkr5j97GU5oy8qjr4IjaZrZK9tKzQSyMYW4UtffDKzvcPKePjmYr\n",
       "8ELBIWyr7SlFYG0/dc1h8hT2G1PlUEFcYpO9KFFQOSSs7NGdLPHUGA2XChBBwlCcxaA/pPoYfL8w\n",
       "+GsxJ3s/E5xjiu0nlJABVkYMo6/wiWXkvP/dyeFp5JBsjYz4L+E2AIWdnNoXp6l/Wi2mE9xPMjtC\n",
       "oaPzQnKwkXf011G37rXOmnaKuC6oqbJMi3Z4L8D4wfZpOMsGvABGtqXxB3o+2989i4KV5/mxF1dD\n",
       "VYF/6VdkE92egDdbaJnmiHmbP0IMuvPG6CsesD/EbKDdf9Wr5ZU8BcYnqMpayg9ewLVnKl+TmVmj\n",
       "3MG3O2pmx/AAAAGfQZq6SeEPJlMCCX/+tSqAAb2liyAmpPehiSCYMw/Q8OrMIqNEj4GsHI1WHAI7\n",
       "L1/7roIX2j6NQDpoRpIxb0xr0v+q8/knLCqQ6WoSdDXZfOI4arUj7ZFYu5O5alZL7a81xkRbhaQ2\n",
       "s+PyU/uTeOWr2UkmH0DEEaiz1GIUKnl3jcfIltoyjHM1fzs7xzKbWSGUiDvVROp/ZfwTc4d8iWTQ\n",
       "VYoKpEgIL2mFjqPx9dxvBW+xGcEBe78lUrJvQCeTbt2BHM9R+oRxjHHpaFmarY9ZDbeeekeuuC47\n",
       "U6ArsGF+qw0cEDwVsTuscGdyu3iOBN9yNpTcrUkMYjIhKn/1gscVHlNRh0fs5hJm6GsEv3RCI5nj\n",
       "SK/TqzXGJDIB2OctNCk9ehMM07yya4B+Wfg5jVzgE1BaWTsnrl5H0wWUxq9gXXmH/3G2uqvXCCcp\n",
       "omQpBEwx5LE490LinRLMz8k3CDe0MXd4POqEkdDLqdT83iy3oSX5dqExlMB9b3kHRoSwyXTMc8MV\n",
       "SzUYWddumPhC2vxg2RmW9GBS2Z2Yekxy8Yl7uQAAAWxBmtxJ4Q8mUwURPBL//rUqgAG9quyIAvnU\n",
       "1djXqoPAbScTovieHTyd5vfV9xT88mOhBucnkXsoV1Rc+HhHXm8VodCGOtM3EGe5P+PyJ1DEkIOl\n",
       "JhXlw6OUTrSc9YUu4Ci/JjwZyXFjG5RFH2Og95DvTKsR3F7RAIev0XRWPHlTtZsiwlG6V9oilqHC\n",
       "rg1qPnzhM/ynCYv6D6ajJRb7km/QaMw74rJGrSFll1vcFTfiXbvr2n/BUIIIA/4LEXKG+U2EqF5K\n",
       "khgsvOm0WlkFKoVSk8RJeJGLMI3J4jU82KG015dbdKrrkeRinQ8whYoCkeNeqcqcia/7oEbRptWw\n",
       "DcuX2OoQs68l0hAeYWtDwFN/LXp7IRbYnHqwNyypO2gFbUW/z/6kUXBxM4Z9NHW6ffXwVx8/OP91\n",
       "nj1KrVjFSr0FF1RsAprUmFZa8epCC0XlB4MZzIml6vH6Q9MwLqQOcp3Z3OJfpR/azi43T7CIAAAA\n",
       "1AGe+2pD/wAEtY223FrkCIgyFibcynGzpEnmoDE6BXC3p0JwAqxbfvbMwmY3zT/slpFtpkSn7j99\n",
       "pF/nhRRZ3Dp2lT3xhgobBjO7kDTTg7XQC8GaZDP6kn+foT/uhE92MXtK/kZeNMH8SEwBOm/b2jUJ\n",
       "PyM0VvJPMO5//TGSEwonOAdARShmYyJic+nK0cRD9bYer27hstdvlWp49j1Ohemt9oStbkGAsld9\n",
       "GvD232r0j0QRPMTRqWMIgjxrHHJ67PsEaU8rSTeq/AMzW7j+xZ0ejV21AAAB0EGa/UnhDyZTAgl/\n",
       "/rUqgAG9paHqBVE1D7IlTU992VzDTjvwh+sXD69OmX8Y5fLn8gyikKTFKpMn1hAq4wHUmskUAFqG\n",
       "QfWOnH6iRuRO8pYcZUQQHnAjZIJYyX4BKIaCmPRia6HGmkAlmXXqbTk0SUPZCnSnu9esgZpV0qae\n",
       "u532S01+L5o/7Rh9mQgCaZ5u/humLjBUhhNcsaSRYvcBiD7zG+TKdHvqtta1Y1QX5uyMdq+ow7gF\n",
       "W6FBu4RmXbFACA4QU0bWeymjZVW8cGV0FJp2cdqpJ8IZ8Jn5gzY6zhaCin9sjnv+VERsHWeItrbq\n",
       "A4hTzZxFmahyjXVp4qALqdSVY/hYRLrpTVew+LQExH118OKuCuOHSI2a1rXlcCMVwTFL2YcAUjQs\n",
       "iW29uxUZXVn2zjHzgQZOHLamWPueRHSf76mDm26LwcGkHHODGXNmqXz/e6Ou+4jRg8KMLgQ2ftYy\n",
       "fd9FSjF8WjSoUS6G2cE/5pyKI2tfDIxjX6AsmHoz2wwc3kE87nDnbXRF12lYwBQwn0HCC1HD0A3i\n",
       "CZGqbgucpzzw1+LE6SKNDK7TmEg09B3jUaS4PJy3QbHq4UJeARq+aH0fzy5qY+6Ymd+V8RxxAAAB\n",
       "30GbH0nhDyZTBRE8Ev/+tSqAAb2lwGAwHJqF4kMxFrsQPD0buh/sNlCU7S/J65a9Y8aIqv/KZsD1\n",
       "i38luSov4uTPaycAzBGYSpjMkDWvRii8atXraf5ppLcWrzcs9POHsf45vc/smr/hoYkUN7tEpAlw\n",
       "ywjPV9ezTxF5S/d/it9W1c5FNfFHqQW4TNouqOtqqNyE+QXpOOySLxhm/dNlG+M1DoYks+GlzxIS\n",
       "If40PwO4V9MyhRtR4TULu7zwewJSaxsLTKV8BSBOw03oRGTPeMZayFK9lWUYFPsnVmNclvnLTndj\n",
       "z+rj9A46Chb9tjKU1JTHzQaxVzjT/tVyaWQIQD8LueCXEr+ZZtrAGMZ4lYgSd6Sh1DzZifgyzdkj\n",
       "+r3vwBTbtRF0MQiTS1bA3pu/4BmHS16eKmjIeCWWF66mO/naw0kl25N9ApiF40dPJTDHxIq7ZHEf\n",
       "3ZTcfd5bWmjSnqPNCeNuRwrroJgAmEgJdVoJ2A6pihnV697LpLLsIKH2+dRFp7ihYreVvTmDvvI/\n",
       "sZK3DVH1q6fMZmk5V2CHhFubDLuf4v/8aF88f8OEn7tfzpimhpzBs2lVEnSIWyyIsVr+RdfvWS1y\n",
       "DTrGPHpRl2xRlkWQfj9r6B+xtH/y9nkwAAAA1AGfPmpD/wAEtfI+0MFii+Cmqp1FbbG5gxqamSs/\n",
       "X8xUI04nImBTINX4AW2rukmFg+dlcnMCMxTW0cHtx+EpdVKhEbjKoS2FH2FMrmkc5fqg9jZs4scT\n",
       "qyyzG/BSQiHxSReDpJuMoccuulPnnWgHHC4JuJBA4ztax8O7LuqnnDDFyr6rZDyQypZ5+y5zRbwt\n",
       "F0c9/HbMkZMffxHG793DTFoVkEsMjO/pfXduEg9sOiwcgnvJevQxMS1a5Ycg+GipIenQQkXdAImp\n",
       "Oo9QT8/TqjZnFfjgAAABfEGbIEnhDyZTAgl//rUqgAG9pZQ4AO56OMwsNtid2ug/CWZVqzH2BRQy\n",
       "eqBtdSvfunTiEynES71DZrUuMxpwkbbhwiomxRaqIZVWH1Y0TLHPpUGFEaxIRmBH+pBoF6OFxMoW\n",
       "63GOXLkr3R1aE3zvkeP7tlNw4OatGX7zjIS9tPxmSKYfXBuHnnZmvIOjfYSVUkhF2buSf4MiSjIc\n",
       "0qUXmw3pVEvNDzQ0mv2KBAGckzmcWNqxtzDwzpp4TRGgoTZcPoFpMA3i/vRKgs+JJldol2BCaakN\n",
       "+VmDQL+kOEC9lEJl8zSEzDI1FpzVRdSQ0LpngXlg4NauyBxLvnecAs0YGG8rvAuwpwTu/z33Rufi\n",
       "AonOt8sGbxTKZU5PixmynR0e5sWBPvS8j/G0AUYe3YZcliSCTME7Tp2l3lbynUwhWU6hCvGw+ubA\n",
       "ccigKWDORmrPpgKOAYMrVolfTbi37JL+OVsdZTNbcPFkli19IfprHcyrI0SBuCsF2cRaF6khAAAB\n",
       "T0GbQUnhDyZTAgl//rUqgAG9pZ9ADaLvFGRLQjeBVbdMtWFL+tPDaWn6Z5ll/1Ho5j85CU3moGMK\n",
       "IjwuhTAA6PrqYrRNe13PAMfPok7UlVDJ6Mc9y2701jn4XlcuxCliy5vGhfEdqZ5U3g3gApyQ6kCj\n",
       "bxGhZ41MIVWKj6BDA3qObmEXpkz1ewoOysixFQcvcWKcT6v2IzImL3/UaoYQxaHFr/qY8rAdwHrB\n",
       "04XsuHDskWG4U3xPyXNKNmF+Gj2EQypMLDNEISv5ijQqY5apSiRncEdEgmBpiecmp5X8VT8SShJs\n",
       "brSx6yZI+NDH+eHwNR9B4/59rbZE4zb1azYu4F31sML7JIgpy+Ln6RV0cMDbrl0A5PHsqncLM2H8\n",
       "/WYMpuCYtyHx9jUZ73eW/gaCODmRlseTJ3T4LxLFyj74QG5Dynq5fXZgu/c0H589tRM8AAAB10Gb\n",
       "YknhDyZTAgl//rUqgAG+ird+EAWaDQj7tOOXUu97+2rkMwdZmN3I2slfpc0+pY9qK/xff9DRbGGm\n",
       "+xbDYvkBN3M9Luc/+4vsa2JEFYcEnqAfHsZlSc7iVs4V8KG54Ss7zgwGq21bEuKP58QQtb6dU4Wf\n",
       "AY8pSDjn4WxTpi7yeg08YiBg2KuqJDbiTV9PpB6np7/WbqBYAbwISnHxNHpsi1I687FjEfhfaN8r\n",
       "AXfzVmHJtZQx2/cfhVtLhR4TQqhXq0nZFKAJRDNOsY3NHpSsZP22586xbZ4w+tmyvW6z95KJwRH8\n",
       "K3NbgnX31fS+AeGuoRzCS+8JrhkfDgk6rRDe7vEHU3ZKo55XG+yZj+cGIC0dFE2X1DZ3fj2/Hw3F\n",
       "ja2XJ2/EPWP+o1OAewJ3KX0ispbjDKejCvqcRbFupFvpfmD7aTxugyl20R2N0t+MvwDa9dHgMT20\n",
       "UBbTUP3Q6ibZoXg+nUSaI4LCAFvzwG7wk3h7InlIyNF5ofiHEjL5f4qg5TbLSoTlKRucN3f86ivM\n",
       "GZzxyOC/NmoDzS+yKY8Qp11wcid4SJDtghPMCgTEz00kJ1cYrCbiN29fvlTfAOk9YIJNRk/mNXtT\n",
       "dMXZFsWFNZduu3KNnQAAAX5Bm4RJ4Q8mUwURPBL//rUqgAG9qu+gA9qI4mMCbTx/raJ0YcObyesp\n",
       "qERE7UAt8aJv6CLohiFBJt2VFZ1EtzhxWFB3a9OSXGb3AQSnWAtf8D0WMIstrjzJCTR/92HpZKVm\n",
       "AGCzgDTswPNm3Hp96YXX4lfJ24HtI8/2C+pBYXaPY+JQl/ml+zKQgSr++FgQkOb7gxZqEyonTSnZ\n",
       "jllRlmbSRgZu2COG6V7linw95rRROBPP8GhO70JcU694sOQmMbw3S/p8rg0d2qT1RBwbA2Ui0+gP\n",
       "6LUKKjiLUBiBEzv4WB67vx3AFKGNLtxqD9ErYU7OnPV9LR7SWwpRANA/eKmWZvEm5dZbP16HZb7e\n",
       "tyYpH0cGwSfH2WfFOPL7VTJ4CV6arvB1pX2VVuGVF0UEJCGySECM83SKwdGFNoR0nlU8Lg70i26B\n",
       "p5sgxNsU+GHCsMYwpkwJFIPyoTPBgi10SpspqjfYm73yY81SczbU4q8w909xq4ibd3ueVAdNVzrA\n",
       "AAAA7AGfo2pD/wAElgTleilg8qODYOuGH5RJNNyWVYnwqjOaAoy6jwtYcpHFbDGJlscUE/fKaAFc\n",
       "9QX4w8JbBIqSd8wkzTtN5pD46cMBZZ5VPLnxpDqElUY16s5OiMWpQipd60Q6KSNRDRHnik/k6w0P\n",
       "PqP77Ta7jyL8u/aEwcx/BrVUHnDbSwXZI1cVDZfBzKU/DxwYbZgKmMsBwxg+4F0rve61KvMOdKAT\n",
       "k/O//wqAQeJqfmaa+6oFylxFrudCz4h1IM7dQoKiugbWVXUTPKdO4jbFKvJBXWT5ne34bfnfc83a\n",
       "zEUozBM9QqPO5rTBAAABZEGbpUnhDyZTAgl//rUqgAG82LNAPWjb87TnJb15VIYO4Wg/2hMujJ+J\n",
       "r3cILj4oPRb/xVJXABcOPjzBEaA++jkcIH5BSNHx21+Js0BDAdyN0vXqOJhkbhbDpBkXxjiUqxV4\n",
       "+ym6pZNMRzCsR/ilc9wwryUp5ar4zpCIX1YNl+UN2ZozFyaOn5cX1wOe7IK2iRMOhjxiwYRXQR5c\n",
       "nF4vJ1vbcg0YEwHFzS/W7T2OWKaDwvWRlbnH/PZ36ZCv8qnEQGTThtLDrckyKVgOjMDPbe6W6MjK\n",
       "aZyxc6/AwtC1qm2q/mIBqNy9HBNv9MNQvqbcXnKzF9JFxPWShyrFgvweLJy2m9Dwec8cDF1hBzZs\n",
       "e9yi8p9lbnSpU51SV+4f3J9vtejYhVxOfpugEsr1aqDVYsFpuXJjHBEakBpKa2pqMxIFOr8Xswxx\n",
       "2S4oi/Jn6qRF4VL4hmTg1lvPtCf+xsxVZinEEo5TAAAB30Gbx0nhDyZTBRE8Ev/+tSqAAb2ln0AP\n",
       "joUOYDg2AKlmXbbPxy0zwcXvJ6y9ZjOgDlEKkLOrzXDEwms7wyKm5N1MtTmBTNh7zWK3pj0Mpusj\n",
       "GhitWMBbQgt3LmB9cgzIYa/pjeX9Ym/yf7NYBjGwbVnN+D3wx//gGYtnsxMVkDLy+3PbY9o3vpcX\n",
       "bJKtGA7bnm7umO7Ni1iMwvZDTLK9v9H4zLEYqqj1jyDlYJC9OkPhTK2xmfuihdB0lnJiKf6ophHn\n",
       "PwYAwzKSydzPQo157hXcqyD3xkV2sWYQ5JBQojZYxng92z+SMHTz3YbZ67us7L2BSHnh352WgEw4\n",
       "7yvpIO+FZRxDlJP49P7YFTKatGu4djB/5GlczEmDglAgiasRy/rEraFXCD607Sb24bQf0XnxbzMt\n",
       "AhE4RStyBQOkTWxzhhv1c7k++OBYRXF4//FXomtriDRL3hlVbyP9n7lMzx29Ao1MdZHjhwEb6Iyx\n",
       "eb3uOCfojLpO/ht8pZbAKxbSYaz6M0X9KcXqbK95P1Chud6w50Irf7WPeqW9fLF1BP5L4Kd6JbBx\n",
       "9ALgKW5cFAnA00b6HVn0qe1o6CVbWD62Gr6XTMos3qF8qjOLjJuMvias4OnqE4sA1s+QywtcOVYh\n",
       "AAABEwGf5mpD/wAEaht47xk4vTljjFa9Ea40Esr2uHYVLC9fiVqD6viNKYwSzLMkUBACrGO70sAz\n",
       "youdF+vh5uJZd3ptbrRYVT5HTmAZVigzjV9yM1qHcWf0AX5VLV9utdkQ3B0+vdrqNV03NZTl+kKP\n",
       "Qto48c0gLT0ZDwnA/ByLH15yFyyVWPwvrcNRXBxrwiuVdgldPVw/PLhg4gzrnHhe+BgpjLDEkpqV\n",
       "qkBo/TTMncAmd/qg8jT2iHld4MW648I9txzWt/p2YAA3/A1Jm4jINLm8rZt2U0jXZH3UneqE0prU\n",
       "CrjW+KYUDv7JwW/P+Y+5Jpm4dwXmRUNn4eHSdIcR0+LmYk0xszBYR6Aq1/P2igm95S0xAAABzUGb\n",
       "6UnhDyZTBTwS//61KoABvaWPkAPjIlP5zrIFfF9PwSLaWqQVXpwT8Vi1yU9hOJPU8pvsdpH7HWO/\n",
       "PfRl0rZJKczQwXsLBIoFgnGNAdX6O1JbCzwphglJ4oSn+YH4HULEoOVJAhexfN2nm/N9EQFzoOdP\n",
       "F5Q6yFo1V6cqt43ZnAXwuHKSJyANMCTd89XdKKSmcdFyFMSZMB+ShKgWIVooNLgCOfbr2eChW60W\n",
       "7aGctkmvJ7d+Syr/L13DKr6Q4jYnynR3qB0Cd5K4FP/bDfsIId5wy67s0olZhxGJ6vFAkwb0pID8\n",
       "x9p52gI6XjsDtdqpBUkiIUtqIs4JTCKQGTdzC7QpJ0hURTgi1SUlSGcrcNmRcCTVVY3/oQJeDamM\n",
       "CcupYNRzfjqeta75vNykj4fdUIqh+3Gle8CsEeci0cTEDatPH7I4OCqPTz83sGa2VlDPrxfaC03L\n",
       "HIKSUZp0YpzvjmeDDIsnw96GuJAg9BcmraBaT+1UYas1dAcLN5qOqK3p/wbTUGk/wSNss1wDojcC\n",
       "vaRI+9vLmWDOz6cWj3l4ArpfQ2stdJdiKbVMH7VUb/md6RDalSXHc+wdUnE+jUWVS2mHLS8JQmZ4\n",
       "ruuAAAABEwGeCGpD/wAE1aMnfhs++Y/BsueZi9iQ9rcf3w5A90tEB2jwfqFzFigAnOZO4VUZXCU6\n",
       "yFxWdANLb45gnj7PWUl5JNSjvKS3UcSfzntg+K9YwQsmrMmwvIG3Ukcjtj/0pgFFrPOUmIU441L1\n",
       "EomiQ2y/4c/LklwFbnWmTekqPp0sie2c81lkuYR21fatbEIACCfM7SxH4sg2pQJf/K7+hbKrbfi6\n",
       "+HYibzZ8zTFydQN92Chfqy6b9WaFQmxtHpknId7oKmbxbyDJKXRDuhv7RxfnxmkNlJOW2hiPC9T7\n",
       "1gzZ/vR0sHyNauC7ys9TdszwcYmADEmItrSzf9jdt67WLd/bXx1sELd/60l+4PH2/JdS5fl4AAAB\n",
       "jkGaCknhDyZTAgl//rUqgAG9peFwGJoYkkSMwPtY1pskdJ9R4LSn9M1T3XoIIEP9SVsbiBB4iB2w\n",
       "9l7P5hOQeGylbp7vCNNcNmqEXP9uxJkLLycKUn35uQMIk6YBzIqE5BTZgJMNDlVEN0dZszQNoetc\n",
       "29kG+iikIDdVpfgn+QjFP1NM8XXYQWptjDunAxZVPT8fMrIPQNbO+OyzXwlZfF6JxNUOr5UMpxjP\n",
       "dsKZXmusv/Iy88WFkqKs7X7QjmQPMXMCdO5sMliroonFQBnJbPXUGu/HXD0PA46K6+k87hpKCCf1\n",
       "KcoSUKvXf2rn6IfNA2p7uEWo6HTbdmDPah+JMrHBDkoGdBcs2NzaLgzNis7ZK9I6DyxXyi9xfLOX\n",
       "eBf/cwSqkWbzF5pwQVKH/wimYEXYsWzU3LYyBe3s451umoGYuNeX/DgfFgW2+IPYp5GPFJClbYJQ\n",
       "pUhbsCs4yYc4YIh1OgKfO3QGZP5ji/yRCi5WqTND/XoXLVcjDMNjlhh0aIxcH86jmaH+Z3OcdqJB\n",
       "AAACA0GaLEnhDyZTBRE8Ev/+tSqAAb2lj5AD6bL5nsAsrkyILG5Wn2iUhSooeUMSHVJ4/3u+3j/B\n",
       "DKSIQDFyaSH7JYfEMusBaDF6FTHU3GVgua7rqRenG8OPaQT2pIAuuUXGu3chKNCnLGLhpzvhCdIY\n",
       "mdJaNrSm3kWi3sLOgRo0cWWc5I10apk3S2vXK3zs+Wy5ip35bMrO41HN3Iz0sU+YvIrg/EX5mTJ6\n",
       "e/3Zwx2610I4FbVE94TSHUYiVebD13VSzZGdoJwbfIR91yWxRp/K9nYcsjv1vh/6U1Y6PpMq4A3+\n",
       "/vbJOqyzbFnJTF8ho2DDY0q8+vn8xQuYSnP+RX+vkyGLnhf92Raset68ZsKI6eZfLEXm46pjo+yq\n",
       "hjROY37agIfY0M7EV6nTRYJ6jFHBXow9GJhmOCYUm+r+GTUgZZpf4T4SMK9bAE8u3676wYLN7OrM\n",
       "kFW7CWlJ66wZtK9Z0wB36QNFkmwubsV718DEYnHDCH+aiCstso9GdVDmrIo0FmC5sg9o5dhNvLcT\n",
       "iot51+CbcXopfx9ckJezfWnwZvVC82hJ4HYIRGlrsnca6slkYUQQDuiDAXeICxwcqOGnoMdly5PU\n",
       "CKgB08tNuccWu6JyoUjqyh4khZC1IYkXHfYBiksnfX/vY2RmWe1shPH+p/Co4v+XtkRIPJwzj/69\n",
       "LgUh0CSbAAAAuAGeS2pD/wAElYSTIkm+g3/9BEpkBi0SwO9qG5bWZllCTLBppCUs4bGQyYFEnYVx\n",
       "+EABXM4GQBgLlxSyYHQjfEFY8N7AmhcQZVvtcenniZDVuvjCSXOSh/FgEmbQdwh0vfXINIiu6gQY\n",
       "LNCvihy1MXYND0oGEPcczzFJ+qnWcyYWQVV/02jKiwOUsWA5wVy5r9dDj1e+4HlAutC6ptjruTIM\n",
       "5D893qbJrgo3OipzCHS1TfTVTGT3vTQAAAJ8QZpOSeEPJlMFPBL//rUqgAG9pe1uAw0qVdGvgB76\n",
       "sBGJ5+7HNifARKBkecdeks+qDgvn43NdvsdJ9/q3TsTLMb2rYE39dwRgGEEiti4+ZbdvcFe5dmAy\n",
       "Zvj25hiyfrqLcKlnft9NpwBHIOAHT4aDJ8El4Tc3WNqsiFSlG130o30m400hnPx6tc5vVgEHNnaU\n",
       "D1n909hzUI94MpODK01LMkHsF6GU8RHcWaFWbX3x+EJaTNvuvU9jsEimiJ0ax/a5y4PUDQl18yAV\n",
       "f/V1iqATezcNH9uHgHVIKoTc42ew/Ft8Wp32oyTQrzm7eTuei9den6GlTDZ4kPyrHC1IVTuf4qeE\n",
       "worW6zckv+Ye+Yxig+AGgd5Fo594lhrho45ccML4JHSEkzAaQrdUQQu7WA2PSnXcpatSchsC7XCa\n",
       "3GOvkliye+bW56+C02yVGWQ6W0atU3ZEUbyUn4GuIkcTtLVLeRAjt37PRd1+xULm00MGZ8966LU1\n",
       "8nFY4KmlJNv9ChgPfV4mJ1bbHi6XOJCTb8G1yXle/FNW5WVBVu8+FfnWi186OytTLGPj8uuPMkD6\n",
       "TVkykLP9UPZxAySPYo+EpUtzUUpSmWyjL+AD9R+rlCxQtEouiAtuBffwAsuG9Rex3a8pWsLSXCl4\n",
       "piokX20jsnW8qDKVhylep2+c7L3Mwv6HTw+vM+VWHymZ1YTW0q2CPnHCIswQRAB3g02UJkytGkRF\n",
       "IcmlR5vDpIWyarwXO+EsBzSy7mLObZcoWSHL1OM83edX02nA41vXHexSaixHrkY7oAltzx3nhfFL\n",
       "wnnyyyqKzrgMPFAcp580YvuesgaTSUMcJZGijcBgZ9frKymZAAAAwwGebWpD/wAEdUNssFaMXc2Y\n",
       "FIo7EU2IKqoe/bXdlCADybNlf2s5Zq1+DxO/ki+9Q62bNpfst7mETeP8SACV3EApoAltpvIp2Uaj\n",
       "xT9/gLBMrm8RCu0LsQDuyOsXzvVXnsKnUSyoqCNRWs4EuJQdPhHR4JGS6Iu6TMHdT3JUmEz5jNab\n",
       "d6kpAYaKHjuzq/3j/FR+5z/oa6knFUWcBa04Ty+dmO1eYmgAThczaysRPSUtwzPKE1zyPqt3qjM7\n",
       "9kTaE3aIIQAAActBmnBJ4Q8mUwU8Ev/+tSqAAb2loeoDDBTxKMjk13BpJstE8hy+/oHFovMrEQI4\n",
       "rr0lvRudr1bXsEwgeQTtHO7HSehtFCCiL7mfMG38jEaveytpO08JcB7w8/I80H9gS9vVJMS274DQ\n",
       "6XyRF8zJznQq8r0rHdaqaqIQIiXqv0pvXVYBP80P+6Q6175nBwToZ84z8u+1DNlu5AyEltO+l7/7\n",
       "nbM9htyqNfR0vomhiQEV+Wg4CkvashBLWYVnWojh2tGuUXxn2NUWNxofDyiH4jabT4UMB3AyiDeG\n",
       "HOmGszrhxXXzVV9bsfzhKfPnE0L4zxYh/kZbbWJJPoZxJ+8oLKuJTcUDQDooW7MiKW5isNHQU3G/\n",
       "nKOSkihjDK69UjJgioUn5ax/M8AAQFi/8QIT/JTmvj7L7k8xpPpoMWr54Htm1Xv+kbdKQziqfnjS\n",
       "cTV9kQhoHJ2TB0/RtqkDL91Uc/kHbDUNuUDjippYXq84y2Q2ReKfw6BdmhAy22vurfbeZojFX+Xq\n",
       "pVHepDcwA6thLfbEB+3PhbfpzJrj5fDP/8Hj7uLd50UD8ZOhQdxj5R8xw9jqQv3mqx8J67U+0Hvm\n",
       "mb6y2yy1T7FKcW7i3zsAAACxAZ6PakP/AAR2CE38AGxXptIusY0vtgdYBOZwQ+LHbY6fUUebJehv\n",
       "IgN/4V/Ojmm3ZACVWxbfGsDiODS3Mys/7zF0X0mtHm/7ZFVbJnDp9k8+iZ4ahQ38qJva3QDJTH5N\n",
       "TaAR9sB982KvEXV1NN99bHkf+WLJ3S1goOtvzxPAhr7LPeeoYvrCjQTUYbqjJW/nAM2Z5aCjs+uj\n",
       "3EnCFQPiYeiJYcrrUx0ayo3wYmq+QTsCAAABbUGakUnhDyZTAgl//rUqgAG82LNAPWQTlXQJ1A4M\n",
       "SejaR0HN65kfFdONBzh9MCo6Mln5GjfRHu/PK97BZylCifIAuY5lxRRUGI8vyesMnRBwTt/QU5k3\n",
       "S+CNWFn75syyQ2bSUGhbh5yvnhczOSW7m/KiDU4f/7x0k55MWav7KFTVmq6/IajT3fMNCfTn+53i\n",
       "OkzBL5qcNr75c3a/NUr+XDfGVQ9uSiZ0qFU/VfEt5kqRKfngpfn1EVXfX9j4mTkZxUxiO5IHsBtd\n",
       "yq5YcIi3wAF+iSK8Xaa8MsZHQQreoT5lqMob+Ik4HmAaHCUrw3nfzu/tNzeIg4wGbKmgpyPg2gQ1\n",
       "XRr5bAPqwdOuaZUPvbhZ/r8OIdRUtC44BGm/5XaP6TRLge0oE+im61XVz/N4E0ou9drcyWrIhUZZ\n",
       "85lbqQ6GdFEyPbmp1Q10c+l/LFdulxmfVPfQFYuR8zznX0FbbpVxNdgfQwU6Hrc5jZzwAAABv0Ga\n",
       "sknhDyZTAgl//rUqgAG9pW5poKYVgDU6R4IXNA8uF9MLOERetVfz6JyXKS0GSUlrLOPXa/Dcb4yN\n",
       "aW5Qr9l2pqVNfufsW8NAtEWdM8LCar+JRbGTgEeWkoZQWC7z5RKZqTTtwgaeDj+2BTQ3seb2onBV\n",
       "gFtPYJpqRyK4j7/cRDRgWii4prl3RR5xsoeOrAhMYal/Y1DRtee7UYVrTqt56A+uxoT4Y9fUuC5/\n",
       "t79v2KNXz9YCWUPp/q3P94/JW8LM9hDndI1Xv1cHmCubmI654sJ5cjNRFPv103erKXawY7dLHpEZ\n",
       "mNfvozgwDJoAoAHykezHbAbDnQvM9X1oKk9q5Pid620ztzOi9Hgx0URI/DXoglhWMUdjY7vE54PE\n",
       "xStqHCZa8kk4G7lyAON/qeOe83H0m+SAzZeUETU7+a8CZ+2QAbS9vzsYMRgYkaN+YkkAak+wP36F\n",
       "NB9atJded69570qP3jzFIywLgidDl8sJq1p1i3NoMYQ57NIJWv+SQoOJ2pkDfb3FLBWrKRKa1k67\n",
       "fCQYx3FkiacWPgGtmg1LNDCf/9+91NZmAgBj5oICfsb2ZUxhrH67yxJ06ELWoQAAAWpBmtNJ4Q8m\n",
       "UwIJf/61KoABvNjBgA5jsDZhoBC3deo6XyYxe67CVJk4z10KXGe7sohrQdHxgXZkKwgZLeb00acw\n",
       "wazKJr36Tesx8hBtkFomP7OKmMRtebEZapWvGpJLX96MaVdKMfX3ZAfuZU1NoRHvBGULkulJh42q\n",
       "zx761QP0KESKRTavAOtN+IbhjJBlR4oELSjN/pmb78WciO8ILhbrEvtaKHZGPOmuGhlqP5ZudvxZ\n",
       "A3oF7HUDnEFdXStD5tbgcWmXFU7e9yGSJZh7KycGBrpypN8NrL5AhJ5omPbQxwa6GxJdZFw7uo6x\n",
       "cBo/3ui0khkGUmOm4/fdXG3d5BR0maErai6934NiJqU146PmWj2hHTKi41v2u3uFf66Y3yP1C0Iw\n",
       "ho1JBzaosndTARz7wXgUSL8HzDE1HZgTtQMDzRXi504PWuDvn1cmau67XktQZfg/u/SPPZvbEdcZ\n",
       "UaL7y3lAV6J+mNYYgAAAAddBmvRJ4Q8mUwIJf/61KoABvaWTVAOElQmLuuS2vPoUBUGkH/t8KpNu\n",
       "XTco6uHOOdQV6YlH1S3eeVIHvwiJ6nPkgh5EQ8h5j69rsG6tmvM59srRzwdc+LdTpW9obhacTcsT\n",
       "/xaNWumtggBkBaoxmU/wPbKtn1trx24hGj5kMPkGkmwKC90XpxHgWOWQa+fumFeIZ1ZmealHSFDH\n",
       "PaxESgrNVZ4f+K/poTKvYDmFrLfyj4bwoE2a2xm4SHjsy5AUBkCfP8JH8OdyOJ1pnDZMSNgWTwIi\n",
       "iLx3UgBnHHJ0xUesKcNcHfYPLi9YikhDc0jbZvHdQMQIn8cFP/fJOc30MmkL53DauGlQ31K/uGZH\n",
       "Fl/Hu3FGbUqIacI1SERt2V/XnvrF9AFoypf9ZGLEpuYMPge5+5IIBUZjbsIcRWkVEtGxs2kR9RVr\n",
       "HupQrBdHhoMw3HDgIohTFlWKofgkRv5Ae2x4DYY4nohPzpHZNZCRtwBpAtFTLgCisgISrlBQ6XEq\n",
       "00Jy2v59v+Rk+Ob1NwfPvnHlRX38u8M9PD2s7tu8FL/OIgVrVuiFKUj4SLYoiOYMwsUT/KS09vcA\n",
       "PuML6L122ppmCqXsgqGUNBmqGl5nZPqutP0200+TppgAAAGLQZsVSeEPJlMCCX/+tSqAAbLFy6AN\n",
       "vrd1r9LwNccaVsvk7UyXMqcm6h2bYNF4kGzVj3E0Tf3RBgz8lXBv5mgC7lXlwD6Ok7D1XyalxMRa\n",
       "mA4KduftLMPGhU3pgPtQfK+lR+XHPoMlb/CGNAY6rritTX5BCUOW4EJ60FICO9SQvRvoCUvDW2xl\n",
       "W13K1ChQ6j8yH7tFiYTgwecNfSLhUv0yQHytyPSuhBkuwhUpdZH6R8R0GB3dw7Z2FkQXObkrAqlF\n",
       "CHbkHRGdIvfjnN+mVhatpf3n82/+kOfLx9HJX93YrxHDW/uPGi5c+UgQL5Uc6tk8lSvU0mlYg2Sw\n",
       "wjJeSGOFzlqFz9UmgJA6tEiAGZGsUoU5AvwD6QzC5DsTjNbBB/YMrBtW+lHfIM1XEwuT4Gbfi+N5\n",
       "LrogCPAg8G/77sOfpaYSKCENO9gj+OkfbtG2w8+QPaawZ21c2xVP2z8/cFqzevuEQFYL3kn5XJWy\n",
       "5AjXrLr6gYs6NrKmUdTbOskyk6u7DMzET2abdTAoMREAAAIGQZs2SeEPJlMCCX/+tSqAAb2lcIRP\n",
       "2gtaiM4fR8RqIP7H1WaRw3osqGSklLqY4FyxfN/BCscWIQOIVs5vOy2Jb5Y+o0LtZ0A0SqX56CS0\n",
       "aByJedD9zNbbjZqkvPRHpeHVpZapSlKrQpyA4r588hw5SQOTpDun13usf/yF5jHZJ66s16JAFJN9\n",
       "0cZ57EwRzOryfswiWmu+Lup4Qiv9l+y3K3CsL0mRMduoK88RwAfvs6gKybYHJxugWAd2Hb5JrBtj\n",
       "x5PVMtr6x3YWvh3U2ahOz+gAxECkyBLgpR6qHIo6dBnJ9PwSFfGsBLIhKC1eTuJbrmENq35OjTRt\n",
       "4JTnqj4dW0S7xSmRKxpHQ5wMBfOdJOF8Dnlh72jNSNPhcfYgRpsbERQNIgERZ/2IrYTts3/pQfnX\n",
       "mQaQaKzvQbrPsq6xH9SrvNmnwBHJJYoyBdn2TY+Ju69M28FRaS5pqHodYCoFV9VqRhMgS6RNaaCz\n",
       "N3S4yHd7xpUqu6VH2J3eFtUChMHHLPMrz3f1fUKPpyVfok/02vLQE4VeqBj5t0Ouw2tBjpS3wd/M\n",
       "0wYKo7KBV51ykmVGiZy87PVFg2HWzSgabzfbJOJY7PQNtyB8jMZW7XjXd8IMGOvHK8JzfTBXhxdg\n",
       "dFljrEVqpaKWrOtI6lFNF7UFGLY1xXuCosmniK3zq9KYr07tzkUQrrgAAAHZQZtXSeEPJlMCCX/+\n",
       "tSqAAbzYs0A85hHD/doVAlGtons2Uocbb5djf759O7g+CZRe9x/0Do5iLuVnLNfmucUUKoBeYtAc\n",
       "kgEeHRDjGuliFdLYSvrdCXuXKDhGCNRRZHEqyHtDZHAM3kE8/CoFLcoZ8fPXAc1HYjg4o+yXXu4i\n",
       "93Ag/TPudrEjYNqjC/bjIAzrgKS7i8xZ+0Z+dZQBLNFnAp4g4HZxK0XxqvlhcxNNVMZimPetmfTb\n",
       "vtYtP9kErvu2xE0WCvoXmybh0Ma0s2jZZZ+m/8pHNffVqcLrw7bNTk79YBvuUrGaxoyBUYe/ktUd\n",
       "2AKwCLTC9+qPo6t6+tNIut3F5suwoSk76rdFIr9A9wVVU+CJo2m8qRTSvNxwoqzhfEvWc6ZYuLMS\n",
       "GqIXDnlP0v92LGyIiJrzGq7BlqG1mlD0VaRps1rAT/mwKW4TXj12BZOcmmF0cdzPKqvtwCZZ6mdG\n",
       "9T64QIF3Ojvazk8O0A1nOmT510fK7cs4EFOMPyuOhWPzBASy4Ecyo8IwVI5+ovzj0zivcaERhIV6\n",
       "MuEU+jZSyHVFDhdI5dcKz+dvdl3bONv2yUPAO3+ZU9crTvLn4/kYDNmhZy1DRINv9eQAwN//vV9G\n",
       "kaBjfccAAAFuQZt4SeEPJlMCCX/+tSqAAb2l4XAYU4BtrGn1pJQOf4iAuQXj2gK2RmewiRbzpflL\n",
       "3N1tVpUFUwTtOmvTIZ80gC6OnLmmsgHSZMZKcGqGFk621Nsy6VCMrhPRqS89bpeb5A44BFeRKV6l\n",
       "5IGMnjpGpWMHxNb6nxa7Kg3AKZbrGLYuVWgdFnxJACv6WPhMC1ZjNe3TKDowOW8qQHkkhbln7vEY\n",
       "Xmki9DuHWqycMQgC1u+bhW3HtKfm4/Q5IEckNFvc3ZhneVKLk72pGe3+79xfNYa9MCsJR09uNPPv\n",
       "UK/JAl/hNzasTRGaX+4T15Zv3k2kATAceM2i8BlHwJG/wantKpPBOtt7wCyaODn4fgRSBUaTzkI1\n",
       "ePE8drcV/KZnU3elPey+h4eAsgsJhE8f0PXDChgd5oDfz+aZlb5jNTpRMFtXJwdpqi3qdw/biS2n\n",
       "nct8gSQdEFH2IBYkDLS80a0EWPF8D6hNrjfTjbEReLmBAAABpkGbmUnhDyZTAgl//rUqgAG81xEA\n",
       "1FsrcaFIIpzitLoEmtIn25oTa1Y/DqbWsUdBMkbFKBjV7wXDJs7RJGZNNpwo5crRRTwg1Lof+7O/\n",
       "gORGGCr0ZwShwWbs06aTn+Q2c3Q2DAAWjoHNgiQPFE1SErTzUNMJVW1SBHT5gUcWdVZPn8qz0S4J\n",
       "w7gRL4GciqKi0H6IqePVUpFGDx+ZZsJMYA8O+aRSbmY25Amjt4xLRXfRlSNnVmJ1mzEnYE7Mn8Vc\n",
       "kPoRPz8+4VeFPNagpvvBhksbeWb0SDq9L15yrnAYOwIy2rsr5Ae+19TNM6wpNkZsR88Qaa1PD3O/\n",
       "txNzZPViZRyReUEAg+kD5G0n+8JvWPiziL/bRDyvWd78DtY5BEyTTvBW3Bbe4Dzyx7cOAZ/3BxuL\n",
       "OY0P1vV7vGFPVvd+LQF3uF30KQxUM+aYjiUi2WuTxrSA911euMZrkJznrVyIf+nzfeAwFjBku58u\n",
       "0GDohtp9Uco2nZiQF1Hnp3tm0SMI8vygvaLPjv2fkUynU46g8ZGTsEfzo8N7wGB9tMJTxpuCQEoH\n",
       "IoJKAAACI0GbuknhDyZTAgl//rUqgAG9pW6pocACf6wFo7t6XT67iybmvIdA60cJ8lYh5PKdWvfr\n",
       "YzA4Z4gi3FSrkqz6xhCyR7TC1IHnLMGP4YUsqfrB2vNW8aYx9mtMnYGiRT32OJj58/gXEBCJShea\n",
       "/SUX4aJYE0AR0GqnHWRwXpigaGNOA28eg6/1JmOYMNonR/b2OcmLeZsqIMxdHmWotSZ2AshTTCFW\n",
       "zsAzMRvQEmQj6OBWveGL9or9Gam0KVnVy4DK26awfCpjubqi+STpEx/PwEAkn4te1Z2lMUrslwh7\n",
       "FqoHhW2vfI4KQGkVaQnrIe2Ji+T87/zt1xRUwL04lPwc5KN23/TgPBu+pJ/l7yXTzhK3O0ksyZl9\n",
       "nZ1nJ+cVk20RQk5MOY8KQ06HED5rWBjv9UG/q4dm6W2gRdg5rINbCgTh5Y69NutgxHgf7a7ERpj+\n",
       "7s0hTQXyuEFE5bM9IMJ78wTLsePniTvS3UZctg0TwWeWtAbe58z1EGF+cJPOCFe1RquZzmWHMmz1\n",
       "smg/NtyD9sZajXP6Mi4fGyPgEEArl3ZLxVW1ryOaT9PJUeQeERcLhScV0OWL9PDpsesI4NWTH826\n",
       "LgBANyg9+4To27IjpwRtIvBApl/k7dW+nindTwqPTP3yPNUnE2BrWx9VdnBebM63vZ//xnvwiJbD\n",
       "LNQV6z4fkFYd2+mWIEbtHi2quQbvzBO1lBz+qhE4zR55JJPh1Uig1YEAAAGiQZvbSeEPJlMCCX/+\n",
       "tSqAAbzYs0A6X/mNFGF5mLjjs1RBdcyvGmd3AFg7rf4i+ZmiWMNaUhTuIH64jBQAEHLmCm1WJPrv\n",
       "Kd0k219XZAE07e5tWGTN/bBi9lfE5cu7BEBPFE0DoYB2EPcNcL4KTugd5WVI/vYZHZDZ9i4aToRn\n",
       "qXgxBD1QbdIgANMjXYqs6aiTFVulNbqfPM7ntCoP5T+x1Hfi7GIixQNGVO1u8WV5DxmDu6y0K0Pm\n",
       "vn9Zkhzeigxcv3bJrYGbCO7MVoU6/UOBMQLNVJioNVuBuxYid9/pskPOMBt1PuRwhdPGOsCHCLTo\n",
       "31D+I3+/5Br927XcPqp8CYWb3Nk86fttAudA+spgxuUbDhu/K7w10ik8cSJx5UmBiLsaipRKqKjr\n",
       "ypCIWZe0YNgpgr2ImiPhgFk3TvvdLB+NBFI9nzEzrRoK+J6tKgseRav99n8UmaxO3CrobZ/qWTkN\n",
       "7ZofRm9wC5iPHvuERV4QHjiVUBCea5GRlMikojCqwmmJ0108S42zB7o/k3BzIoLpO6XICsABBpAh\n",
       "GI0Mwy0gWgAAAchBm/1J4Q8mUwURPBL//rUqgAG9pXEIGaQAKDb9NRk6T2qQbyD/LMJcrwrkmLIG\n",
       "RW0CI8nOLAiJ9lVBC+Y1xor8rkRUUkZ604H/V/ObeUlhfWFB29X0sipj/kVmR1akwNNZz3/Z7FBZ\n",
       "hK9HvdtwE2xn0Id8BeqkqM4OfRsj137d13UVzTfkCK08eyCmKldfBff9oLLdAwRZsFU9O2ttyG4D\n",
       "SQ2uKobdnlX0EJ22g0laVFTnpWRms1gJVEHRrk35gfKec1dEXhecoUgRfLHTINjiMyc9xGUPsbF5\n",
       "+Zs39Km3hGS5Kd84dUC0kF5gfO+Hf/O+Itqt/ObMu5BsS2ehoMIRZ0Wz1zYCz3aHWiETGpG+ssYm\n",
       "Ag6SuUsruJXZ9WBwFhr7PkxavwQGFuPN0L2sr7X4Zjt9zrH9mutBncSTTJj1+Otd5qf9IlQKcUc7\n",
       "hC11K0tJ0K9eIp5+42+9WBscIoZ2IuhNVuZ/bSG2QoV/Sf1u6eNusXNPfLyOcyw68gXgxys+r2Uf\n",
       "TUuGoXm+fw5XfelowAoSbt5mwy9tFlk6j8a9AryxEuSpWtS1lhZ1YyrUvhIyZE2xFUhilVgZrD6E\n",
       "5SiyiC90YKIy6LEAAADlAZ4cakP/AARWDNRKkXk8vhc03tokEhte+xDIuU7b/0/1w9qSss6cLdQI\n",
       "w9T2W07NXr+EuhD9+EWYD/JwAuoIwc+bQ+Cyk+5jlCZT/c+D3aW2K9DQXz5p6PwQ3wfgkpMgErtQ\n",
       "3KWkJqOStWI0JHh8GBiJ2to7SAP1sjTPqtLwYO/YNiRPjhNWd/TKEo94TVX+R9wMlWsbSM4hJk7A\n",
       "5UEhA+BD28k+m5n0qIfygoLR5SGw+PYUguPKCKbA92P6X3v42W88KhBCybhzogxMCJNvz97BhY08\n",
       "Zpc2W3/0zEkP3qaocn4eGQAAAhBBmh5J4Q8mUwIJf/61KoABvaWfQAjUwGI05W44lgJH6Afz33Fu\n",
       "HaO+9gUINIIGzsQZlfL6yTxb7xYaRJGBBhHSp9noW2gZBbcv9RtUT+bLta3rq/DBGKGcFf/g5ayy\n",
       "l75DOuNEPb2tLaKoTiJ2WPailzbIhHvGjFm4rUq9NapDZN9abgXDFiwuMFwbGekl3YfbSzn67ef6\n",
       "1myzh4qdoKp5ZU8pa+/e/e+VQU2/o3xPtHS7MPsVU2njhG0+9jVHDVyKH4q+Jxn4z0Y6IwXFIOeo\n",
       "XgF9qx2nUSq4WnYAysvibrDGHvy97u48pUuzFOXKKGcpO0mhdHtf72A3mWVw24z6hAvXsorsaG2a\n",
       "3DdXmnCxYQOiEfZClbAOLWIq/ohTp/A5CVC9fDR9YjOvVpe6JwcqNrrtPECFPaahqL6iaaryI1jA\n",
       "y9WwL+QxNTjFsgSJjxM/suSLhECxb66TSWf6qW1/foepQhWkSBa9So7prih963GJb5v6KnAOfu0t\n",
       "koQkomBBXLCcu+wyYM1l+JIyKgXBTFAfJU94vmf8U3cUN/ILL5uB86tTHtgDQ0KsUI7HYxlMowM6\n",
       "iPPxLrNXKDQYniu3FdBv///c/X/n2CDOVFyF9AktB6f6usDSThcCM8jaFfJDj05ifV2Gu2iJqi8W\n",
       "t1lD1iDbMhZwvFKg0fhNWAgAgeLUn2iSMq5sg+y3fBUJTqQAAAHFQZogSeEPJlMFETwS//61KoAB\n",
       "vaVv4zdcACa17g1alU0rgPV227IsEpO7IGoL7A43ZDu+8w/WZHzWnxHjqBT2+qRK6pWePXOwJ0tG\n",
       "WHCmTR2pXw9Yc61ZUN7nI3BV4zup4iFNVHA4BMFl0P744j7T7tA0Uwum33cKu2MOUQZxyRFMENKz\n",
       "vsrlT53vqP9dSCXRGhohzJD0SJjhJmO6y/49xgdB25R/3qTgZrKbqja85tHGZUAqdLxdDXrh8U0g\n",
       "oLXO+fr/jTCGtrpauLEatxKtN5gQEhQN/n6iWixpEioQRAw6DA++JHomrCV80hLC50BL3/KKPulT\n",
       "1q2XvqlMJ5RH0Qakk2LNyal2/kTM3NtA/sfTWNTCThaoLTE5AMXUyY4Qv3brinXsPTKpU8IoYzH0\n",
       "NsV5iHNEiRBZdgGBdYDyfQ1zZ8K3IhbCuPQAHwyTzyH6wCDtB7giJhm1LQebv6wOOne8YucoY3Dq\n",
       "lO+fMopl3UGkfkHUieHm6vCIXHgT8QipEyw+xa6NAVoXU39nwFFejPQYSUfJ4JuWfBhCRFGBK1nL\n",
       "CvdxBTpbWE7W0zMJNu/9VDx/3g1vJDSzqb6KmTUVIAxtnK9wAAAAqgGeX2pD/wABpc1Sxd3yal3T\n",
       "n8/iRqXlu7PcMWXg0emAyTSNt7ZEwkonzTKNcLqEObfPJimv9NG2y489e2lTmBAuiUZwdKACu5iZ\n",
       "lT5y8q5vG48HPb5+UisKJeQS440Ur0+jlk99jK4f8IblPXzwR4n0lf5M9ivK/5cn92m7hebB7d4W\n",
       "7T2dQBCA+vyd5yMqyPYmh+v+5w7UMoEtcwQG9O7fsKjkK97Pf1+fAAABzUGaQUnhDyZTAgl//rUq\n",
       "gAG0h/K1AIIeE0ZHmgAwGRI+zMyeQdfMwKZlowcseNsqBN4GyVPSp50zd2KtUbIfgr+uFv3Id6r4\n",
       "K+lugDTukdzjKVP3E2u7A3Ri0jt+ahCBWyXTHnnvVIlQRFeeFjgKdOCORk6xkdXO5BR/t+wkBGp7\n",
       "efI8xQDirXM4DkfgxcPhDQ3w8WQCdyJkMQj8qzR/K6IYXQxAhaBF23iBshPWSXkscBKtLswmYgDE\n",
       "el/gOtuan6I5gYuKdkPpPZAzgOXXODUiqtHWuDmqqr5Z/zIpozsdcA1LOxmhU+wxmP5IjzVVd3T4\n",
       "C2D5lQ5lrwsaLPUnfZ0+j0sqr8sTZ9/vGguWQFmQkuCS4QmVIFDr7Sijwj2inGChUi33IEko46Ru\n",
       "Lyt0gyMND0oEyyUFFlKBM+gGT0RNV6kWWLwy35nCHQlV8UBiuukjIpOd0Qh57oKYysDSK8dtCoYG\n",
       "fXfQyX7RtOXKdH/ZRqOdEKuCKtds5nq2YLqEB8nzJcmPCibJU6IlM6syrB+nPQAL8k2N52U5k4IH\n",
       "SUU2ebZTX1OBZwO90AMT0bxAcKe2468zlVkMiVfEvYG+hxX4dVtVlskKf7Uf4ySSAAABrUGaYknh\n",
       "DyZTAgl//rUqgAG9pZ9ACWOEGRtLymc1VMjW/3TJ5h3PeuFG+vcvKb4qf96G2c6MocBwyCCF2IcT\n",
       "Ku46AL8Gj0qOxv4Ra+Ja/JSb4/VXct4OpC1Eh+tOzczfLedPqBDBc/jlGzhMkgAbXfeKeikwOZ7D\n",
       "mu1S964dGdyCqt3UyNnm9OIHwnqHEjVvPafge/uJbs6q+EnUx3+Mmpw6n0gVxeT9+4qGqvtAb//A\n",
       "tsaZ7nACIqQuTEja9WezN0Z86FNsGq5ljV+ZAKqwVYZ1JWe9gBl/Yww85PNjWmjw7kknrBzCAEUK\n",
       "8MjxmcuRf7kVaNZAZxfUDdoE3DJ71Y3BsQwDuawVrgwOR4ULGq3lWfpCER1EtOCQRyUIKATPf3Z5\n",
       "npVGDrH+jdoJz+Id+muEBEwPDslwRYYU79l1ReUpPis3Zd4kWpecEN0IAhjOoxfF12B4B+fJRsNQ\n",
       "HeN5TK0yj0nVcSSHCpe+HrGlhm6P2lJ/EA3uN3fHBKJXdRRXHIul5OXQHwo0zonvEohaVbRI4tTK\n",
       "H29Wx6rp/7J5N+N0GtMcGkfI7vRZIoRG4QAAAcpBmoNJ4Q8mUwIJf/61KoABqNSsIIRgE2T2W6wu\n",
       "2ZUv8/JKTiADEiYnDB/IzMhxWxPOXrirr/c/fa+9G6vaVUF1UH1QxIua8m9LpYDRxGWKrm16UClR\n",
       "K7yaYn7qrZkC+aaDNAWvEKXN4tJ5PmRZulc4T9d9Y639qb6ddc24i5UB5BFyqB2aKxhY2x2juOBn\n",
       "+AKXimq65Ig+K6B+KcvouGJ6Kk7mKuI7eZRt4WTz3ZiwCpK1eoMcjXVF8FQklrBSHt0tW3r5Ylf0\n",
       "lrVkVRmaOM1YqKvNJR2RHHtFIMcu67Pz/wizh+jVe3lOZ+t49fqFD5nNrdl/W18vlv/2+ZKp8o0V\n",
       "w22MtHINSmFgl/6sv/mRqD9hcIXon6iDZoLgqnBomgbVyp5tFNQ0yOsAyixXXhg9+8GXMoRkvAJH\n",
       "NSz2jYbcJGKDKX588kpgsZ9P8zL8ovQmz6i1aPAUNGz1X4WlOwkgiHf2XwPQa11LiRyZmtxyygkz\n",
       "ENPC2XXyYVEn3N1nSGohUF07r36h5EdCLL0UN28VvdJKHWMGcJ/aU4IPSxYUpOctj0mOohbhkfGX\n",
       "J1sZ4a3PMqRYmB6sp4k5RgJ7paynICMrcj6JChsyyAAAAbhBmqVJ4Q8mUwURPBL//rUqgAG9quSc\n",
       "AErK5FYIWehofi57CdJJEgFlco616ZvHFBoDYslpolNT70ZBfJZ6kQG2bbwdkWdmNR+exuX8+aYp\n",
       "6Cr0P2cgo3vpY9eu4KIiPayz8Q7DjF9WC0pVMzhOHmC+VHKthg1GmQzvt+AnuLbUhXFtgjkKd9s6\n",
       "DHMMzsAMe3h7LpLG5u5eUWy3JCEdco6//wYvPAtk5g1zp1TCBTyRQpL1S951yOrtWpqyzCjX7dwb\n",
       "1dmquaz3d4hwTObhopd0ymEA075EZxY32k4TmNeZlx4xLC39XshfBNV9qCi2uZmLpLfKwCQK9o16\n",
       "/ndU6xbFKI2BXWgGUUbmbB55Mgti9/mTgQEFwuYVOYxcqVMrlXozrP5TBt6z6FMpECPnVDAOPbU4\n",
       "DUGoCqwQACcxZ5pcZm+AmI7q7fbefv2gCFNCiQw0E/9rCz4qC7fBKWsuPMr0Fq4X2wlKYrS7p8tD\n",
       "fqm5EFMcNdSFWlnicZ3+JcJazZNa3USLNGwjvkVlQRQ9qHbDST6GXMDjrQ0Ay4GQNxytXfWiOJ71\n",
       "DOMhXLvg0JmFi1/tGF5ynsShIwAAAPcBnsRqQ/8AAYfA+pXW6xRI7NcmYmDlC3qxaHl9eP5QChqy\n",
       "NzZLDPWr3/Ng52DCSv/5+FHN9YwAlV2/RyN5cmXr657Hu/K40KbbOOKUjZr5unqVym05SVM5hlGN\n",
       "hV3Tazb42FvypM9TnwKRZlhmWaE4y7sfJXt7j5R+dkCYDe7DxjPIJt5BvmPq0UTzk1YTyawkWROg\n",
       "wHN6kmJffwqnHV9HTKXfcD+knH6n/e20sJhaS4DjDj7/+l5ZpMNXLMG/PIYqMhN6GDP3cZlm5phC\n",
       "BowgO4486uNGZmlVg+TiEQBrThKTO8Ub7tAGuozsmlq8T0zkLld/0U/BAAAB/kGaxknhDyZTAgl/\n",
       "/rUqgAGyxm5AAcRsy5VNYoS6+Mg430zu9CmkFrI5fMKR9RS/8xe+QhJj/00MfY1Oz5eAkoxa14rE\n",
       "XdRmkzGyE9ystm1sQQJO0S2FPh9opHMW9PxsRfSGWS0YslzBDW6f5Tkycf2OgrlCjvs3PczU0GqL\n",
       "4lNTT9r261D75AjT6qftZ3CbxryAgybvgapa9lPIFjcjAzTEYF5t12mNE6rh4y759lOAZfLTk1uY\n",
       "RcMvEW69wr/vjTaXqxq3NElzq8m2FZUHbNKulGecHWgR9Th/griVFnvUCkuiH7Z7lLXW8gxQSmc7\n",
       "9IC0WqDizzxAatWDqxZfawxN5/oCPMCMuoDC5OQ2H4PodNEXTzZ+yezrca3NQWPTgBhxVMTCZqzx\n",
       "3EqUpRBOYD/K/UfO9ME0QLYGTz8nOfjAC9mbL7CiWDzMcKnZ6RyAvCjprcFLddOtadbUrsutYULp\n",
       "kUQEjjHohEPPVofVjwcAeCdPBM0WtJlnZmXetmPOMU1K7fiFlSOa6bnqBHNrcdtWE9u2f7DzUZ/k\n",
       "DB5Dshqwghv+KKKQWOzgJVKVaV46fIJG8gLfHY/zI25Pa1Tf9n1WcoryXPhj6qUQI1YQTQVBTFDY\n",
       "RQnPrhutg/vCGPhM/3dkOeG9Wv64zQTkxI2ozt4V2ejal2k17IsVaoVyxQAAAdNBmudJ4Q8mUwIJ\n",
       "f/61KoABvaVwhBaAGWM+kBq6gpNbcMyDgjc9YnioMwPrgCG9kU8waY91NLWgXRujWSjMmva4V4Ku\n",
       "MQvy2oM8gMfzztOjLO356TUCswYXjXWv0oQasKeXYWClcYwrfn6o2Wm2uCCOFb8O9QIvy4Qr+byq\n",
       "L5TMln/XmNrg1P+2XeCrcPKnkbQxi71foFLk9vSsCdDa6OMnojJ4+Tk9dFi3i7QIaPO2j8ska/0J\n",
       "CV16alBEyr7sDoGylBR78Oq/WHQ6G9v8OAG0Ts8y+Bj5OUL1uCzZD3iElyzT9BWPcMTNltqTBVIt\n",
       "B50GXy9gB3U3yOutjEYvAu1X5XyUNIJ3cTUvBrS+9TdGG3zrz3jlg9BADnXzEBe+CmT0ROVG7u97\n",
       "ICFpt5ydghB1hqYyUTCtCsmadRvuAlWpyOJWxtd4eXf2Juz9S6l9FVOvPoGF2hNCGhjqH5y5rOD6\n",
       "85MfrEzoZVXZ1GcNb6/vHZYifZBvfOdt79BkQCgbSTUU7omGgw1JOr0V7u5ZDNp6CNJ/KYYBuqcp\n",
       "WVZzkisHIJKMifAXPdbBupaonutoFwL2xUBhbWHof+S1M3ytDh0R6yMRY8NEjdfgubfvAfYxDUn8\n",
       "IQAAAflBmwhJ4Q8mUwIJf/61KoABssUtAAbXX1QtDngUYwGI0VWxHzIbrk79EX2RYVWKBRDfrwkH\n",
       "73P5t9bZjvrL0ghhj9LRrrrKWmG92o0EyVzCEZVwKVL+tY/wxvwJYB8MJm83VCYPkwyWGHzjEMGT\n",
       "ycqUkbNFzpGcedtxpnn32hsy9C1Z+j84FumGY6V4r8CV4xQc4O3Co1GFyZb+ikENvgM/M+p8OVgZ\n",
       "XztXZ1ckOBOYlJxgKSJRNf1LJFDdbYu4JanndPmyqMBun7rYR7h/09xgZ7yTqNGX5/fwzhBEx1Vr\n",
       "VLrLti7TV15lP1EmjcreWdDh688X6Jex+IyCLX/c2SARKk0t5NKiH3/Fd1Bld2PWzx89yy5BzofS\n",
       "PY4zcWORLHWGN6MqOjE/6BpTarLJBkzxL290DVcB7SWOYs4+t1Cb03+7dcucHyPc1+WgCSncCT9u\n",
       "ifZDyGhLw67WcIiuNpD224yEpIX1e/ufIdjmgb9AgsCWGdjxk6xw6i9MbeaHv8iLt8JKboKNIjFQ\n",
       "0ENSREBwwSawy61NdtbYeNEwzM645O7R2/c3WyTXBAByfxV7GwUJRtvHVrR/m/rGIHJmVql8/+z3\n",
       "sf04skFwurayusX6PPpXdX5yn6kShjMBR9kWEdbY6vLdr4zSWjyMFmsaEUzi847E6RU8h1qAAAAB\n",
       "k0GbKUnhDyZTAgl//rUqgAGzpVyoAstV1rsO9BzZCcOijg5jOwVAWuo+sYtYQ6MWd8TDDWrlWsEp\n",
       "uL1xVsfLnyE2JfbNvyS7aS3rwWmJjOUIUN8cNZ6rCny8MAyxSyfGoLUSxTBBXXGwvu5eN+crGmdK\n",
       "3AImUI6II0dOl0m/QLpdempQPedMdbdRKAZfSHp+vk9rreLWu3NV+SQsfyLfw59XP9JVtrzal+5U\n",
       "A2o9l5lXGjuOHnj2G05ChZAe6Fzthy4XmreT/WdC127Onl+kOJ7idranWl9TKrqznkhbmHFesz/M\n",
       "4qYxHAVj7dDZPI9NbaYOftBUsYlGjE1zJy7sBOTrOmN1eJJ3e77OW6Evsa7PMvK5YCyQxCJELssm\n",
       "ZPelxEJF1ENlTjXo4ZHECyGYLtcp7yf8+rNRzn857VDFZt4Vrivlas6aB7o9cCw3jwZbHsnJ/5hE\n",
       "hBfhIGboKyVwJ4qPkf4nAhkkOSieAASUgUQ05/umFqyLR2Q1JuWqN3WzE9daJFUhPtAk65/+mJp0\n",
       "kDMKJPAAAAIaQZtKSeEPJlMCCX/+tSqAAb2lbs7ZA309AASktredH5h2Iq1QU03z6rI1yx94mrxX\n",
       "mDh0kFrm23jDSz+MfblETkVKepo/lgLdUf+dEQ01kJrAnmLBQ8pRqED5vptnkBfc1/yIwXLE2+dc\n",
       "QO+zJoEBQxT6fTDVQMM1iaqRNPydOgmAE/0Ye7JznjMTrJTYZ/SaVKiNwf3hSwgI3i722iViFRmJ\n",
       "2Q5gUiYAv4eD070Yjq9R/J/BAl9fDT9bO////MTTmz60SurBbA74MfrJHcxhiFUlJaFKNlqY08Pv\n",
       "X6VlEyjYkXZxwNZnT1B3g75Z9lI37vDNEaslOinHP5/ydGX97hTWc+Od9tNc6T3P8W4aznfYR6Yp\n",
       "8tFalV2X3fiB5eJ8JdcvpFNxYEF33/WUigFqA/6IpmEjNREb61YkuKe4f9a9iF/Y4xnW9XdbqThS\n",
       "RcbKzHkSddjqDhX4uX5s4++sO58up4/xUlbZowYORgdtZxufwC5+W4iNkSjCvr3P2jAcsbXkJR7b\n",
       "YsAo6485D3Cega8YuU30cy/uvhXLMRiWZrEOyHi+rFla1yc/5Mpqf2IFml27LwEX9q/MdvJHKPLd\n",
       "tebhZZeWkpT9lqDxsPkgCZA4uUustHZ9ygVJAgHXSobiguPK2NXTPDaTYw7BhPK6odgOe6LMAdyE\n",
       "62kQQ5dudiqSS4paouQMbLOEFd6T8Rmh06YK1OHcKB66SQAAAWBBm2tJ4Q8mUwIJf/61KoABs9tQ\n",
       "AicE7PYeUPIBIlx9feOCYOw0MW97fIijvKSqG4UKbk5xjf26oXqmZC2cdYmXDyCnGpC6/xighg+e\n",
       "zC6a5AlrgryoBjvyY3Ix3C8dniM0IH2iwE/m5lGdAa2xyFtV0gMynztwf+Bkh7NazuEVVXMUY1xr\n",
       "NVtcE9CV879CdQk4CcfiCc0PPuA4CxpgRRctygBfYuOs/JM0FYXHVpqmEBrI3cWA88w/X7n1rTgi\n",
       "XMcX2Wp8tp/ueZ7dc/9mjKWQRm3nDrwobjO2hQZy4x1Tbk29sKKQ15vURgAlEaTOGzBKa+sQsxK4\n",
       "yFYQB5qkDfRvbg7Q60yxVUCCvJ/afcO94yEJxFUxHOB2IOTDD0OghJRTlOLIwZik7G9ulvtG3TwZ\n",
       "gp+AxxEnnDSjGIkELQAtGC1btZ7s+bavcVM2JG/t2Rc3QzVR2r46b/gD2EquYNlCAAACBUGbjEnh\n",
       "DyZTAgl//rUqgAG9pYsgCiW3I37zXBab1mIofZQ3VoS6/Eo3khirL+L9z2zqvaufyqC3G0Z8FgJC\n",
       "S+aJF5FF+nlqMcxiTLTXu6cAI5QMnojHNOaYBNx36oh52s/A5VvA8ZSo662BHT+tFLOIs6267HSA\n",
       "SYtb3iNwLUDdCzJqjEtEsiXEtETO+4iA/DZxqrdplt/muXM+JJ7Myce/TKFbLVFecTWRSOO5QZsH\n",
       "sQKhBHJJGo4RlUSKwFDJ/p9H3QHujiicQF/BP0wvBEhN2H1e0l1ydgw2sZnJwEEsFAlVrz6ch1tH\n",
       "/amqwyB4SceQM3IM6SjfmrWBUgiamVRkGgRTNh7mTZTj+nVlkqZajt28qKGCLM2rphQb3tOK6gBh\n",
       "OHLh3AHYyL1VD2PZWVTuBMeLM/o8jzuiGTkA8JfBLzokpR49B4wb07j2H4PvhK6X6bYfiTifv2GJ\n",
       "K92mqqbBwI7lM1mXaLMGakAbihzBtT1UilKrNB38vAETa0SHUQ2EGBraLvwscAG0t4IUvE0kM6lL\n",
       "7+lKdL/H1xFBbxWLxNZwv1ZuQ8LKad1oFTlogruw39kbSby4GuCnzbRzHug40Plkm6tw3tJ5CzSv\n",
       "suIKXvFt04I+Fmv2DuZ7TyHBnLwUN25z2u9IZR2sjyMBdtAItWZZJCL+dCWMDDc2z+eoQZiyonwA\n",
       "AAHdQZutSeEPJlMCCX/+tSqAAajUmcAIlcPMmLpEZXKIFX/7+6Hr3e0gROz/Njly8IAuusFrnQw6\n",
       "jvL4aNt38BrtBRRQMM4QaGuJ40NXMRbSD+k9ztKZ71jSw2VQR67QEFI/GzGte0yxaln1ntccQ38z\n",
       "ZMgY1tUmgTTG4whv80BQnTnOvidr74b0deIiyUoAGOYWF2V/BrFk5UrNWACfAcQDPXSGJq9UtrBI\n",
       "v784H2M2spHwMX3cgRyD6ttBSSIPSz+LBhXX0JOYxvBC7GixmShVJAys38xObne8VuDI2CkywYFZ\n",
       "2Lt8Hly971fvPV8WblEJdQTwlxiU8ECYJfmbRPIowdmqfScC9unXwSDfqtvA9fZrkzEHJ6Ihsr5S\n",
       "ZjIvpZUbloMy/Xx91dLmYtHihUBS4Cs7tvPOOeeIvNiMd0rbJFNvrCfBSjDBgcKlcMS8Osr7OqH9\n",
       "9TSfnc0G91ZnQ0Anjfzv6OvO7KElbxOxM8jxJ1dllE5y0ZEG67nkOnQTKD+vO70ulvVVKVl+Jm0m\n",
       "SvyB0bqox/88zxYyDOhI+BBiTY0/BulciVIo9xhSZdjw4pUumByFp2E0xbIGQenxVaNDb+PqXNPA\n",
       "RDHASNXp3gW/2KcoQPOT/8HOuqHaCI0NAAACBEGbzknhDyZTAgl//rUqgAG9paHqAVZs5sxmycms\n",
       "dYyHkI+bno4BLg6xcwxGeHeV0hS4O5GY0+L8TSSElGQ2SZMMAn4x33kDGpH8JNFbWA0Q8PybvFd/\n",
       "+NhRiJ3WT1PDZBDDwZWvVzl33i+z62T8qyq/wCxcphSQ+PtkI7uni5GT10o3G9QH+Pgyv4nw2XAx\n",
       "E1b6IqLM+W2BJL8bv+KT4SqxEyuxvtyI/XSfkAGCylFSvI1zEu9UvD7wdyb/bYlskqnKQXlWtgCC\n",
       "OtJmi/R0sDHsQzwx0MNNu7FgPQNOdgo+v2v+ZgTB/5v7t6KC71+u624snYWVs+nZ9nx7i5xOtqUM\n",
       "QGUJCOhq+jNtw7I1ZOFV6OdVri5gFlKn4Wt+CCxTkDY0pmrpFZf6lerdD1sFWNTjz6mKsqeilR7n\n",
       "z/xwLw9WXTftxYCUYlhEM+yQDiHh67cs9fTsqfmYuDzSB5Lf+4YWWfcS33Wp/tIIrAP2NTL+l1Mw\n",
       "13at4MlAQCvsbBcW7Qcjk7cPDp17EO5ss1lnzgG34ZhCAZZAyRn0/n4aYa1V6WtZ2gy1pY0Ge16e\n",
       "kEwfCQSFLmVrLxPhSzQwGAqhjILDRdHkNiSN+oW4VeWrPLTSihu6Qp2Z7DS3nfGnMQnInqwaU82x\n",
       "7OiTnY2izqqdopbWTj6hkxk/H9/fzyizI0xKkYroNwAAAdtBm+9J4Q8mUwIJf/61KoABssVZmcex\n",
       "aABzL9hudaVBe5q1qQV/WAqo+Xitc/v+V8FP9wEE7vgUGnlEQ8gB12HCEi9gLQjrbYWCzGnGvro2\n",
       "cq6HIPMuUvTgVsMjjhFVnJqJyrU59aoBoRIuejQcujl4YLePjn1DdyLPqJt91Z+xAYsy11L8AQjd\n",
       "Xk+JUn0LdfXXqRRWahEJs3c7CrV0xHgPYFvGMvOSeTzEIHd2T/cIHECgZzJQPUHK1Gdpo0IcGwCa\n",
       "ZvmIfs11Qs7x5VTk4C4JITBc2KNMtJ+Oc000QT0Xu2aCqt+v5kWA7k87OyrDr53LXXsD6Vgnwlms\n",
       "bNuSx8z78sa4KIJ7wqdY/cj2YbtNofLj0YS+efFAkAdKTbUd2PFv9Eepc9v5cTAKGRNzRZrHRF8G\n",
       "6pIV9mpve+vym67Cg9p5UklZljkJSv9UOKaZeE6pocSbp/7sIEUxkUqh6eR+GFQ6Xq1MPeL4QABP\n",
       "lKmci632vQJ4GxESuwOiZg0i6Tz5bDG+ZaIVvNr+t823Qm6vmuHrBlIVAMY0EJQXQhkzeK9VeOVJ\n",
       "q+XmVzR3j4KKrGuBJz5B8pX/lnwCiVYQ3u5lKpdPwFnvAJO4pL/SYkRIdaL3NErorA2tYH2BAAAB\n",
       "aEGaEEnhDyZTAgl//rUqgAGzK+rL2M7aAHEhLX3bacMn9vUFP3nIJnyfveyhOY6grHKjo3LuIxLf\n",
       "OYnk8Dc/yOtUhPEIolWadq9/xYa1mgo5NAauLwiCH3d31+EYu9SZbmqXhayr0E6M2Ck9enni3mRq\n",
       "LFFyozdeKQ0QEXL7AfdDSKnzbcXZF0U/KC4Rh9KU5TNhoOGFYEkBcxJ2u4zLOS4I2YU3ZZYqPt4s\n",
       "6hqDlaXJBu1SNZKahCUcmFq45mbgjYvuw7WcgtkgxXh5gG+nqs9ru11HNcthqpXfCa3q4wepaWS7\n",
       "0Lxzl+C1bR241znPvu1jOCVxhXdZDJZE8y02v/Y4yExX9yZCe3PH+YdbxFyrFVoHmML/cmyefZEL\n",
       "BISQuf7tt1fOg/S7zS6VzBjw4m2KF+f6ENn9/1Ug9fbtvJfOlOKZanI326i67RvOJH7VzhZ1piV0\n",
       "hggN+WoDzfXVcHLvGo1Rpt48vQAAAgtBmjFJ4Q8mUwIJf/61KoABssVZmLgAHMNn9wtMmcW3iP0/\n",
       "Zij41SrBKOj1sNmFcyvtdT0JrVpWtxSHgI+bborH7NoaaiSnVu4mYij1QASgFKEEu4dRfiMvz+Vp\n",
       "otIJqSTkWloMLMAyPEzy1+s37Skrd/JpvYAWicjj+16FfB6u/kXoqhRJpezYeX+ARtf7z9uz1QW/\n",
       "6FRm2nYT7l/0YxTQKANgoSQWJPhPztpYu1/57rYp4IpOuaCjlAJAMAA6MUcjSGchG/q14rYHZnsx\n",
       "oSsf9E+pgk68DH1Z/28n2z6rNwUmoV+C/22tQcdhjBS2gRWBr8Cjf8u73FjC5nOeSFgKuWWSmx/8\n",
       "krYUgVLXfhmQPAfuAWEVoaNoVc/QkUhMU+nIN/80H9JVXSykFb5OCsBkuvXhAXorRPEjSm3zPKqz\n",
       "OJIfHhKDpAQMHxQYjsiVfeY3mFxYjvFsIxXI+fzWaj6ZSyV1F/56Mhlx5TE8Xd0JbXETXRePFfWe\n",
       "fzkVLyXM8haz8svELxRjoY/zoalSKeZyqnIu9g7mAF0LVu14XFGiBKxT+t4XYOcoBjOnsBiiAUwF\n",
       "dpUOafuOup61jHMHGopOqrMcIQn7Ha7vsg5ll2lvHI+fNDl4YOlu3KnJX8n7jM35sZxc/5oOMznQ\n",
       "uuda1HV+3f12HC21cfDCAlLdBcVVjq14djGq8TQODingAAABzkGaUknhDyZTAgl//rUqgAG9pW8o\n",
       "ZiAKiyyExfAty6l0c0VXfgNCsqraz/x3YndCx+WdiCiqhttjPgQfAfU409x5uErbZPlhk8mlAU7v\n",
       "rc5PfeBAUCWkoZnbobZ9D/0pxQD6sTKkOgjDYMQ72aEAEtZN4QXaORrK871EuJz24HRiNhIhh+rX\n",
       "c99T0+W98Ak8hIPI3BjLxyxWRWseeRM2ZkXg0drYwYpy3l47KJ4gj3dLldXZW1S481ko1exR8+Sg\n",
       "TzsJa1WscbC+Zhp6G+h69278Mjx0AD89rAA6lfy/3zejYKTPgpRT8XGlLdF1wmjdlcjbzFS21d2R\n",
       "Stt71ThZG2Ec20oyTlM1SgqEPlUc8xisGhqEr2UjjHmyAC8hkwsaQslrhB/LzLjKX1DWUeB/HbfX\n",
       "UBwHmXSYKsEIPOI+2WpY+652TU3D+x9xfdXmQRoV31UPG81YnUdR/yWu+u1nwsUAPZzV6esi1g0T\n",
       "90BJYE7P/HnPkmgfUQcfZfj+UtWuZrRc4GzoCx8DKFg1Ws3L2bBUMwu5aV3PTg/AB0JaGVGgogup\n",
       "3wBmG3HOJc69lxklhqbHJKDjbXXzzf95dT6tYNyTb6qi8jO41dqK93qmgQAAAeZBmnNJ4Q8mUwIJ\n",
       "f/61KoABqn/LfDHRlXlP+/5I+/ym/tYOBQB/5s67DqtltBq/aUAEVHr+f1SDMSm6Mzyrb3oOlDHU\n",
       "XvbRkspgEHG1JourdMs7lxOmrJn9qQNLm2YKHCf6iopJq2rEiseV8CpVIB4ckFRHzsuBASXw6pXr\n",
       "H76VZ608ryiUGl5vdu39KZBkCZ7KIQBtwyn8FQLWbapx+U/CfUPmCOi4OFPbRaEtyhdbTU9kNk/r\n",
       "tvA+/GHLoOThxlLoCUIde6Gjme9TxESn5v8Bz8CaBL285RT0k4tdbX0Uu0SpbObbI3hUGSd5Xq+n\n",
       "Etb8LqkNycgcp1TPMPnx/sSJKOfNvVM2zpRXpw9W2sW+xAXpV9ik7iejjRFDEn8KIEMj7fy6d7UV\n",
       "LaJnrHTcvG+9P69ymYEA8FOdn0dTDgK0EKPyCEHWXk+cdiGXtBpjNNcgPMaz1n3EG8+LKRppj+wy\n",
       "LvFYn56E07xwtHmcYd7VkRzUf4wErS1d6CBpBpu3i5p9AFLsnL1A0ZcUTVDS7zhyldyt3aIRjy8s\n",
       "tn7zVFbQ7uFA2mflalGa/8jccfvl5YtaEnRQp8NNyU8prRTRGYeh7uvK2iFc7oATOuL81QRP9+VI\n",
       "ljkWPhWhSG0TkbMwsWrBZU99F80AAAFPQZqUSeEPJlMCCX/+tSqAAbzYwYAFCVwy2t6zs14vJF6B\n",
       "w2XHod6M9y4Q+L6g0+DsXQ5QzgdfqY5WBwyyFFNac9TeYHt+LTbbjb93NGGnrx9lXEOtNot/R4S1\n",
       "08VPQqk4WcrpQdj3YeQdJy1BnJ3FznilLbWTY39i0aDkSxi7sfZdbPDwaH+XAeBz3vs/QmvLnShZ\n",
       "Rh0iQAUIqRLV6U85fIr8BwUs0LHHj69F/UDLeVqM4rKVRALWDGGuikLlPQwB0vKXDZGt+D0b8LCO\n",
       "sIGphtuT2pm7xN2VduCgVrRyR4jsvP1WPsi4EnSW3oo2U6MNtbUGA7K1h8pmdWLVDH+6NE4GufHH\n",
       "AttT5XphoS7kWotdy5r/G3b1dH/Gr1NbaRi6vMXtQLUc9Vl/l9DaTWI72Qts/fCdo+tkuM8WQ8F7\n",
       "ENKPysrM3N/MKZLVcNk4wFwAAAFxQZq1SeEPJlMCCX/+tSqAAbLFW5Mp6WzUAjNT5qnmTgQbgAKt\n",
       "z1GUwJBROh9ToWE3H4TVCGrTlcNWpPTLWs6rOe7sLvKf0KwZpSFVuko962360f5wji4HZs9q9QIH\n",
       "WeULLos8KS72/FDSeKZwgLCJ0pnxiV3WfQUqZoRMEQw4K2p5tGK1T9WEpUvZMZMlO+lMahQwmg9C\n",
       "v8Geh0+wt0UesmFFbKi1zKsxRRCYfITZgjZOtfnabSEA29Ys0y1TAKZ1q85Pt+ADTjoNXFMBCA01\n",
       "lStRchLUDrnoqludZ7FMb/RKU4eczxLgI4w21ugTSTGNGaobJQusqpWCxzW+seuPKfA95VW5Zksm\n",
       "Ykv6n+0AeVpWWVClsJ46izzchAJqKPg7ozCt8nRnPYI05rKGIXCYPvw49up1HwbivpNT4xzZOXCh\n",
       "vSRUmCktdaKEJ8cxOMuCd55MhB0KdcnWjO+IOD9w9SWUoG3dKMa3IOvrt+ecKkQJAAACIUGa10nh\n",
       "DyZTBRE8Ev/+tSqAAb2q3HUiEPFZhqHurpki4YJNYnFUROTn0bWIKp4+3gQIX7+VB8WCOXsOW/af\n",
       "hC6UvqihwgvxeieQ4LuNhZJ23dXrmKNdHYYkZHP+x1gKI8ISEcBQCQhjeWt5h09974qERsqmfRjq\n",
       "ep83jiNnzP8YM9XL+Zm9oPIbr0ixtYjiGTUXbWXd5NfdkIWc8lfQpaGV2Ht9say1lrFUpeFaG47O\n",
       "DZ7NN7FAq/AcSbKWTSbabOpMRXcE3365k0zk0eGlNMDYJdZW9ux4iuWmucpjrO+x6pvTgCQVr6Fq\n",
       "xPZevUqFg9LT5PCCpFMR2SFkUOC+K5PqKrvDzYah6FHn9v3Ev2Jxd3tUi9EV2MLroRCHTJg3VBEh\n",
       "ML9qfpulVLtMYdQ/gPD+Et3S01XcwtSv+4gj2kc9+EzcZR2JAG4GGA9zjATN2mFeaUg7b91btfV/\n",
       "mGMXpTxGQT6I0QwxiNeqqMbZvjVg/8RfmdLoQv/UOdmK7EQ+XcjFzlbyRjoE7b5I1/nw8A2EcCBV\n",
       "4DoHHYrl6OaLGXZw3SaI7zfDkPKTyF/r06uybCddHKlEP/ZTYdoH/qg3EYxAerk+Kw/DV+zHbNV+\n",
       "yKvQqaqdznwygML1ioCxtcm/QF0WaZs3WMIEmHN3RYdD12eY6lg2pHyBCnvuz6wkHEDl+19DHnYz\n",
       "o/MHeBWyBd1L5NcCdrttvb+k6XNWLl07oj6hAAAAvQGe9mpD/wAENYkNBuEcif+/mPUbJ4Jqrrqs\n",
       "VBuvTxMz6S55PkXKSrjqtJaMofjnwo0G7Fss7j1yFfZc+Mi6+/vzZ+QoAW26LR3bwO4aKa3PtVSY\n",
       "3NF0F4S0+c5Ko/tqYihHdHke2cn3wxxjHpu9zfcpdifszJEVX42+Tg/Tf+ji0FXgME28rgYhwPN7\n",
       "m9PSrFsZ8qfymeCWJDb3LvRaCKDdEJxZV+f6Rixn2f3zXH/ezg/4iXUOwP3Pc2vHTQAAAWxBmvhJ\n",
       "4Q8mUwIJf/61KoABs6oI/Qn3yCYI9kSXgj2933uq8uLW+gGov5JlNPaG1nptdXWpCIx/6DV721H6\n",
       "lppAGixivHaUDD2SbeGEnoNIlfmb5i95FKbzFgUkZhUtbteJadkTZ6uLe6yAeVnKBH2qTtA8spvn\n",
       "n//BlvFf+lunW748c4alimP7RZQ1sd8GlgUFOePDq2l3nQpFc+2D4z8CgFg2sHMI5re1hndUsApx\n",
       "vM/ujsyiAmeU6ho42hLDjrR69W0lNIC1egj1s/ZmjL4ndugQxdIDk1uWmH9+Iu5fL3BSlwRbktwv\n",
       "DHydc995Elqp+V8lU7KOj9Ix+ZvhIS2WT7+IXGWoVAfQzBh/Uog9bRATua4Ud52RAjHefFaR9PGG\n",
       "NERgGscmPDpiUItxLciQVz58nfGTACWAGvfStISYxfrGe5hwdckU+sfAYBGDrTOOoBaLq6GQukj8\n",
       "a0l+El6549qjGx/qbS8yDtKBAAAB20GbGUnhDyZTAgl//rUqgAGpoEKfjwkQW0y33/ILL92sGRGS\n",
       "9AABFy5HdCf2dGD1LOnVjBM5Jv92efwyvNpcCFUYTVHxXuhkI7OdeuVQzao9N6zENA+tckE6ZD3j\n",
       "+y73DWd6jNEHidg9rGRRr7ouF74eer1MM9+bf4l7nuf2AXz6mewzo+aVaBwbntE5ohpr9wN3TFOf\n",
       "C6/qLnRj0GFTMsuNaY46LiJjtRIuco+DeUBk/9aG6hVQGXh4Jb3ZrWTdLdIs/W1nTDqY0zD2Mjkb\n",
       "b5LYO4nzUmqLopNkCPyXiNti5iIhyf7gee9Ipo9HNRQqtiNuaWeLG/6x/PpeTaei9MNrK/FjVOqt\n",
       "5iNLB2o9qJ6VHJSqLyst68JnT0OhnjHNSUbyjAF1UbFUaYxNqS4IV2ysVqkdX1YoMvUiIK4e1iBD\n",
       "Cd3BZBGN6O4cHQoJleVB+xxNjz6ZalOIljQbnjHF5U6eyhB1/mZHr+/NN1EbEURVTpCzBy9UE1yg\n",
       "A3f6Hor0eu1ZYGz4soMN0ygtm4/w8D2N3/6V+8U4Kqp1ZcMdxEaFaLOhiKNmkKdhQFP+L9TP7hLy\n",
       "3ENLdmj2YcOfKmWfEiBl3sp6Fq41BZyRfj7ECYOd9/uXnS3t/4BCckkAAAFaQZs7SeEPJlMFETwS\n",
       "//61KoABstJWumYHbil0vFeHDLUWmmszKOhHoQlwzKMUt3PPCAYxHiK5OFqoeA7VNbFCYKRAY9W/\n",
       "EIKuk3LvbsI41Bscidcz5vHvu4AXABCSmDVJeiux/PyaUkp8R5iVZ9iqJa3tW+QWOZMbgFUf75Zc\n",
       "vAdLHYAKOUYn69MwNJbJLyazqzhWnfBr30M0xl0UugXSY011TNZgAkDCmePoxZTv0lY5xZw0amEt\n",
       "85GuWH+gy/ieeZA3xebfJOxm7U64a3bpeIdkSGVRNbTcduMsE80i/1ETCmw2I5ZGeiktQDGXspwF\n",
       "hy/Uok5pdevxgKRSp4JX4ppev13zKzp+eW8QdlrGhNtK5HXfuNp/mnMO27+VL/cHp7yZKd20m9J6\n",
       "NqMO0MGZz936jeGk4yCCh1Zxw4H24XZKjEN2A4PMkZkzg3ECLQpRQ1LOTnF7PsVKyQAAANsBn1pq\n",
       "Q/8ABBYDhnO9jKoThWe/SsH7FavOu5unTUmNLfUO+EGeaQRdg1HFSg60MijbGlDEndnJzkza3I19\n",
       "pgBdX48tUQSfrifoIUUMgp1i/9NC3B2RiqoSBfwTPyNeTuGbBqUjvr2qcp8Iqpkqg3mQIIHuJ6tW\n",
       "ZGIpUVxyk829QroWEjHBPMjbZbWdWie4sFNsaIf4sgbt9IJAsmiiEQkagasv7eCuo+8VM2zshjdy\n",
       "Za3wLT2c6ik6FWKgEerbuosR60bgnqHaQpKhd7+3oSFeD0CTtWnKAQPk94AAAAENQZtcSeEPJlMC\n",
       "CX/+tSqAAZ7UqUXItMNQIIAcmqHhNkl/uoY68khpUbyKWGmqk7jIKOMPXH/1llGr/wSUEJ0v58ET\n",
       "dy/1ghVx1BY5ZOrBWirlHtJiSXwYOhGn36ukXDZfIKzgW7ZS4xSrvx+g/7b7WwYZDUdoEpg0L/tE\n",
       "8mslBxerGMbR3qFiT8higgv7K++IxQ2K72CJdotGM93N8QmQRpbYCbE07DgZmWHn9sfV6pycEGPT\n",
       "nZ4yRxy+H8/W+rb3HIkKj9dEa30et0CNpnNf2bC+Ti+5taZpDxltUqcHRgjJiNfhqoRqwr0QePCs\n",
       "TJIStEr7xut0vDuXIIzCtoopKlncwy2sOb+UV6B3ksEAAAGxQZt9SeEPJlMCCX/+tSqAAajSVnVS\n",
       "7hUoMOY3lxB8Mt4dgAbjwABwVKrWTV6MbOROAQTSCzspsfXXI2VKCu9O9761WPUmyoCEOS90joMD\n",
       "ewYveZo3Hy3PvPhGkGVrNl4jz8J0vrDUdQ9bH5Fk76/tGFT/V68a/QM7sKYnlHUu74gwatf4GVws\n",
       "3lcbjSTWfEcGiq+Amygh6QgC7PiliCBQ1sBvmRKre4tpjZsq65u5ExDoFoXDqg9luoC128DhKNYy\n",
       "2g0UMQFxuPTDCRolwpGemu9SCyIxs5AHYkgNkWgLTpIgafNH/Cq/FvJDg7hJ6d89TyRPKnELgiAR\n",
       "b6+inOcCpvNzYb8wc0sf95KzmyP/ALi1Q6nl/dh/muzap+d+thGO+G53OJQSpl1KrRbOsBZLe6eu\n",
       "CKX5C4723DJge6xvXRJs9HQ46tf3w+RqhVhfbPzWYUUdmOhaXYy1s7rvUIXZcNogjVNyWp5Jbzw+\n",
       "Ao4UwGP/ZgP1jYFP8yNjYXa4DwoOOhZVGd3ClLcOrSZMUkINlcPfrsbPostjL0Q8hhOv3eo84TbT\n",
       "oqEAAHtAiHVJnhkx4QAAAYNBm55J4Q8mUwIJf/61KoABtLL24Tj/9PeIELFJi1sBCOIiNmxPKEfI\n",
       "J+Q1fp5oxeMLZb1LPOifgo7sFtUfTG5p+cluanxh264jep6442ZlXTtSbEPTm35glOikSoxqihkh\n",
       "3LrY1ibB2rhTpYKot/wa1Z5dF/kaWDNefPGQijmYEhHod43qGJTd46klXprRX5T3WBfDd+pFKmSC\n",
       "Y+zgRI0uHyFF5JrAsXeBbxtKkHimKuTPIGJ7RVTvaaRrN00owy8UFK9YJlZSPrltF58BIMEJdtKl\n",
       "Y4XAJjbThw4boPmY+vxAc06/OF4VbQy51DYU0+YZltYT6UNPOGTPaKUKHaUPJbgcBpM1mmZ+lLUe\n",
       "y0oLTDmz16IynvMnCaCryiEqkQEM2Dtuha45OxhgN/V2hWKF1P1agA/PbvlHA41qbhrUt3j6v/Jn\n",
       "tgVaEG1lrByxXkCra6r7l0yv7O7HrbJLtXKEmFoxp1Uvn8QsKd2CY3RLeR0me2//jbnXzc4eHFA7\n",
       "hw3F+iAAAAFhQZugSeEPJlMFETwQ//6qVQADZXrnCL8lCZ824FA9orqCmDvqMtqFC/tN1AL3i97E\n",
       "H9E/ineieccBiPws1q33r2ACBRwuMhOm7jWEoCIr7dUWPQtm2n0cPs7qzvdv1ZgV2Nx2B3lFazMA\n",
       "KzBFOcaCNWbCgPn/82Dc9mRYm0xRlDNfz+jsfow89sW74FJxx/jPh+R0wz+GcOk56fOJBs0dQ/08\n",
       "SDvTmCWyrKsJZOChUgz8IWmM86yxjrT+E7w9ydBOVXDR4xUrXuHYmtmT2XtJRL8+xqyvLVWiqzht\n",
       "eaJRIyIJMt/WGNduHo6NEsNXD2FAF7vFDrZyvRwbConYF3vPqTskEoJtY3AcW35LmkDS35QA7u0d\n",
       "GIz51M5KUh0I19FQtcLxJ+7mpOLZkQbpcfhjjdoeMOJLKi0kliPDYFNZUScq2iu6NW5c6qZnS0KD\n",
       "pJt4ydCF2VJ7bO3b3mx4+jiPo0AAAAESAZ/fakP/AAG16HXVDKo6VC216mB6gW5kzkSubMYYJ5Ez\n",
       "1Ld6/Gk1OLCm+65Qqi6ItgglroeB9MIs7hNirNFDarM37C9IpczEpBTE5DJfKc49JMVQAscsZc9I\n",
       "UAcZIcNGpSCj/pCvmDdOQm9xgtkjY0WuK9B7VaV6f3xzLt0774N6IiP6Szer8OGmcF2tfUKkmnpu\n",
       "UR+44V9G0dlJy1Z6bU+8oEZyBfv2G9nDqRH1xgiL7rnzgO9qmM9ae+wcqHQlcFL++aOg8AMea5Mv\n",
       "houoe9tYgufwrZSJXrYdHEouC1p2JuL1i/jJQlxPo7aoXkrfiFF3bUcxraspxDf5L7O9FJxhxGPX\n",
       "hzm1/ko+42LiRB4GiQAAAPdBm8FJ4Q8mUwIf//6plgANRaihM+47vQN/D3Jw+dyjywOulrKlB2am\n",
       "J17If5EdJYYMgG2QVmw/DP54Qa1USFo5fnCD2qz++YmPbPMQFHxCS75uVbRt7RYcN+VrvF31IK7M\n",
       "sSqjxbACvJ/sIOaZrZbsZOWhSW8bTW+lmJMiejYZOJZPQv2zhfSx5NwT/PT675tnAxzaczF3an5R\n",
       "xhveqoZWHUsqE6BPsuZzbnqiQCI0OHVPzUX5CTx73g97U0OtQtbdwHYDIDv8pkKlROw1wT/2R0rI\n",
       "aUvqAhriuFI2LahofuaFlhur+yZAIuMtvE5FXgZeQfevOAhAAAAGaW1vb3YAAABsbXZoZAAAAAAA\n",
       "AAAAAAAAAAAAA+gAAEyQAAEAAAEAAAAAAAAAAAAAAAABAAAAAAAAAAAAAAAAAAAAAQAAAAAAAAAA\n",
       "AAAAAAAAQAAAAAAAAAAAAAAAAAAAAAAAAAAAAAAAAAAAAAAAAAIAAAWUdHJhawAAAFx0a2hkAAAA\n",
       "AwAAAAAAAAAAAAAAAQAAAAAAAEyQAAAAAAAAAAAAAAAAAAAAAAABAAAAAAAAAAAAAAAAAAAAAQAA\n",
       "AAAAAAAAAAAAAAAAQAAAAAKAAAAB4AAAAAAAJGVkdHMAAAAcZWxzdAAAAAAAAAABAABMkAAAEAAA\n",
       "AQAAAAAFDG1kaWEAAAAgbWRoZAAAAAAAAAAAAAAAAAAAKAAAAxAAVcQAAAAAAC1oZGxyAAAAAAAA\n",
       "AAB2aWRlAAAAAAAAAAAAAAAAVmlkZW9IYW5kbGVyAAAABLdtaW5mAAAAFHZtaGQAAAABAAAAAAAA\n",
       "AAAAAAAkZGluZgAAABxkcmVmAAAAAAAAAAEAAAAMdXJsIAAAAAEAAAR3c3RibAAAALdzdHNkAAAA\n",
       "AAAAAAEAAACnYXZjMQAAAAAAAAABAAAAAAAAAAAAAAAAAAAAAAKAAeAASAAAAEgAAAAAAAAAAQAA\n",
       "AAAAAAAAAAAAAAAAAAAAAAAAAAAAAAAAAAAAAAAAABj//wAAADVhdmNDAWQAFv/hABhnZAAWrNlA\n",
       "oD2hAAADAAEAAAMACg8WLZYBAAZo6+PLIsD9+PgAAAAAHHV1aWRraEDyXyRPxbo5pRvPAyPzAAAA\n",
       "AAAAABhzdHRzAAAAAAAAAAEAAABiAAAIAAAAABRzdHNzAAAAAAAAAAEAAAABAAABwGN0dHMAAAAA\n",
       "AAAANgAAAAEAABAAAAAAAQAAGAAAAAABAAAIAAAAAAQAABAAAAAAAQAAGAAAAAABAAAIAAAAAAgA\n",
       "ABAAAAAAAQAAGAAAAAABAAAIAAAAAAEAABgAAAAAAQAACAAAAAACAAAQAAAAAAEAABgAAAAAAQAA\n",
       "CAAAAAACAAAQAAAAAAEAABgAAAAAAQAACAAAAAABAAAQAAAAAAEAABgAAAAAAQAACAAAAAADAAAQ\n",
       "AAAAAAEAABgAAAAAAQAACAAAAAABAAAQAAAAAAEAABgAAAAAAQAACAAAAAABAAAYAAAAAAEAAAgA\n",
       "AAAAAQAAEAAAAAABAAAYAAAAAAEAAAgAAAAAAQAAGAAAAAABAAAIAAAAAAEAABgAAAAAAQAACAAA\n",
       "AAALAAAQAAAAAAEAABgAAAAAAQAACAAAAAABAAAQAAAAAAEAABgAAAAAAQAACAAAAAADAAAQAAAA\n",
       "AAEAABgAAAAAAQAACAAAAAAQAAAQAAAAAAEAABgAAAAAAQAACAAAAAACAAAQAAAAAAEAABgAAAAA\n",
       "AQAACAAAAAADAAAQAAAAAAEAABgAAAAAAQAACAAAAAABAAAQAAAAABxzdHNjAAAAAAAAAAEAAAAB\n",
       "AAAAYgAAAAEAAAGcc3RzegAAAAAAAAAAAAAAYgAAGR8AAAIUAAAA/AAAAVYAAAEEAAAA+wAAATQA\n",
       "AAG6AAAAoAAAAQkAAAEpAAABOwAAAS0AAAEzAAABQAAAASMAAAGuAAABTAAAAJ4AAAH3AAAA9wAA\n",
       "AaAAAAFiAAABqAAAATYAAAGiAAABowAAAXAAAADYAAAB1AAAAeMAAADYAAABgAAAAVMAAAHbAAAB\n",
       "ggAAAPAAAAFoAAAB4wAAARcAAAHRAAABFwAAAZIAAAIHAAAAvAAAAoAAAADHAAABzwAAALUAAAFx\n",
       "AAABwwAAAW4AAAHbAAABjwAAAgoAAAHdAAABcgAAAaoAAAInAAABpgAAAcwAAADpAAACFAAAAckA\n",
       "AACuAAAB0QAAAbEAAAHOAAABvAAAAPsAAAICAAAB1wAAAf0AAAGXAAACHgAAAWQAAAIJAAAB4QAA\n",
       "AggAAAHfAAABbAAAAg8AAAHSAAAB6gAAAVMAAAF1AAACJQAAAMEAAAFwAAAB3wAAAV4AAADfAAAB\n",
       "EQAAAbUAAAGHAAABZQAAARYAAAD7AAAAFHN0Y28AAAAAAAAAAQAAADAAAABhdWR0YQAAAFltZXRh\n",
       "AAAAAAAAACFoZGxyAAAAAAAAAABtZGlyYXBwbAAAAAAAAAAAAAAAACxpbHN0AAAAJKl0b28AAAAc\n",
       "ZGF0YQAAAAEAAAAATGF2ZjYwLjMuMTAw\n",
       "\">\n",
       "  Your browser does not support the video tag.\n",
       "</video>"
      ],
      "text/plain": [
       "<IPython.core.display.HTML object>"
      ]
     },
     "execution_count": 32,
     "metadata": {},
     "output_type": "execute_result"
    },
    {
     "data": {
      "image/png": "[encoded data removed]",
      "text/plain": [
       "<Figure size 640x480 with 1 Axes>"
      ]
     },
     "metadata": {},
     "output_type": "display_data"
    }
   ],
   "source": [
    "cells = np.linspace(1,layer.n,layer.n)\n",
    "\n",
    "t = np.linspace(1,len(redresult),len(redresult))\n",
    "\n",
    "fig, ax = plt.subplots()\n",
    "l, = ax.plot(cells,redresult[0])\n",
    "    \n",
    "plt.ylabel(\"Moisture content [$kg/m^3$]\")\n",
    "plt.xlabel(\"cells\")\n",
    "\n",
    "\n",
    "def animate(i):\n",
    "    l.set_data(cells, redresult[i])\n",
    "\n",
    "ani = animation.FuncAnimation(fig, animate, frames=len(t))\n",
    "\n",
    "from IPython.display import HTML\n",
    "HTML(ani.to_html5_video())"
   ]
  },
  {
   "cell_type": "code",
   "execution_count": null,
   "id": "382553f9-fca2-4aa0-9f6d-69eede45ce82",
   "metadata": {},
   "outputs": [],
   "source": []
  }
 ],
 "metadata": {
  "kernelspec": {
   "display_name": "Python 3 (ipykernel)",
   "language": "python",
   "name": "python3"
  },
  "language_info": {
   "codemirror_mode": {
    "name": "ipython",
    "version": 3
   },
   "file_extension": ".py",
   "mimetype": "text/x-python",
   "name": "python",
   "nbconvert_exporter": "python",
   "pygments_lexer": "ipython3",
   "version": "3.11.6"
  }
 },
 "nbformat": 4,
 "nbformat_minor": 5
}