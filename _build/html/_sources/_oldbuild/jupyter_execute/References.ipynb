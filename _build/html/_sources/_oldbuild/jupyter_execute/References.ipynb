{
 "cells": [
  {
   "cell_type": "markdown",
   "id": "4520ef39-929c-4059-ac30-e41cdd5c1442",
   "metadata": {},
   "source": [
    "<body>\n",
    "    <font size=\"2\">Florian Schnabel, 11807470, SS 2023</font><br />\n",
    "</body>"
   ]
  },
  {
   "cell_type": "markdown",
   "id": "fcb1d489-fa6b-48f5-b50e-ce1598290710",
   "metadata": {},
   "source": [
    "# References\n",
    "\n",
    "\n",
    "```{bibliography}\n",
    ":style: plain\n",
    "```"
   ]
  }
 ],
 "metadata": {
  "kernelspec": {
   "display_name": "Python 3 (ipykernel)",
   "language": "python",
   "name": "python3"
  },
  "language_info": {
   "codemirror_mode": {
    "name": "ipython",
    "version": 3
   },
   "file_extension": ".py",
   "mimetype": "text/x-python",
   "name": "python",
   "nbconvert_exporter": "python",
   "pygments_lexer": "ipython3",
   "version": "3.11.3"
  }
 },
 "nbformat": 4,
 "nbformat_minor": 5
}