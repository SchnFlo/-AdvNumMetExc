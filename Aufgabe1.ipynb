{
 "cells": [
  {
   "cell_type": "markdown",
   "metadata": {},
   "source": [
    "<body>\n",
    "    <font size=\"2\">Florian Schnabel, 11807470, SS 2023</font><br />\n",
    "</body>"
   ]
  },
  {
   "cell_type": "markdown",
   "metadata": {},
   "source": [
    "# Exercise 1 - Heat Conduction with multiple layers and variable properties"
   ]
  },
  {
   "cell_type": "markdown",
   "metadata": {},
   "source": [
    "This script aims to calculate the temperature field across a multi-layered building component. The building component can have any number of layers with varying properties. In addition to that,\n",
    "the thickness of the layer and the number of finite volumes used to discretise\n",
    "the domain can vary. Such a multi-layered building component is shown in {numref}`fig:multilayComp`."
   ]
  },
  {
   "cell_type": "markdown",
   "metadata": {},
   "source": [
    "```{figure} ./Figures/BuildingComponent.png\n",
    "---\n",
    "width: 350px\n",
    "name: fig:multilayComp\n",
    "---\n",
    "Multi-layered building component and discretisation requirements [excersise Description]\n",
    "```"
   ]
  },
  {
   "cell_type": "markdown",
   "metadata": {},
   "source": [
    " To allow a numerical solution of the problem, the partial differential equation for heat conduction must be discretised. The equation for heat conduction is shown in {eq}`heatflow` {cite}`walther2021`:\n",
    " \n",
    "$$\\rho \\cdot c \\cdot \\frac{dT}{dt} = \\nabla (\\lambda \\nabla T) $$ (heatflow)\n",
    "\n",
    "reduced to one dimension:\n",
    "\n",
    "$$ \\rho \\cdot c \\cdot \\frac{dT}{dt} =  \\frac{d}{dx}(\\lambda \\frac{dT}{dx}) $$\n"
   ]
  },
  {
   "cell_type": "markdown",
   "metadata": {},
   "source": [
    "## Space discretisation"
   ]
  },
  {
   "cell_type": "markdown",
   "metadata": {
    "tags": []
   },
   "source": [
    "The discretisation is done using the finite volume method and a representation as RC-Networks. Each cell is represented by a resistance and the conductivity to the neighbouring cells. The conductivity between Interrior cells is calculated as follows (for simplicity, the surface resistance between layers is neglected. $ R_{ci} =0 $ ) {cite}`hagenthoft2001`:"
   ]
  },
  {
   "cell_type": "markdown",
   "metadata": {},
   "source": [
    "$$K_{i-0.5} = \\frac{1}{\\frac{0.5 \\Delta x_{i-1}}{\\lambda_{i-1}} + R_{ci} + \\frac{0.5 \\Delta x_{i}}{\\lambda_{i}}} $$ (conductivityInterior)\n",
    "\n",
    "For a cell inside a layer ($\\lambda_{i-1} = \\lambda_{i} = \\lambda_{i+1}$ and $\\Delta x_{i-1} = \\Delta x_{i} = \\Delta x_{i+1}$) {eq}`conductivityInterior` collapses to {eq}`conductivityInteriorcoll`:\n",
    "\n",
    "$$ K_{i-0.5} = K_{i+0.5} = \\frac{\\lambda_{i}}{\\Delta x_{i}} $$ (conductivityInteriorcoll)\n"
   ]
  },
  {
   "cell_type": "markdown",
   "metadata": {},
   "source": [
    "And for Cells at the boundary:\n",
    "\n",
    "$$ K_{BC,1} = K_{0.5} = \\frac{1}{R_{s,1} + \\frac{0.5 \\Delta x_{1}}{\\lambda_{1}}} $$"
   ]
  },
  {
   "cell_type": "markdown",
   "metadata": {},
   "source": [
    "## Time Integration\n",
    "Using the explicit euler sheme the next Timestep can be calculated as follows:"
   ]
  },
  {
   "cell_type": "markdown",
   "metadata": {},
   "source": [
    " \n",
    "$$\n",
    "\\begin{aligned}\n",
    "    &\\text{for cells at the left boundary:}& &T_1^{n+1} = T_1^n+F_{o,1}^* \\cdot (K_{BC,1} \\cdot   T_{BC}^n  - (K_{BC,l}+K_{2}) \\cdot   T_{1}^n + K_{2} \\cdot   T_{2}^n)& \\\\\n",
    "    &\\text{for interior cells:}& &T_i^{n+1} = T_1^n+F_{o,i}^* \\cdot (K_{i-1} \\cdot   T_{i-1}^n  - (K_{i-1}+K_{i+1}) \\cdot   T_{i}^n + K_{i+1} \\cdot   T_{i+1}^n)& \\\\\n",
    "    &\\text{for cells at the right boundary:}& &T_j^{n+1} = T_j^n+F_{o,j}^* \\cdot (K_{j-1} \\cdot   T_{j-1}^n  - (K_{j-1}+K_{BC,2}) \\cdot   T_{j}^n + K_{BC,2} \\cdot   T_{BC,2}^n)& \\\\\n",
    "\\end{aligned}\n",
    "$$\n",
    "\n",
    "\n",
    "or generally written (based on {cite}`walther2021`):\n",
    "\n",
    "$$ T^{n+1} = T^n + F_{o}^* \\cdot K \\cdot T^n $$ (timeint)\n",
    "\n",
    "\n",
    "\n",
    "With the conductivity matrix $ K $:\n",
    "\n"
   ]
  },
  {
   "cell_type": "markdown",
   "metadata": {},
   "source": [
    "$$ K = \\left [ \n",
    "\\begin{array}{ccccccc}\n",
    "    0 & 0 & 0 & 0 & (...) & 0 & 0 & 0  & 0\\\\\n",
    "    K_{BC,1} & -(K_{BC,1} + K_w) & K_w & 0 & (...) & 0 & 0 & 0 & 0\\\\\n",
    "    0 & K_e & -(K_e + K_w) & K_w & (...) & 0 & 0  & 0 & 0\\\\\n",
    "    (...) & (...) & (...) & (...) & (...) & (...) & (...)  & (...) & (...)\\\\\n",
    "    0 & 0 & 0 & 0 &(...) & K_{e} & -(K_e + K_w) & K_w & 0 \\\\\n",
    "    0 & 0 & 0 & 0 &(...) & 0 & K_{e} & -(K_e + K_{BC,2}) & K_{BC,2} \\\\\n",
    "    0 & 0 & 0 & 0 &(...) & 0 & 0 & 0 & 0 \\\\\n",
    "\\end{array}\n",
    "\\right] $$"
   ]
  },
  {
   "cell_type": "markdown",
   "metadata": {},
   "source": [
    "and the adapted \"resistance\" matrix $F_{o}^*$ (example for layers a,b,c):\n",
    "\n",
    "$$ F_{o}^* = \\left [ \n",
    "\\begin{array}{ccccccc}\n",
    "    F_{o,a}^* & 0\\\\\n",
    "    0 & F_{o,a}^*  & 0\\\\ \n",
    "     &  0 &  (...)  & 0\\\\\n",
    "      &   &  0 & F_{o,b}^* & 0\\\\\n",
    "      &   &    & 0 & F_{o,b}^* & 0\\\\\n",
    "      &   &   &    & 0  &  (...) & 0\\\\\n",
    "      &   &   &   &    & 0 &  F_{o,c}^* & 0\\\\\n",
    "\\end{array}\n",
    "\\right]  \\quad F_{o,i}^* = \\frac{\\Delta t}{\\Delta x_i} \\cdot \\frac{1}{\\rho_i \\cdot c_i}$$\n",
    "\n",
    "with the heat capacity $c_i$ and the density $\\rho_i$."
   ]
  },
  {
   "cell_type": "markdown",
   "metadata": {},
   "source": [
    "### Stability"
   ]
  },
  {
   "cell_type": "markdown",
   "metadata": {},
   "source": [
    "{eq}`stability` shows a condition to ensure $F_o^* \\cdot K$ results in a diagonally dominant (invertible) matrix  as a function of the Fourier’s number {cite}`walther2021`.\n",
    "\n",
    "$$ (1-2 F_o) \\geq 0 \\longrightarrow F_o = \\frac{\\lambda}{\\rho \\cdot c} \\cdot \\frac{\\Delta t}{\\Delta x^2} \\le 0.5 $$ (stability)\n",
    "\n",
    "To insure a stable simulation this condition is tested during the construction of the conductivity matrix $K$."
   ]
  },
  {
   "cell_type": "markdown",
   "metadata": {},
   "source": [
    "### Steady state criteria"
   ]
  },
  {
   "cell_type": "markdown",
   "metadata": {},
   "source": [
    "The simulation stops once a steady state is achieved. The ISO 10211 {cite}`ISO10211` norm gives a steady state criterea for thermal bridges in building constructions. For iterative solvers the following limit is defined:\n",
    "\n",
    "$$ \\sum q_{in} - \\frac{\\sum q}{2} < 0.0001 $$\n",
    "\n",
    "As derived in the exercise the heatflow through the surface of a finite volume can be approximated as follows:\n",
    "\n",
    "$$\n",
    "\\begin{aligned}\n",
    "q_{e} &= \\lambda_e \\cdot \\frac{T_E-T_P}{\\Delta x_e} \\\\\n",
    "q_{w} &= \\lambda_w \\cdot \\frac{T_P-T_W}{\\Delta x_w}\n",
    "\\end{aligned}\n",
    "$$ (flows)\n",
    "\n",
    "\n",
    "Specifing for the first and last cells with $\\Delta x /2$ and $R_{se}$ / $R_{si}$ the heatflow in and out of the construction can be written as:\n",
    "\n",
    "$$\n",
    "\\begin{aligned}\n",
    " q_{in} = K_{BC1} \\cdot (T_{BC1}-T_{1}) \\\\\n",
    " q_{out} = K_{BC2} \\cdot (T_{BC2}-T_{n}) \n",
    "\\end{aligned}\n",
    "$$"
   ]
  },
  {
   "cell_type": "markdown",
   "metadata": {},
   "source": [
    "## Implementation"
   ]
  },
  {
   "cell_type": "code",
   "execution_count": 1,
   "metadata": {},
   "outputs": [
    {
     "name": "stdin",
     "output_type": "stream",
     "text": [
      "Once deleted, variables cannot be recovered. Proceed (y/[n])?  y\n"
     ]
    }
   ],
   "source": [
    "%reset\n",
    "\n",
    "#Libraries\n",
    "import numpy as np\n",
    "import matplotlib.pyplot as plt"
   ]
  },
  {
   "cell_type": "code",
   "execution_count": 2,
   "metadata": {},
   "outputs": [],
   "source": [
    "class boundary:\n",
    "    def __init__(self, temperature1, temperature2, resistance1, resistance2):\n",
    "        self.temperature1 = temperature1\n",
    "        self.temperature2 = temperature2\n",
    "        self.resistance1 = resistance1\n",
    "        self.resistance2 = resistance2"
   ]
  },
  {
   "cell_type": "code",
   "execution_count": 3,
   "metadata": {},
   "outputs": [],
   "source": [
    "class layer:\n",
    "    # n summarizes the number of all cells\n",
    "    # start value for n = number of boundaries, makes place for boundary temp\n",
    "    n=2\n",
    "    # width sumarizes the thickness of all layers\n",
    "    width_sum =0\n",
    "\n",
    "    def __init__(self, material, width, n_cells, thermConduct, heatCap, density):\n",
    "        self.material = material\n",
    "        self.width = width\n",
    "        self.n_cells = n_cells\n",
    "        self.thermConduct = thermConduct\n",
    "        self.heatCap = heatCap\n",
    "        self.density = density\n",
    "\n",
    "        # Adding number of cells and width to class counters\n",
    "        layer.n += self.n_cells\n",
    "        layer.width_sum += self.width"
   ]
  },
  {
   "cell_type": "markdown",
   "metadata": {},
   "source": [
    "### Construction of the layer and boundary objects\n",
    "Input Values according to the excersise description with the following units:\n",
    "* [$\\lambda$]= $W m^{-2} K^{-1}$\n",
    "* [$R_s$]= $W^{-1} m^{2} K$\n",
    "* [$T$]= $^\\circ C$\n",
    "* [$t$]= $m$\n",
    "* [$c$]= $J kg^{-1} K^{-1}$\n",
    "* [$\\rho$]= $kg m^{-3}$\n"
   ]
  },
  {
   "cell_type": "code",
   "execution_count": 4,
   "metadata": {},
   "outputs": [],
   "source": [
    "boundaries = boundary(0,20,0.04,0.10)\n",
    "\n",
    "#Beware, each layer must have at least 3 cells!\n",
    "layers = []\n",
    "layers.append(layer(\"Dämmung\", 0.2, 20, 0.04, 1470, 1000))\n",
    "layers.append(layer(\"STB\", 0.15, 15, 2.3, 1000, 2500))\n",
    "layers.append(layer(\"Putz\", 0.02, 4, 0.9, 1000, 2000))"
   ]
  },
  {
   "cell_type": "markdown",
   "metadata": {},
   "source": [
    "### Definition of the timestep size."
   ]
  },
  {
   "cell_type": "code",
   "execution_count": 5,
   "metadata": {},
   "outputs": [],
   "source": [
    "#Timestep size\n",
    "deltat = 15 #seconds"
   ]
  },
  {
   "cell_type": "markdown",
   "metadata": {},
   "source": [
    "### Construction of the $K$ and $F_o^*$ matrices"
   ]
  },
  {
   "cell_type": "code",
   "execution_count": 6,
   "metadata": {},
   "outputs": [],
   "source": [
    "# reference number of cells to increase readability\n",
    "n = layer.n\n",
    "\n",
    "# Initialising conductivity matrix K, \"resistance\" array Fo, and the error array deltaGrad\n",
    "K = np.zeros((n,n))\n",
    "Fo = np.zeros((n,n))\n",
    "\n",
    "# iterater to keep track of cell numbers\n",
    "counter = 1\n",
    "for layer in layers:\n",
    "    #step size for the current layer\n",
    "    deltaX=layer.width / layer.n_cells\n",
    "\n",
    "    #initialize empty conductivity matrix for the current layer\n",
    "    K_current = np.zeros((n,n))\n",
    "\n",
    "    #defining the \"east\" and \"west\" conductivity for interior cells\n",
    "    K_current[range(counter+1,counter+layer.n_cells),range(counter,counter+layer.n_cells-1)]= layer.thermConduct / deltaX\n",
    "    K_current[range(counter,counter+layer.n_cells-1),range(counter+1,counter+layer.n_cells)]= layer.thermConduct / deltaX\n",
    "    \n",
    "    #defining the \"east\" and \"west\" conductivity for the last and first cell of each layer\n",
    "    #these are added up between layers, thus half the cell distance and inverted\n",
    "    K_current[(counter,counter+layer.n_cells),(counter-1,counter+layer.n_cells-1)]= deltaX / (2 * layer.thermConduct)   \n",
    "    K_current[(counter-1,counter+layer.n_cells-1),(counter,counter+layer.n_cells)]= deltaX / (2 * layer.thermConduct)\n",
    "    \n",
    "    # Filling the \"resistance\" matrix for each layer\n",
    "    Fo[range(counter,counter+layer.n_cells),range(counter,counter+layer.n_cells)] = deltat /(layer.density * layer.heatCap * deltaX)\n",
    "\n",
    "    K += K_current\n",
    "    \n",
    "    #Inverting the Konductivity between surfaces after adding them\n",
    "    K[(counter),(counter-1)] = 1/K[(counter),(counter-1)]\n",
    "    K[(counter-1),(counter)] = 1/K[(counter-1),(counter)]\n",
    "    \n",
    "    #Test stability\n",
    "    F_o = (deltat * layer.thermConduct)/(layer.density * layer.heatCap * deltaX * deltaX)\n",
    "    if F_o > 0.5:\n",
    "        print(\"stability issue: Fourier’s number =\"+ str(F_o) +\"> 0.5\" )\n",
    "        exit()\n",
    "        \n",
    "    counter += layer.n_cells"
   ]
  },
  {
   "cell_type": "code",
   "execution_count": 7,
   "metadata": {},
   "outputs": [],
   "source": [
    "# Boundary Conditions\n",
    "K_l = 1 / (boundaries.resistance1 + 0.5* (layers[0].width / layers[0].n_cells) / layers[0].thermConduct)\n",
    "K_r = 1 / (boundaries.resistance2 + 0.5* (layers[-1].width / layers[-1].n_cells) / layers[-1].thermConduct)\n",
    "\n",
    "K[1,0] = K_l\n",
    "K[len(K)-2,len(K)-1] = K_r"
   ]
  },
  {
   "cell_type": "code",
   "execution_count": 8,
   "metadata": {},
   "outputs": [],
   "source": [
    "#The diagonal of the conductivity matrix is defined as the negative sum of the \n",
    "#\"east\" and \"west\" conductivity for the cell\n",
    "K[range(0,len(K)),range(0,len(K))]= -np.sum(K,axis=1)\n",
    "\n",
    "#free first and last row; this leads to constant temperatures at the boundaries\n",
    "K[0,:]=0\n",
    "K[-1,:]=0"
   ]
  },
  {
   "cell_type": "markdown",
   "metadata": {},
   "source": [
    "### Calculating the temperature field"
   ]
  },
  {
   "cell_type": "code",
   "execution_count": 9,
   "metadata": {},
   "outputs": [],
   "source": [
    "#initialize the temperaturefield\n",
    "T = np.ones(layer.n) * 10\n",
    "\n",
    "#Insert Boundary Konditions\n",
    "T[0]= boundaries.temperature1\n",
    "T[-1]= boundaries.temperature2"
   ]
  },
  {
   "cell_type": "code",
   "execution_count": 10,
   "metadata": {
    "scrolled": true
   },
   "outputs": [],
   "source": [
    "#Calculate the adjusted Matrix outside the loop as both are time independent\n",
    "K=np.dot(Fo,K)\n",
    "T_plus =  np.dot(K,T) + T\n",
    "\n",
    "#Initialize heatflow for the steady state criteria\n",
    "qin = 1\n",
    "qout = 0\n",
    "\n",
    "#Initialize counter to track time\n",
    "t=0\n",
    "#Calculate temperature field until steady state\n",
    "while qin - (qin+qout)/2 > 0.0001:\n",
    "    T=T_plus\n",
    "    T_plus =  np.dot(K,T) + T\n",
    "    \n",
    "    #Calculate the heatflow for the break criteria\n",
    "    qout = abs(K_l*(T_plus[1]-T_plus[0]))\n",
    "    qin = abs(K_r*(T_plus[-1]-T_plus[-2]))\n",
    "    \n",
    "    t += deltat"
   ]
  },
  {
   "cell_type": "markdown",
   "metadata": {},
   "source": [
    "### Results"
   ]
  },
  {
   "cell_type": "code",
   "execution_count": 11,
   "metadata": {},
   "outputs": [],
   "source": [
    "#Calculate cell locations for plot\n",
    "x_pos= np.array([0])\n",
    "counter=0\n",
    "width_sum=0\n",
    "for layer in layers:\n",
    "    width_cell = layer.width / layer.n_cells\n",
    "    x_pos = np.append(x_pos , np.arange(counter+ width_cell/2,layer.width+counter, width_cell))\n",
    "    counter += layer.width\n",
    "    width_sum += layer.width\n",
    "    \n",
    "x_pos = np.append(x_pos ,np.array([width_sum]))"
   ]
  },
  {
   "cell_type": "code",
   "execution_count": 12,
   "metadata": {
    "latex_doc": {
     "figure": {
      "caption": "test",
      "label": "fig:test",
      "placement": "H"
     }
    },
    "tags": []
   },
   "outputs": [
    {
     "data": {
      "image/png": "[encoded data removed]",
      "text/plain": [
       "<Figure size 640x480 with 1 Axes>"
      ]
     },
     "metadata": {},
     "output_type": "display_data"
    }
   ],
   "source": [
    "plt.xlabel(\"x position [m]\")\n",
    "plt.ylabel(\"Temperature [°C]\")\n",
    "plt.plot(x_pos, T_plus, 'o-', alpha=0.65)\n",
    "x_w=0\n",
    "for layer in layers:\n",
    "    plt.plot([x_w,x_w], [-5,35], color='k', alpha=0.7)\n",
    "    x_w += layer.width\n",
    "plt.plot([layer.width_sum,layer.width_sum], [-5,35], color='k', alpha=0.7)\n",
    "plt.title(\"Steady state temperature field in the building Component\")\n",
    "a = np.array([1,-1,3])"
   ]
  },
  {
   "cell_type": "markdown",
   "metadata": {},
   "source": [
    "### Determine the time in hours when a 3-layered component reaches the steady state"
   ]
  },
  {
   "cell_type": "code",
   "execution_count": 13,
   "metadata": {},
   "outputs": [
    {
     "name": "stdout",
     "output_type": "stream",
     "text": [
      "time until steady state: 473.7 h\n"
     ]
    }
   ],
   "source": [
    "print(\"time until steady state: \" + str(round(t/60/60,1)) + \" h\")"
   ]
  },
  {
   "cell_type": "markdown",
   "metadata": {
    "tags": []
   },
   "source": [
    "## References\n",
    "\n",
    "\n",
    "```{bibliography}\n",
    ":style: plain\n",
    "```"
   ]
  }
 ],
 "metadata": {
  "kernelspec": {
   "display_name": "Python 3 (ipykernel)",
   "language": "python",
   "name": "python3"
  },
  "language_info": {
   "codemirror_mode": {
    "name": "ipython",
    "version": 3
   },
   "file_extension": ".py",
   "mimetype": "text/x-python",
   "name": "python",
   "nbconvert_exporter": "python",
   "pygments_lexer": "ipython3",
   "version": "3.11.3"
  }
 },
 "nbformat": 4,
 "nbformat_minor": 4
}
