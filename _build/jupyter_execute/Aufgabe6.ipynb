{
 "cells": [
  {
   "cell_type": "markdown",
   "id": "05773803-444e-45dc-a5d2-246569d90fa1",
   "metadata": {
    "tags": []
   },
   "source": [
    "<body>\n",
    "    <font size=\"2\">Florian Schnabel, 11807470, WS 2024</font><br />\n",
    "</body>"
   ]
  },
  {
   "cell_type": "markdown",
   "id": "088570bf-bfdc-4c43-b219-a168be4b2136",
   "metadata": {},
   "source": [
    "# Excersise 6  - Heated Room"
   ]
  },
  {
   "cell_type": "markdown",
   "id": "59910a21-f48c-46fc-a973-0d91e4a36348",
   "metadata": {},
   "source": [
    "This Report shall include a thermal analysis of a room heated by a single Radiator. In the first part of the analysis, the mechanical fluid problem of the air inside the room will be solved through the use of the openFOAM {cite}`openfoam` library. In the second part, the heat loss and the comfort criteria defined in the EN-ISO-7730 Standard {cite}`ISO7730` is analyzed."
   ]
  },
  {
   "cell_type": "markdown",
   "id": "5a80647c-99b1-4eb2-bcad-d2eb49ac8911",
   "metadata": {},
   "source": [
    "## Problem Description"
   ]
  },
  {
   "cell_type": "markdown",
   "id": "ef7449f7-bbae-49a3-baa8-4e262fedc4fd",
   "metadata": {},
   "source": [
    "### Geometrie"
   ]
  },
  {
   "cell_type": "markdown",
   "id": "46072500-7db9-4f90-a5f2-4367f42317e1",
   "metadata": {},
   "source": [
    "The problem consists of a 6 m by 5 m by 2.6 m room, with two neighboring exterior walls and two neighboring interior walls. The 1 m by 1 m by 0.30 m radiator is positioned in the middle of the longer external Wall. The Situation is shown in  {numref}`fig:Geometry`."
   ]
  },
  {
   "cell_type": "markdown",
   "id": "44f36701-e4f3-4966-af38-30d175437a16",
   "metadata": {
    "tags": []
   },
   "source": [
    "```{figure} ./Figures/Geometry.png\n",
    "---\n",
    "width: 500px\n",
    "name: fig:Geometry\n",
    "---\n",
    "Geometric properties of the problem\n",
    "```"
   ]
  },
  {
   "cell_type": "markdown",
   "id": "d3244539-79d4-46d1-b774-3d493e9f74ef",
   "metadata": {},
   "source": [
    "### Boundary Conditions"
   ]
  },
  {
   "cell_type": "markdown",
   "id": "6fbe52fe-c44c-4f32-bd6f-35b893cde091",
   "metadata": {},
   "source": [
    "The analyzed room represents a room on the ground floor with neighboring rooms on two sides and above. The Problem is defined by four Dirichlet Boundary Conditions:\n",
    "\n",
    "$$\n",
    "\\begin{aligned}\n",
    "    &\\text{Outside Air Temperature:}& & T_a = -10°C& \\\\\n",
    "    &\\text{Ground Temperature:}& & T_g = 5°C& \\\\\n",
    "    &\\text{Neighbouring Room Air Temperature:}& & T_{i,n}=20°C& \\\\\n",
    "    &\\text{Radiator Surface Temperature:}& & T_{r}=55°C& \\\\\n",
    "\\end{aligned}\n",
    "$$"
   ]
  },
  {
   "cell_type": "markdown",
   "id": "405f9145-063c-4054-b427-bd701a1b6bb0",
   "metadata": {
    "tags": []
   },
   "source": [
    "### Component Parameters"
   ]
  },
  {
   "cell_type": "markdown",
   "id": "2b934ec4-9cbf-4ba6-a936-883e83abe3f4",
   "metadata": {},
   "source": [
    "The thermal parameters of floor, ceiling, and walls are shown in {numref}`tab:Material`."
   ]
  },
  {
   "cell_type": "markdown",
   "id": "0c7e8662-660c-494f-a184-28e685a0aa69",
   "metadata": {
    "tags": []
   },
   "source": [
    ":::{table} Component Parameters\n",
    ":name: tab:Material\n",
    ":widths: auto\n",
    ":align: center\n",
    "\n",
    "|Component|Material| thickness in $m$ | thermal conductivity in $Wm^{-2}K^{-1}$ |\n",
    "| --- | --- | :---: | :---: |\n",
    "| Ceiling | Concrete |0.20  |1.00 |\n",
    "| Floor | Screed |0.06  |1.20 |\n",
    "|| Insulation | 0.10 | 0.05 |\n",
    "|| Concrete |0.20  |1.00 |\n",
    "| Outside Wall | Insulation | 0.10 | 0.05 |\n",
    "|| Concrete |0.20  |1.00 |\n",
    "| Inside Wall | Plasterboard | 0.02 | 1.20 |\n",
    "|| Insulation | 0.10 | 0.05 |\n",
    "|| Plasterboard | 0.02 | 1.20 |\n",
    ":::"
   ]
  },
  {
   "cell_type": "markdown",
   "id": "5f202e0a-47b7-4c71-85dd-112083becbdf",
   "metadata": {},
   "source": [
    "## Analysis"
   ]
  },
  {
   "cell_type": "markdown",
   "id": "1a11cbf0-9395-43a3-bc55-35c64ad10bd8",
   "metadata": {},
   "source": [
    "To simplify the exercise, an example of the room is provided. This section describes how the provided example was altered to fit the described Problem."
   ]
  },
  {
   "cell_type": "markdown",
   "id": "ac8d51e9-3795-4812-9eba-c4cf9694a29b",
   "metadata": {},
   "source": [
    "### Software"
   ]
  },
  {
   "cell_type": "markdown",
   "id": "b76188fa-bf30-4a25-897f-d2025cc0c9a6",
   "metadata": {},
   "source": [
    "The Problem is analyzed using the provided openFOAM Docker image: [opencfd/openfoam-run:2306](https://hub.docker.com/layers/opencfd/openfoam-run/2306/images/sha256-fa3d1a6a3c08b8282e2f473d2243a8a6d3097f48c647f8f442cbc41df3961a39?context=explore)."
   ]
  },
  {
   "cell_type": "markdown",
   "id": "e64d4e81-cbaa-4f59-a5a2-049b63292a8e",
   "metadata": {},
   "source": [
    "### Mesh"
   ]
  },
  {
   "cell_type": "markdown",
   "id": "8b7da209-be97-40a8-8a36-8fde1c0adec6",
   "metadata": {},
   "source": [
    "The Mesh is created in two steps. In the first step, a mesh of Hexahedrons is created using `blockMesh`. To improve the quality of the solution in the corners, a mesh refinement is implemented in the following divisions:"
   ]
  },
  {
   "cell_type": "markdown",
   "id": "7b22e703-83a4-4f71-be09-b3f636f1f93b",
   "metadata": {
    "tags": []
   },
   "source": [
    "```none\n",
    "(0.2 0.3 8) //Division 1\n",
    "(0.6 0.40 1) //Division 2\n",
    "(0.2 0.3 0.125) //Division 3\n",
    "```"
   ]
  },
  {
   "cell_type": "markdown",
   "id": "e53a50e2-6c07-471a-a033-d53e736e4437",
   "metadata": {},
   "source": [
    "The Grading is applied in each direction (x,y,z). To account for the complex geometry of the heater, further mesh refinement is applied using `snappyHexMesh`. Around the radiator, a refinement box with 2 x 0.5 x 2 m is applied. To smoothen the transition, three distances of mesh refinement are defined:\n",
    "\n",
    "* 0-15 cm distance: 3 levels\n",
    "* 15-30 cm distance: 2 levels\n",
    "* 30-60 cm distance: 1 level\n",
    "\n",
    "\n",
    "To reduce processing time a minimum mesh size is ensured by setting `minRefinementCells 400`. The Resulting Mesh is shown in {numref}`fig:Mesh` as a cross-section through the radiator."
   ]
  },
  {
   "cell_type": "markdown",
   "id": "86f523bf-134c-40d8-acfd-9bbcf3bee223",
   "metadata": {},
   "source": [
    "```{figure} ./Figures/Mesh.png\n",
    "---\n",
    "width: 500px\n",
    "name: fig:Mesh\n",
    "---\n",
    "Resulting Mesh in the cross-section through the radiator\n",
    "```"
   ]
  },
  {
   "cell_type": "markdown",
   "id": "f0661030-b03a-4443-992c-81a765d2bd72",
   "metadata": {},
   "source": [
    "### Solver"
   ]
  },
  {
   "cell_type": "markdown",
   "id": "cbc63cf5-fd67-489f-90a2-049fde988675",
   "metadata": {},
   "source": [
    "As a solver, the `buoyantSimpleFoam` from the openFOAM [standard solvers](https://www.openfoam.com/documentation/user-guide/a-reference/a.1-standard-solvers) is chosen, as in addition to solving buoyant, turbulent flow, it takes radiative heat transfer into account. To improve to quality of the results, the residuals are reduced as follows:"
   ]
  },
  {
   "cell_type": "markdown",
   "id": "1b5462bf-fda7-4a28-8613-ee96a84d939b",
   "metadata": {},
   "source": [
    "```\n",
    "    p_rgh           1e-2;     -->     p_rgh           1e-4;\n",
    "    U               1e-3;     -->     U               1e-5;\n",
    "    h               1e-3;     -->     h               1e-5;\n",
    "    G               1e-3;     -->     G               1e-5;\n",
    "```\n"
   ]
  },
  {
   "cell_type": "markdown",
   "id": "bd659b5e-900b-4b97-ac8e-10515f9ff963",
   "metadata": {},
   "source": [
    "To increase the rate of convergence the releaxiation factors are increased as follows:"
   ]
  },
  {
   "cell_type": "markdown",
   "id": "6d77a1bb-e5af-4a40-b4cb-896f95ff0836",
   "metadata": {},
   "source": [
    "```\n",
    "    U               0.2;     -->     U               0.7;\n",
    "    h               0.2;     -->     h               0.7;\n",
    "    \"(k|epsilon|R)\" 0.5;     -->     \"(k|epsilon|R)\" 0.5;\n",
    "    G               0.7;     -->     G               0.7;\n",
    "```"
   ]
  },
  {
   "cell_type": "markdown",
   "id": "9b8c664c-28c5-4406-9fc8-e0be3499cd09",
   "metadata": {},
   "source": [
    "#### Turbulance Model"
   ]
  },
  {
   "cell_type": "markdown",
   "id": "5c7aa68a-42d1-496a-a0fe-613971c01b9e",
   "metadata": {},
   "source": [
    "As the vortex field itself is of no particular interest in this exercise, the [`RASModel kEpsilon`](https://www.openfoam.com/documentation/guides/latest/doc/guide-turbulence-ras-k-epsilon.html) is chosen as the turbulence Model."
   ]
  },
  {
   "cell_type": "markdown",
   "id": "a0c3a9df-5005-4220-a1f5-97ed80cf3a5b",
   "metadata": {},
   "source": [
    "#### Radiation Model"
   ]
  },
  {
   "cell_type": "markdown",
   "id": "9d4c5cb8-aff8-4207-aac5-b104da5640c4",
   "metadata": {},
   "source": [
    "As a Radiation Model, the [`viewFactor*-Model`](https://www.openfoam.com/documentation/guides/latest/api/classFoam_1_1radiation_1_1viewFactor.html) is chosen. In Contrast to the opaqueSolid Model, the absorption of radiation by the air is neglected. In other words, only interaction between surfaces is considered. To further reduce processing time, the interaction of surfaces with a view angle lower than 10° is neglected."
   ]
  },
  {
   "cell_type": "markdown",
   "id": "623f7f47-80c8-4c3a-814d-55cb8132c757",
   "metadata": {},
   "source": [
    "### Boundary Conditions"
   ]
  },
  {
   "cell_type": "markdown",
   "id": "9fc8b8d7-2640-48e9-95cf-4a2e49467f73",
   "metadata": {},
   "source": [
    "For boundary faces consisting of layered constructions with known thickness and thermal conductivity, the [`externalWallHeatFluxTemperature`](https://doc.openfoam.com/2306/tools/processing/boundary-conditions/rtm/derived/thermal/externalWallHeatFluxTemperature/) boundary condition can be specified for heat transfer coefficient mode. The in {numref}`tab:Material` listed thermal parameters are applied to the floor, ceiling and walls as follows:"
   ]
  },
  {
   "cell_type": "markdown",
   "id": "a98b10fd-d8e9-4093-930d-f0b8b8ddbf1d",
   "metadata": {},
   "source": [
    "```\n",
    "    ceiling\n",
    "    {\n",
    "        type            externalWallHeatFluxTemperature;\n",
    "        mode            coefficient;\n",
    "        Ta              uniform 293.15;\n",
    "        h               uniform 10;\n",
    "        thicknessLayers (0.1);\n",
    "        kappaLayers     (0.6);\n",
    "        kappaMethod     fluidThermo;\n",
    "        value           $internalField;\n",
    "    }\n",
    "\n",
    "    floor\n",
    "    {\n",
    "        type            externalWallHeatFluxTemperature;\n",
    "        mode            coefficient;\n",
    "        Ta              uniform 293.15;\n",
    "        h               uniform 10;\n",
    "        thicknessLayers (0.1);\n",
    "        kappaLayers     (0.6);\n",
    "        kappaMethod     fluidThermo;\n",
    "        value           $internalField;\n",
    "    }\n",
    "\n",
    "    outsideWalls\n",
    "    {\n",
    "        type            externalWallHeatFluxTemperature;\n",
    "        mode            coefficient;\n",
    "        Ta              uniform 263.15;\n",
    "        h               uniform 25;\n",
    "        thicknessLayers (0.05 0.2);\n",
    "        kappaLayers     (0.05 0.12);\n",
    "        kappaMethod     fluidThermo;\n",
    "        value           $internalField;\n",
    "    }\n",
    "\n",
    "    insideWalls\n",
    "    {\n",
    "        type            externalWallHeatFluxTemperature;\n",
    "        mode            coefficient;\n",
    "        Ta              uniform 293.15;\n",
    "        h               uniform 10;\n",
    "        thicknessLayers (0.1);\n",
    "        kappaLayers     (0.6);\n",
    "        kappaMethod     fluidThermo;\n",
    "        value           $internalField;\n",
    "    }\n",
    "```"
   ]
  },
  {
   "cell_type": "markdown",
   "id": "33422bc8-bb7e-4bfe-88bf-7677d2552166",
   "metadata": {},
   "source": [
    "The radiator is described by a constant surface Temparutere using the `fixedValue` boundary condition."
   ]
  },
  {
   "cell_type": "markdown",
   "id": "41f44c8c-82ed-469d-8e84-84ecba66256a",
   "metadata": {},
   "source": [
    "### Comfort"
   ]
  },
  {
   "cell_type": "markdown",
   "id": "9d41002d-ac98-4b91-841a-7c64b66ede77",
   "metadata": {},
   "source": [
    "To evaluate the thermal comfort in the room, the comfort index PPD and PMV are calculated with the provided `fieldFunctionObjects` according to the *EN-ISO-7730* Standard {cite}`ISO7730`. For persons in the room, the following parameters are defined:"
   ]
  },
  {
   "cell_type": "markdown",
   "id": "e539c96c-e265-43bd-a0e3-f9d764e170ac",
   "metadata": {
    "tags": []
   },
   "source": [
    "```\n",
    "    colthing        0.5;\n",
    "    metabolicRate   1.2;\n",
    "    extWork         0;\n",
    "    relHumidity     60;\n",
    "```"
   ]
  },
  {
   "cell_type": "markdown",
   "id": "3638c1f7-4474-4cb5-83d2-48dfcc08e5ef",
   "metadata": {},
   "source": [
    "### Wall Heatflux"
   ]
  },
  {
   "cell_type": "markdown",
   "id": "4356629d-6d72-4ebd-921e-d9e6d40173d9",
   "metadata": {},
   "source": [
    "The heat flux of the walls is calculated with provided `fieldFunctionObjects`."
   ]
  },
  {
   "cell_type": "markdown",
   "id": "0a254680-b5d9-4344-ac0e-5942b534ec07",
   "metadata": {},
   "source": [
    "## Results"
   ]
  },
  {
   "cell_type": "markdown",
   "id": "871c4a0a-c88e-4107-bbcd-1aebfd525e09",
   "metadata": {},
   "source": [
    "### Analytical Solution"
   ]
  },
  {
   "cell_type": "markdown",
   "id": "14480652-9bbf-4291-91eb-97255d39d178",
   "metadata": {},
   "source": [
    "Simplifying the airmass in the room as a node, the Problem can be solved using the RC-Network described in {ref}`Exercise 2 <sec:Ex2>`."
   ]
  },
  {
   "cell_type": "code",
   "execution_count": 1,
   "id": "78cf8cec-9ff7-4f3f-b49e-c6b9e924a740",
   "metadata": {
    "tags": []
   },
   "outputs": [],
   "source": [
    "#Libraries\n",
    "import numpy as np\n",
    "import matplotlib.pyplot as plt"
   ]
  },
  {
   "cell_type": "code",
   "execution_count": 2,
   "id": "63ebbc09-a0f9-464e-8739-a840fc9ac8f0",
   "metadata": {
    "tags": []
   },
   "outputs": [],
   "source": [
    "class node:\n",
    "    # n summarizes the number of all nodes\n",
    "    n=0\n",
    "    def __init__(self, number,location):\n",
    "        self.number = number\n",
    "        self.location = location\n",
    "        node.n += 1"
   ]
  },
  {
   "cell_type": "code",
   "execution_count": 3,
   "id": "2d8b87a7-4f1a-4bd2-bc88-d8fe016c516d",
   "metadata": {
    "tags": []
   },
   "outputs": [],
   "source": [
    "class conduction:\n",
    "    def __init__(self, fromNode, toNode, conductance):\n",
    "        self.fromNode = fromNode\n",
    "        self.toNode = toNode\n",
    "        self.K = conductance\n",
    "        "
   ]
  },
  {
   "cell_type": "code",
   "execution_count": 4,
   "id": "9362db58-4aa0-4b42-b3b1-fac032295356",
   "metadata": {
    "tags": []
   },
   "outputs": [],
   "source": [
    "class boundary:\n",
    "    def __init__(self, toNode, temp, conductance):\n",
    "        self.toNode = toNode\n",
    "        self.temp = temp\n",
    "        self.K = conductance"
   ]
  },
  {
   "cell_type": "code",
   "execution_count": 5,
   "id": "63f9eff1-65c4-476a-a59b-fddd84c4d423",
   "metadata": {
    "tags": []
   },
   "outputs": [],
   "source": [
    "#u*-values = Rsi * fkonv * U\n",
    "#internal Walls \n",
    "u_i=0.13 * 2.5/(0.13 + 0.02/1.20 + 0.10/0.05 + 0.02 /1.20 + 0.13)\n",
    "A_i=(6+5)*2.6\n",
    "#external Walls\n",
    "u_e=0.13 * 2.5/(0.13 + 0.20/1.00 + 0.10/0.05 + 0.04)\n",
    "A_e=(6+5)*2.6\n",
    "#floor\n",
    "u_f=0.10 * 5/(0.10 + 0.06/1.20 + 0.10/0.05 +0.20/1.00 + 0.04)\n",
    "A_f=(6*5)\n",
    "#ceilling\n",
    "u_c=0.10 * 0.7/(0.10 + 0.20/1.00 +  0.10)\n",
    "A_c=(6*5)\n",
    "#radiator hc=2.5 // Assumption: vertical surfaces dominate\n",
    "u_r=2.5\n",
    "A_r = 1 * 1 * 2 + 0.3 * 1  * 2 + 1 * 0.3 * 2"
   ]
  },
  {
   "cell_type": "code",
   "execution_count": 6,
   "id": "6fe0cc71-d94f-48c8-a7f0-9cc4bb03f18f",
   "metadata": {
    "tags": []
   },
   "outputs": [],
   "source": [
    "nodes = []\n",
    "nodes.append(node(1,[1,0]))\n",
    "\n",
    "boundaries = []\n",
    "#internal Walls \n",
    "boundaries.append(boundary(1,20,u_i*A_i))\n",
    "#external Walls\n",
    "boundaries.append(boundary(1,-10,u_e*A_e))\n",
    "#floor\n",
    "boundaries.append(boundary(1,5,u_f*A_f))\n",
    "#ceilling\n",
    "boundaries.append(boundary(1,20,u_c*A_c))\n",
    "#radiator\n",
    "boundaries.append(boundary(1,55,u_r*A_r))\n",
    "\n",
    "conductions = []"
   ]
  },
  {
   "cell_type": "code",
   "execution_count": 7,
   "id": "dd7c17f4-7a2f-4f56-80aa-72e91b018231",
   "metadata": {
    "tags": []
   },
   "outputs": [],
   "source": [
    "# reference number of nodes to increase readability\n",
    "n = nodes[0].n\n",
    "\n",
    "# Initialising conductivity matrix K\n",
    "K = np.zeros((n,n))\n",
    "\n",
    "# Initialising boundary vector I0\n",
    "I0 = np.zeros((n))\n",
    "\n",
    "# iterater to keep track of cell numbers\n",
    "for node in nodes:\n",
    "    #initialize empty conductivity matrix for the current layer\n",
    "    I0i=0\n",
    "    Ki=0\n",
    "\n",
    "    #Test for connected Boundaries, Sources and Nodes\n",
    "    for boundary in boundaries:\n",
    "        if boundary.toNode == node.number:\n",
    "            Ki += boundary.K\n",
    "            I0i += boundary.K*boundary.temp\n",
    "\n",
    "            \n",
    "    for conduction in conductions:\n",
    "        if conduction.toNode == node.number or conduction.fromNode == node.number:\n",
    "            Ki += conduction.K\n",
    "            \n",
    "    for conduction in conductions:\n",
    "        if conduction.toNode == node.number:\n",
    "            K[node.number-1, conduction.fromNode-1]= conduction.K\n",
    "            K[conduction.fromNode-1, node.number-1]= conduction.K\n",
    "   \n",
    "    #defining the diagonal axis\n",
    "    K[node.number-1, node.number-1]= - Ki\n",
    "    \n",
    "    #defining the I0\n",
    "    I0[node.number-1]= I0i"
   ]
  },
  {
   "cell_type": "markdown",
   "id": "05807644-f2be-4fad-b11d-85affc3dbf02",
   "metadata": {},
   "source": [
    "#### Calculating the mean air temperature"
   ]
  },
  {
   "cell_type": "code",
   "execution_count": 8,
   "id": "82282f93-e82f-409a-be61-cc4b17aa1e2e",
   "metadata": {
    "tags": []
   },
   "outputs": [],
   "source": [
    "T=np.linalg.solve(K,-I0)"
   ]
  },
  {
   "cell_type": "code",
   "execution_count": 9,
   "id": "c071f433-d24b-4919-ad87-057d43cf6307",
   "metadata": {
    "tags": []
   },
   "outputs": [
    {
     "data": {
      "text/plain": [
       "array([22.47987913])"
      ]
     },
     "execution_count": 9,
     "metadata": {},
     "output_type": "execute_result"
    }
   ],
   "source": [
    "T"
   ]
  },
  {
   "cell_type": "markdown",
   "id": "590e0d1e-6468-4e21-8c1f-ab74de0de076",
   "metadata": {},
   "source": [
    "### Numerical Solution"
   ]
  },
  {
   "cell_type": "markdown",
   "id": "d478fa0f-1283-4f13-941c-69d4221f3da5",
   "metadata": {},
   "source": [
    "#### Convergence"
   ]
  },
  {
   "cell_type": "markdown",
   "id": "ac7f71ff-a6b6-417e-b472-24df33a596d9",
   "metadata": {},
   "source": [
    "After 23 600 timesteps, the above-defined convergence criteria have not been reached. A comparison of the simplified analytical solution and the numerical solution is shown in {numref}`plt:convergence`. It is to be mentioned that the analytic solution is sensitive in regard to the convective heat transfer coefficient and the given range for inside climate ($2.5$ to $5 W/m^2K$ depending on surface orientation) has a significant impact on resulting mean air temperature. A possible reason for the numerical instabilities in {numref}`plt:convergence` could be too low relaxiation factors."
   ]
  },
  {
   "cell_type": "code",
   "execution_count": 10,
   "id": "f85e6320-8237-4b97-bea3-b92420429536",
   "metadata": {
    "tags": [
     "hide-output",
     "hide-input"
    ]
   },
   "outputs": [
    {
     "data": {
      "image/png": "[encoded data removed]",
      "text/plain": [
       "<Figure size 640x480 with 1 Axes>"
      ]
     },
     "metadata": {},
     "output_type": "display_data"
    }
   ],
   "source": [
    "import pandas as pd\n",
    "import matplotlib.pyplot as plt\n",
    "\n",
    "\n",
    "df = pd.read_csv(\"./Data/Raum3_insideVolume.csv\")\n",
    "\n",
    "df[\"T_ana\"] = np.ones(len(df[\"avg(T)\"])) * T\n",
    "df[\"avg(T)\"] = df[\"avg(T)\"].apply(lambda x: x/5/6/2.6 - 273.15);\n",
    "\n",
    "plt.plot(df[\"Time\"],df[\"avg(T)\"])\n",
    "plt.plot(df[\"Time\"],df[\"T_ana\"])\n",
    "plt.legend([\"numerical\", \"simplified analytical\"])\n",
    "\n",
    "\n",
    "plt.xlabel(\"timesteps $t$\");\n",
    "plt.ylabel(\"Mean Airtemperatur $T_i$ in $\\degree C$\");\n",
    "plt.savefig('./Figures/convergence.svg');\n"
   ]
  },
  {
   "cell_type": "markdown",
   "id": "b48313cb-670a-4d48-9991-41169c6f3b3f",
   "metadata": {},
   "source": [
    "```{figure} ./Figures/convergence.svg\n",
    "---\n",
    "width: 500px\n",
    "name: plt:convergence\n",
    "---\n",
    "Comparision of mean air temperature as a result of analytical and numerical Solution \n",
    "```"
   ]
  },
  {
   "cell_type": "markdown",
   "id": "2c25d504-f211-499d-b1e2-0de6d013435f",
   "metadata": {},
   "source": [
    "### Temperature and velocity field"
   ]
  },
  {
   "cell_type": "markdown",
   "id": "7db98f1c-75b7-43ac-8e35-ecdc07298a55",
   "metadata": {},
   "source": [
    "{numref}`T-cross` and {numref}`T-1.5m` cross-sections of the temperature field at timestep $t=23600$ are shown.{numref}`Tubes` shows a visualization of the air paths passing through points above the radiator. Both the velocity and the temperature field show the effect of natural convection and the resulting thermal circulation in the room. As a result of the buoyancy, the colder soil temperature, and the lower thermal resistance of the floor, a gradient in the air temperature from the floor (18.03°C) to the ceiling (26.27°C) can be observed."
   ]
  },
  {
   "cell_type": "markdown",
   "id": "bb994c15-9e51-4f86-9af4-03e53bc5c6ad",
   "metadata": {
    "tags": []
   },
   "source": [
    "::::{grid}\n",
    ":gutter: 2\n",
    "\n",
    ":::{grid-item}\n",
    "\n",
    "```{figure} ./Figures/temp.png\n",
    ":width: 100%\n",
    ":name: T-cross\n",
    "\n",
    "Resulting air temperature field in the crossection through the radiator\n",
    "```\n",
    ":::\n",
    ":::{grid-item}\n",
    "\n",
    "```{figure} ./Figures/temp-mid.png\n",
    ":width: 100%\n",
    ":name: T-1.5m\n",
    "\n",
    "Resulting air temperature field at h=1.5 m\n",
    "```\n",
    ":::\n",
    "\n",
    "\n",
    "::::"
   ]
  },
  {
   "cell_type": "markdown",
   "id": "74d95150-b143-48c8-a279-dd8f079aa873",
   "metadata": {},
   "source": [
    "```{figure} ./Figures/tubes.png\n",
    ":width: 100%\n",
    ":name: Tubes\n",
    "\n",
    "Streamlines of the velocity field which pass through above the radiator\n",
    "```"
   ]
  },
  {
   "cell_type": "markdown",
   "id": "f0e1d155-c9f5-440b-9e73-adfc7b9a619a",
   "metadata": {},
   "source": [
    "#### Comfort"
   ]
  },
  {
   "cell_type": "markdown",
   "id": "a659bcd9-6dc8-45c7-a3b8-2c13d6040971",
   "metadata": {},
   "source": [
    "{numref}`PPD-cross` and {numref}`PMV-cross` show the impact of the air temperature gradient on the thermal comfort in the room, with a PPD of $75\\%$ above the floor and a PPD of $10\\%$ below the ceiling. {numref}`PPD-cross` and {numref}`PMV-cross` show a more homogenous distribution in the x and y directions. At a height of 1.5 m, the PPD ranges between $5\\%$ and $30\\%$."
   ]
  },
  {
   "cell_type": "markdown",
   "id": "d2b0a982-45fe-41df-9030-7324293eeaab",
   "metadata": {
    "tags": []
   },
   "source": [
    "::::{grid}\n",
    ":gutter: 2\n",
    "\n",
    ":::{grid-item}\n",
    "\n",
    "```{figure} ./Figures/PPD.png\n",
    ":width: 100%\n",
    ":name: PPD-cross\n",
    "\n",
    "Resulting PPD field in the crossection through the radiator\n",
    "```\n",
    ":::\n",
    ":::{grid-item}\n",
    "\n",
    "```{figure} ./Figures/PPD-mid.png\n",
    ":width: 100%\n",
    ":name: PPD-1_5\n",
    "\n",
    "Resulting PPD field at h=1.5 m\n",
    "```\n",
    ":::\n",
    "\n",
    "\n",
    "::::"
   ]
  },
  {
   "cell_type": "markdown",
   "id": "b175eb22-d504-415a-9964-f40584ce4ee0",
   "metadata": {
    "tags": []
   },
   "source": [
    "::::{grid}\n",
    ":gutter: 2\n",
    "\n",
    ":::{grid-item}\n",
    "\n",
    "```{figure} ./Figures/PMV.png\n",
    ":width: 100%\n",
    ":name: PMV-cross\n",
    "\n",
    "Resulting PMV field in the crossection through the radiator\n",
    "```\n",
    ":::\n",
    ":::{grid-item}\n",
    "\n",
    "```{figure} ./Figures/PMV-mid.png\n",
    ":width: 100%\n",
    ":name: PMV-1_5\n",
    "\n",
    "Resulting PMV field at h=1.5 m\n",
    "```\n",
    ":::\n",
    "\n",
    "\n",
    "::::"
   ]
  }
 ],
 "metadata": {
  "kernelspec": {
   "display_name": "Python 3 (ipykernel)",
   "language": "python",
   "name": "python3"
  },
  "language_info": {
   "codemirror_mode": {
    "name": "ipython",
    "version": 3
   },
   "file_extension": ".py",
   "mimetype": "text/x-python",
   "name": "python",
   "nbconvert_exporter": "python",
   "pygments_lexer": "ipython3",
   "version": "3.11.6"
  }
 },
 "nbformat": 4,
 "nbformat_minor": 5
}