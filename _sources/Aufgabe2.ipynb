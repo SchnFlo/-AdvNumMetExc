{
 "cells": [
  {
   "cell_type": "markdown",
   "metadata": {},
   "source": [
    "<body>\n",
    "    <font size=\"2\">Florian Schnabel, 11807470, SS 2023</font><br />\n",
    "</body>"
   ]
  },
  {
   "cell_type": "markdown",
   "metadata": {},
   "source": [
    "# Exercise 2 - Conduction and Convection with RC-Networks"
   ]
  },
  {
   "cell_type": "markdown",
   "metadata": {},
   "source": [
    "This script aims to calculate the temperatures of an arbitrary number of nodes in a steady state. The nodes themselves are connected through conductances representing convection and thermal heat transfer {numref}`fig:RC-Networks`."
   ]
  },
  {
   "cell_type": "markdown",
   "metadata": {},
   "source": [
    "```{figure} ./Figures/RC-Networks.png\n",
    "---\n",
    "width: 350px\n",
    "name: fig:RC-Networks\n",
    "---\n",
    "Conveductance network with three nodes {cite}`hagenthoft2001`\n",
    "```"
   ]
  },
  {
   "cell_type": "markdown",
   "metadata": {},
   "source": [
    " To allow a numerical solution of the problem, the partial differential equation for heat conduction must be discretised. The equation for heat conduction is shown in {eq}`heatflow` {cite}`walther2021`:\n",
    " \n",
    "$$\\rho \\cdot c \\cdot \\frac{dT}{dt} = \\nabla (\\lambda \\nabla T) $$ (heatflow)\n",
    "\n",
    "reduced to one dimension:\n",
    "\n",
    "$$ \\rho \\cdot c \\cdot \\frac{dT}{dt} =  \\frac{d}{dx}(\\lambda \\frac{dT}{dx}) $$\n"
   ]
  },
  {
   "cell_type": "markdown",
   "metadata": {},
   "source": [
    "## Space discretisation"
   ]
  },
  {
   "cell_type": "markdown",
   "metadata": {
    "tags": []
   },
   "source": [
    "The discretisation is done using the finite volume method and a representation as RC-Networks. Each cell is represented by a resistance and the conductivity to the neighbouring cells. The conductivity between Interrior cells is calculated as follows (for simplicity, the surface resistance between layers is neglected. $ R_{ci} =0 $ ) {cite}`hagenthoft2001`:"
   ]
  },
  {
   "cell_type": "markdown",
   "metadata": {},
   "source": [
    "$$K_{i-0.5} = \\frac{1}{\\frac{0.5 \\Delta x_{i-1}}{\\lambda_{i-1}} + R_{ci} + \\frac{0.5 \\Delta x_{i}}{\\lambda_{i}}} $$ (conductivityInterior)\n",
    "\n",
    "For a cell inside a layer ($\\lambda_{i-1} = \\lambda_{i} = \\lambda_{i+1}$ and $\\Delta x_{i-1} = \\Delta x_{i} = \\Delta x_{i+1}$) {eq}`conductivityInterior` collapses to {eq}`conductivityInteriorcoll`:\n",
    "\n",
    "$$ K_{i-0.5} = K_{i+0.5} = \\frac{\\lambda_{i}}{\\Delta x_{i}} $$ (conductivityInteriorcoll)\n"
   ]
  },
  {
   "cell_type": "markdown",
   "metadata": {},
   "source": [
    "And for Cells at the boundary:\n",
    "\n",
    "$$ K_{BC,1} = K_{0.5} = \\frac{1}{R_{s,1} + \\frac{0.5 \\Delta x_{1}}{\\lambda_{1}}} $$"
   ]
  },
  {
   "cell_type": "markdown",
   "metadata": {},
   "source": [
    "## Time Integration\n",
    "Using the explicit euler sheme the next Timestep can be calculated as follows:"
   ]
  },
  {
   "cell_type": "markdown",
   "metadata": {},
   "source": [
    " \n",
    "$$\n",
    "\\begin{aligned}\n",
    "    &\\text{for cells at the left boundary:}& &T_1^{n+1} = T_1^n+F_{o,1}^* \\cdot (K_{BC,1} \\cdot   T_{BC}^n  - (K_{BC,l}+K_{2}) \\cdot   T_{1}^n + K_{2} \\cdot   T_{2}^n)& \\\\\n",
    "    &\\text{for interior cells:}& &T_i^{n+1} = T_1^n+F_{o,i}^* \\cdot (K_{i-1} \\cdot   T_{i-1}^n  - (K_{i-1}+K_{i+1}) \\cdot   T_{i}^n + K_{i+1} \\cdot   T_{i+1}^n)& \\\\\n",
    "    &\\text{for cells at the right boundary:}& &T_j^{n+1} = T_j^n+F_{o,j}^* \\cdot (K_{j-1} \\cdot   T_{j-1}^n  - (K_{j-1}+K_{BC,2}) \\cdot   T_{j}^n + K_{BC,2} \\cdot   T_{BC,2}^n)& \\\\\n",
    "\\end{aligned}\n",
    "$$\n",
    "\n",
    "\n",
    "or generally written (based on {cite}`walther2021`):\n",
    "\n",
    "$$ T^{n+1} = T^n + F_{o}^* \\cdot K \\cdot T^n $$ (timeint)\n",
    "\n",
    "\n",
    "\n",
    "With the conductivity matrix $ K $:\n",
    "\n"
   ]
  },
  {
   "cell_type": "markdown",
   "metadata": {},
   "source": [
    "$$ K = \\left [ \n",
    "\\begin{array}{ccccccc}\n",
    "    0 & 0 & 0 & 0 & (...) & 0 & 0 & 0  & 0\\\\\n",
    "    K_{BC,1} & -(K_{BC,1} + K_w) & K_w & 0 & (...) & 0 & 0 & 0 & 0\\\\\n",
    "    0 & K_e & -(K_e + K_w) & K_w & (...) & 0 & 0  & 0 & 0\\\\\n",
    "    (...) & (...) & (...) & (...) & (...) & (...) & (...)  & (...) & (...)\\\\\n",
    "    0 & 0 & 0 & 0 &(...) & K_{e} & -(K_e + K_w) & K_w & 0 \\\\\n",
    "    0 & 0 & 0 & 0 &(...) & 0 & K_{e} & -(K_e + K_{BC,2}) & K_{BC,2} \\\\\n",
    "    0 & 0 & 0 & 0 &(...) & 0 & 0 & 0 & 0 \\\\\n",
    "\\end{array}\n",
    "\\right] $$"
   ]
  },
  {
   "cell_type": "markdown",
   "metadata": {},
   "source": [
    "and the adapted \"resistance\" matrix $F_{o}^*$ (example for layers a,b,c):\n",
    "\n",
    "$$ F_{o}^* = \\left [ \n",
    "\\begin{array}{ccccccc}\n",
    "    F_{o,a}^* & 0\\\\\n",
    "    0 & F_{o,a}^*  & 0\\\\ \n",
    "     &  0 &  (...)  & 0\\\\\n",
    "      &   &  0 & F_{o,b}^* & 0\\\\\n",
    "      &   &    & 0 & F_{o,b}^* & 0\\\\\n",
    "      &   &   &    & 0  &  (...) & 0\\\\\n",
    "      &   &   &   &    & 0 &  F_{o,c}^* & 0\\\\\n",
    "\\end{array}\n",
    "\\right]  \\quad F_{o,i}^* = \\frac{\\Delta t}{\\Delta x_i} \\cdot \\frac{1}{\\rho_i \\cdot c_i}$$\n",
    "\n",
    "with the heat capacity $c_i$ and the density $\\rho_i$."
   ]
  },
  {
   "cell_type": "markdown",
   "metadata": {},
   "source": [
    "### Stability"
   ]
  },
  {
   "cell_type": "markdown",
   "metadata": {},
   "source": [
    "{eq}`stability` shows a condition to ensure $F_o^* \\cdot K$ results in a diagonally dominant (invertible) matrix  as a function of the Fourier’s number {cite}`walther2021`.\n",
    "\n",
    "$$ (1-2 F_o) \\geq 0 \\longrightarrow F_o = \\frac{\\lambda}{\\rho \\cdot c} \\cdot \\frac{\\Delta t}{\\Delta x^2} \\le 0.5 $$ (stability)\n",
    "\n",
    "To insure a stable simulation this condition is tested during the construction of the conductivity matrix $K$."
   ]
  },
  {
   "cell_type": "markdown",
   "metadata": {},
   "source": [
    "### Steady state criteria"
   ]
  },
  {
   "cell_type": "markdown",
   "metadata": {},
   "source": [
    "The simulation stops once a steady state is achieved. The ISO 10211 {cite}`ISO10211` norm gives a steady state criterea for thermal bridges in building constructions. For iterative solvers the following limit is defined:\n",
    "\n",
    "$$ \\sum q_{in} - \\frac{\\sum q}{2} < 0.0001 $$\n",
    "\n",
    "As derived in the exercise the heatflow through the surface of a finite volume can be approximated as follows:\n",
    "\n",
    "$$\n",
    "\\begin{aligned}\n",
    "q_{e} &= \\lambda_e \\cdot \\frac{T_E-T_P}{\\Delta x_e} \\\\\n",
    "q_{w} &= \\lambda_w \\cdot \\frac{T_P-T_W}{\\Delta x_w}\n",
    "\\end{aligned}\n",
    "$$ (flows)\n",
    "\n",
    "\n",
    "Specifing for the first and last cells with $\\Delta x /2$ and $R_{se}$ / $R_{si}$ the heatflow in and out of the construction can be written as:\n",
    "\n",
    "$$\n",
    "\\begin{aligned}\n",
    " q_{in} = K_{BC1} \\cdot (T_{BC1}-T_{1}) \\\\\n",
    " q_{out} = K_{BC2} \\cdot (T_{BC2}-T_{n}) \n",
    "\\end{aligned}\n",
    "$$"
   ]
  },
  {
   "cell_type": "markdown",
   "metadata": {},
   "source": [
    "## Implementation"
   ]
  },
  {
   "cell_type": "code",
   "execution_count": 1,
   "metadata": {},
   "outputs": [
    {
     "name": "stdin",
     "output_type": "stream",
     "text": [
      "Once deleted, variables cannot be recovered. Proceed (y/[n])?  y\n"
     ]
    }
   ],
   "source": [
    "%reset\n",
    "\n",
    "#Libraries\n",
    "import numpy as np\n",
    "import matplotlib.pyplot as plt"
   ]
  },
  {
   "cell_type": "code",
   "execution_count": 2,
   "metadata": {},
   "outputs": [],
   "source": [
    "class node:\n",
    "    # n summarizes the number of all nodes\n",
    "    n=0\n",
    "    def __init__(self, number):\n",
    "        self.number = number\n",
    "        node.n += 1\n",
    "    "
   ]
  },
  {
   "cell_type": "code",
   "execution_count": 3,
   "metadata": {
    "tags": []
   },
   "outputs": [],
   "source": [
    "class convection:\n",
    "    def __init__(self, fromNode, toNode, massflow):\n",
    "        self.fromNode = fromNode\n",
    "        self.toNode = toNode\n",
    "        self.massflow = massflow"
   ]
  },
  {
   "cell_type": "code",
   "execution_count": 4,
   "metadata": {},
   "outputs": [],
   "source": [
    "class conduction:\n",
    "    def __init__(self, fromNode, toNode, conductance):\n",
    "        self.fromNode = fromNode\n",
    "        self.toNode = toNode\n",
    "        self.K = conductance\n",
    "        "
   ]
  },
  {
   "cell_type": "code",
   "execution_count": 5,
   "metadata": {
    "tags": []
   },
   "outputs": [],
   "source": [
    "class boundary:\n",
    "    def __init__(self, toNode, temp, conductance):\n",
    "        self.toNode = toNode\n",
    "        self.temp = temp\n",
    "        self.K = conductance"
   ]
  },
  {
   "cell_type": "code",
   "execution_count": 6,
   "metadata": {
    "tags": []
   },
   "outputs": [],
   "source": [
    "class heatSource:\n",
    "    def __init__(self, toNode, power):\n",
    "        self.toNode = toNode\n",
    "        self.power = power"
   ]
  },
  {
   "cell_type": "markdown",
   "metadata": {},
   "source": [
    "### Construction of the node, convection and conduction objects\n",
    "Input Values according to the excersise description with the following units:\n",
    "* [$T$]= $^\\circ C$\n",
    "* [$I$]= $W C$\n",
    "* [$\\overset{.}{M}$]= $kg s^{-1}$\n"
   ]
  },
  {
   "cell_type": "code",
   "execution_count": 7,
   "metadata": {},
   "outputs": [],
   "source": [
    "nodes = []\n",
    "nodes.append(node(1))\n",
    "nodes.append(node(2))\n",
    "nodes.append(node(3))\n",
    "\n",
    "boundaries = []\n",
    "boundaries.append(boundary(1,19,0.1))\n",
    "boundaries.append(boundary(2,25,0.1))\n",
    "boundaries.append(boundary(3,0,0.1))\n",
    "\n",
    "convections = []\n",
    "convections.append(convection(1,2,0.05))\n",
    "convections.append(convection(3,2,0.05))\n",
    "convections.append(convection(1,3,0))\n",
    "\n",
    "conductions = []\n",
    "conductions.append(conduction(1,2,0.1))\n",
    "conductions.append(conduction(2,3,0.1))\n",
    "conductions.append(conduction(1,3,0.1))"
   ]
  },
  {
   "cell_type": "code",
   "execution_count": 8,
   "metadata": {
    "tags": []
   },
   "outputs": [],
   "source": [
    "heatSources = []\n",
    "heatSources.append(heatSource(1,10))\n",
    "heatSources.append(heatSource(2,20))\n",
    "heatSources.append(heatSource(3,10))"
   ]
  },
  {
   "cell_type": "code",
   "execution_count": 9,
   "metadata": {
    "tags": []
   },
   "outputs": [],
   "source": [
    "ca = 1000 #J/kgK"
   ]
  },
  {
   "cell_type": "markdown",
   "metadata": {
    "tags": []
   },
   "source": [
    "## Variant 1 - without convection"
   ]
  },
  {
   "cell_type": "markdown",
   "metadata": {},
   "source": [
    "### Construction of the $K$ matrix and the boundary vector $I_0$"
   ]
  },
  {
   "cell_type": "code",
   "execution_count": 10,
   "metadata": {},
   "outputs": [],
   "source": [
    "# reference number of nodes to increase readability\n",
    "n = nodes[0].n\n",
    "\n",
    "# Initialising conductivity matrix K\n",
    "K = np.zeros((n,n))\n",
    "\n",
    "# Initialising boundary vector I0\n",
    "I0 = np.zeros((n))\n",
    "\n",
    "# iterater to keep track of cell numbers\n",
    "counter = 1\n",
    "for node in nodes:\n",
    "    #initialize empty conductivity matrix for the current layer\n",
    "    \n",
    "    I0i=0\n",
    "    Ki=0\n",
    "    \n",
    "    for boundary in boundaries:\n",
    "        if boundary.toNode == node.number:\n",
    "            Ki += boundary.K\n",
    "            I0i += boundary.K*boundary.temp\n",
    "        \n",
    "    for heatSource in heatSources:\n",
    "        if heatSource.toNode == node.number:\n",
    "            I0i += heatSource.power\n",
    "            \n",
    "    for conduction in conductions:\n",
    "        if conduction.toNode == node.number or conduction.fromNode == node.number:\n",
    "            Ki += conduction.K\n",
    "            \n",
    "    for conduction in conductions:\n",
    "        if conduction.toNode == node.number:\n",
    "            K[node.number-1, conduction.fromNode-1]= conduction.K\n",
    "            K[conduction.fromNode-1, node.number-1]= conduction.K\n",
    "    \n",
    "    #for conduction in conductions:\n",
    "    #    if conduction.fromNode == node.number:\n",
    "    #        K[node.number-1, conduction.toNode-1]= conduction.K\n",
    "    \n",
    "    #for convection in convections:\n",
    "    #    if convection.fromNode == node.number:\n",
    "    #        Ki += conveductance.K + conveductance.massflow * ca\n",
    "    #        K[conveductance.toNode-1 , node.number-1]= conveductance.K + conveductance.massflow * ca\n",
    "    #        K[node.number-1 , node.number-1]= conveductance.K + conveductance.massflow * ca\n",
    "\n",
    "   \n",
    "    #defining the diagonal axis\n",
    "    K[node.number-1, node.number-1]= - Ki\n",
    "    \n",
    "    #defining the I0\n",
    "    I0[node.number-1]= I0i"
   ]
  },
  {
   "cell_type": "code",
   "execution_count": 11,
   "metadata": {
    "tags": []
   },
   "outputs": [
    {
     "name": "stdout",
     "output_type": "stream",
     "text": [
      "[[-0.3  0.1  0.1]\n",
      " [ 0.1 -0.3  0.1]\n",
      " [ 0.1  0.1 -0.3]]\n",
      "0 2\n",
      "[11.9 22.5 10. ]\n",
      "3\n"
     ]
    }
   ],
   "source": [
    "print(K)\n",
    "print(conductions[2].fromNode-1,conductions[2].toNode-1)\n",
    "print(I0)\n",
    "print(n)"
   ]
  },
  {
   "cell_type": "markdown",
   "metadata": {},
   "source": [
    "### Calculating the temperature field"
   ]
  },
  {
   "cell_type": "code",
   "execution_count": 12,
   "metadata": {
    "tags": []
   },
   "outputs": [],
   "source": [
    "T=np.linalg.solve(K,-I0)"
   ]
  },
  {
   "cell_type": "code",
   "execution_count": null,
   "metadata": {
    "scrolled": true
   },
   "outputs": [
    {
     "name": "stdout",
     "output_type": "stream",
     "text": [
      "[140.75 167.25 136.  ]\n"
     ]
    }
   ],
   "source": [
    "print(T)"
   ]
  },
  {
   "cell_type": "code",
   "execution_count": 14,
   "metadata": {
    "latex_doc": {
     "figure": {
      "caption": "test",
      "label": "fig:test",
      "placement": "H"
     }
    },
    "tags": []
   },
   "outputs": [],
   "source": [
    "#plt.xlabel(\"x position [m]\")\n",
    "#plt.ylabel(\"Temperature [°C]\")\n",
    "#plt.plot(x_pos, T_plus, 'o-', alpha=0.65)\n",
    "#x_w=0\n",
    "#for layer in layers:\n",
    "#    plt.plot([x_w,x_w], [-5,35], color='k', alpha=0.7)\n",
    "#    x_w += layer.width\n",
    "#plt.plot([layer.width_sum,layer.width_sum], [-5,35], color='k', alpha=0.7)\n",
    "#plt.title(\"Steady state temperature field in the building Component\")\n",
    "#a = np.array([1,-1,3])"
   ]
  },
  {
   "cell_type": "markdown",
   "metadata": {},
   "source": [
    "## Variant 2 - without convection"
   ]
  },
  {
   "cell_type": "markdown",
   "metadata": {},
   "source": [
    "### Alteration of the $K$ matrix and the boundary vector $I_0$"
   ]
  },
  {
   "cell_type": "code",
   "execution_count": 15,
   "metadata": {
    "tags": []
   },
   "outputs": [],
   "source": [
    "for node in nodes:\n",
    "    for convection in convections:\n",
    "        if convection.fromNode == node.number:\n",
    "            K[node.number-1 , node.number-1] += -convection.massflow * ca\n",
    "            K[convection.toNode-1 , node.number-1] += convection.massflow * ca"
   ]
  },
  {
   "cell_type": "code",
   "execution_count": 16,
   "metadata": {
    "tags": []
   },
   "outputs": [
    {
     "name": "stdout",
     "output_type": "stream",
     "text": [
      "[[-50.3   0.1   0.1]\n",
      " [ 50.1  -0.3  50.1]\n",
      " [  0.1   0.1 -50.3]]\n",
      "0 2\n",
      "[11.9 22.5 10. ]\n",
      "3\n"
     ]
    }
   ],
   "source": [
    "print(K)\n",
    "print(conductions[2].fromNode-1,conductions[2].toNode-1)\n",
    "print(I0)\n",
    "print(n)"
   ]
  },
  {
   "cell_type": "markdown",
   "metadata": {},
   "source": [
    "### Calculating the temperature field"
   ]
  },
  {
   "cell_type": "code",
   "execution_count": 17,
   "metadata": {
    "tags": []
   },
   "outputs": [],
   "source": [
    "T=np.linalg.solve(K,-I0)"
   ]
  },
  {
   "cell_type": "code",
   "execution_count": 18,
   "metadata": {
    "scrolled": true
   },
   "outputs": [
    {
     "name": "stdout",
     "output_type": "stream",
     "text": [
      "[  1.11706349 441.80357143   1.07936508]\n"
     ]
    }
   ],
   "source": [
    "print(T)"
   ]
  }
 ],
 "metadata": {
  "kernelspec": {
   "display_name": "Python 3 (ipykernel)",
   "language": "python",
   "name": "python3"
  },
  "language_info": {
   "codemirror_mode": {
    "name": "ipython",
    "version": 3
   },
   "file_extension": ".py",
   "mimetype": "text/x-python",
   "name": "python",
   "nbconvert_exporter": "python",
   "pygments_lexer": "ipython3",
   "version": "3.11.3"
  }
 },
 "nbformat": 4,
 "nbformat_minor": 4
}
